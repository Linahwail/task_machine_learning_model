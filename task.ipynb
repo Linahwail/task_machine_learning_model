{
 "cells": [
  {
   "cell_type": "code",
   "execution_count": 1,
   "metadata": {},
   "outputs": [],
   "source": [
    "import pandas as pd\n",
    "import matplotlib.pyplot as plt\n",
    "import numpy as np\n",
    "import seaborn as sns \n",
    "import csv"
   ]
  },
  {
   "cell_type": "markdown",
   "metadata": {},
   "source": [
    " Download The datasets"
   ]
  },
  {
   "cell_type": "code",
   "execution_count": 2,
   "metadata": {},
   "outputs": [
    {
     "data": {
      "text/plain": [
       "['.git', 'final_predictions.csv', 'logs.log', 'task.ipynb']"
      ]
     },
     "execution_count": 2,
     "metadata": {},
     "output_type": "execute_result"
    }
   ],
   "source": [
    "import os\n",
    "\n",
    "os.listdir('.')"
   ]
  },
  {
   "cell_type": "code",
   "execution_count": 146,
   "metadata": {},
   "outputs": [],
   "source": [
    "#read the datasets\n",
    "df_train=pd.read_csv(\"C:/Users/wedfa/Downloads/dataset/train.csv\")\n",
    "df_test=pd.read_csv(\"C:/Users/wedfa/Downloads/dataset/test.csv\")"
   ]
  },
  {
   "cell_type": "code",
   "execution_count": 147,
   "metadata": {},
   "outputs": [
    {
     "data": {
      "text/plain": [
       "(6548, 24)"
      ]
     },
     "execution_count": 147,
     "metadata": {},
     "output_type": "execute_result"
    }
   ],
   "source": [
    "df_train.shape"
   ]
  },
  {
   "cell_type": "code",
   "execution_count": 17,
   "metadata": {},
   "outputs": [],
   "source": [
    "#merge the datasete\n",
    "df=pd.concat([df_train,df_test])"
   ]
  },
  {
   "cell_type": "markdown",
   "metadata": {},
   "source": [
    " Explore the datasets"
   ]
  },
  {
   "cell_type": "code",
   "execution_count": 18,
   "metadata": {},
   "outputs": [
    {
     "name": "stdout",
     "output_type": "stream",
     "text": [
      "<class 'pandas.core.frame.DataFrame'>\n",
      "Index: 7366 entries, 0 to 817\n",
      "Data columns (total 24 columns):\n",
      " #   Column                          Non-Null Count  Dtype  \n",
      "---  ------                          --------------  -----  \n",
      " 0   Student ID                      7366 non-null   object \n",
      " 1   Age                             7260 non-null   float64\n",
      " 2   Gender                          7366 non-null   object \n",
      " 3   Home Region                     7363 non-null   object \n",
      " 4   Home City                       7363 non-null   object \n",
      " 5   Program ID                      7366 non-null   object \n",
      " 6   Program Main Category Code      7366 non-null   object \n",
      " 7   Program Sub Category Code       6316 non-null   object \n",
      " 8   Technology Type                 4020 non-null   object \n",
      " 9   Program Skill Level             5520 non-null   object \n",
      " 10  Program Presentation Method     7366 non-null   object \n",
      " 11  Program Start Date              7366 non-null   object \n",
      " 12  Program End Date                7366 non-null   object \n",
      " 13  Program Days                    7366 non-null   int64  \n",
      " 14  Completed Degree                7366 non-null   object \n",
      " 15  Level of Education              7337 non-null   object \n",
      " 16  Education Speaciality           7052 non-null   object \n",
      " 17  College                         2984 non-null   object \n",
      " 18  University Degree Score         7274 non-null   float64\n",
      " 19  University Degree Score System  7274 non-null   float64\n",
      " 20  Employment Status               6730 non-null   object \n",
      " 21  Job Type                        2218 non-null   object \n",
      " 22  Still Working                   2218 non-null   object \n",
      " 23  Y                               6548 non-null   float64\n",
      "dtypes: float64(4), int64(1), object(19)\n",
      "memory usage: 1.4+ MB\n"
     ]
    }
   ],
   "source": [
    "df.info()"
   ]
  },
  {
   "cell_type": "code",
   "execution_count": 19,
   "metadata": {},
   "outputs": [
    {
     "data": {
      "text/html": [
       "<div>\n",
       "<style scoped>\n",
       "    .dataframe tbody tr th:only-of-type {\n",
       "        vertical-align: middle;\n",
       "    }\n",
       "\n",
       "    .dataframe tbody tr th {\n",
       "        vertical-align: top;\n",
       "    }\n",
       "\n",
       "    .dataframe thead th {\n",
       "        text-align: right;\n",
       "    }\n",
       "</style>\n",
       "<table border=\"1\" class=\"dataframe\">\n",
       "  <thead>\n",
       "    <tr style=\"text-align: right;\">\n",
       "      <th></th>\n",
       "      <th>Age</th>\n",
       "      <th>Program Days</th>\n",
       "      <th>University Degree Score</th>\n",
       "      <th>University Degree Score System</th>\n",
       "      <th>Y</th>\n",
       "    </tr>\n",
       "  </thead>\n",
       "  <tbody>\n",
       "    <tr>\n",
       "      <th>count</th>\n",
       "      <td>7260.000000</td>\n",
       "      <td>7366.000000</td>\n",
       "      <td>7274.000000</td>\n",
       "      <td>7274.000000</td>\n",
       "      <td>6548.000000</td>\n",
       "    </tr>\n",
       "    <tr>\n",
       "      <th>mean</th>\n",
       "      <td>26.813912</td>\n",
       "      <td>19.669970</td>\n",
       "      <td>8.244583</td>\n",
       "      <td>9.769728</td>\n",
       "      <td>0.158674</td>\n",
       "    </tr>\n",
       "    <tr>\n",
       "      <th>std</th>\n",
       "      <td>5.527743</td>\n",
       "      <td>31.975408</td>\n",
       "      <td>19.171624</td>\n",
       "      <td>21.248205</td>\n",
       "      <td>0.365400</td>\n",
       "    </tr>\n",
       "    <tr>\n",
       "      <th>min</th>\n",
       "      <td>18.000000</td>\n",
       "      <td>3.000000</td>\n",
       "      <td>0.000000</td>\n",
       "      <td>4.000000</td>\n",
       "      <td>0.000000</td>\n",
       "    </tr>\n",
       "    <tr>\n",
       "      <th>25%</th>\n",
       "      <td>23.000000</td>\n",
       "      <td>5.000000</td>\n",
       "      <td>3.300000</td>\n",
       "      <td>5.000000</td>\n",
       "      <td>0.000000</td>\n",
       "    </tr>\n",
       "    <tr>\n",
       "      <th>50%</th>\n",
       "      <td>25.000000</td>\n",
       "      <td>12.000000</td>\n",
       "      <td>4.000000</td>\n",
       "      <td>5.000000</td>\n",
       "      <td>0.000000</td>\n",
       "    </tr>\n",
       "    <tr>\n",
       "      <th>75%</th>\n",
       "      <td>29.000000</td>\n",
       "      <td>19.000000</td>\n",
       "      <td>4.510000</td>\n",
       "      <td>5.000000</td>\n",
       "      <td>0.000000</td>\n",
       "    </tr>\n",
       "    <tr>\n",
       "      <th>max</th>\n",
       "      <td>58.000000</td>\n",
       "      <td>292.000000</td>\n",
       "      <td>100.000000</td>\n",
       "      <td>100.000000</td>\n",
       "      <td>1.000000</td>\n",
       "    </tr>\n",
       "  </tbody>\n",
       "</table>\n",
       "</div>"
      ],
      "text/plain": [
       "               Age  Program Days  University Degree Score  \\\n",
       "count  7260.000000   7366.000000              7274.000000   \n",
       "mean     26.813912     19.669970                 8.244583   \n",
       "std       5.527743     31.975408                19.171624   \n",
       "min      18.000000      3.000000                 0.000000   \n",
       "25%      23.000000      5.000000                 3.300000   \n",
       "50%      25.000000     12.000000                 4.000000   \n",
       "75%      29.000000     19.000000                 4.510000   \n",
       "max      58.000000    292.000000               100.000000   \n",
       "\n",
       "       University Degree Score System            Y  \n",
       "count                     7274.000000  6548.000000  \n",
       "mean                         9.769728     0.158674  \n",
       "std                         21.248205     0.365400  \n",
       "min                          4.000000     0.000000  \n",
       "25%                          5.000000     0.000000  \n",
       "50%                          5.000000     0.000000  \n",
       "75%                          5.000000     0.000000  \n",
       "max                        100.000000     1.000000  "
      ]
     },
     "execution_count": 19,
     "metadata": {},
     "output_type": "execute_result"
    }
   ],
   "source": [
    "df.describe()"
   ]
  },
  {
   "cell_type": "code",
   "execution_count": 20,
   "metadata": {},
   "outputs": [
    {
     "data": {
      "text/plain": [
       "(7366, 24)"
      ]
     },
     "execution_count": 20,
     "metadata": {},
     "output_type": "execute_result"
    }
   ],
   "source": [
    "df.shape"
   ]
  },
  {
   "cell_type": "code",
   "execution_count": 21,
   "metadata": {},
   "outputs": [
    {
     "data": {
      "text/html": [
       "<div>\n",
       "<style scoped>\n",
       "    .dataframe tbody tr th:only-of-type {\n",
       "        vertical-align: middle;\n",
       "    }\n",
       "\n",
       "    .dataframe tbody tr th {\n",
       "        vertical-align: top;\n",
       "    }\n",
       "\n",
       "    .dataframe thead th {\n",
       "        text-align: right;\n",
       "    }\n",
       "</style>\n",
       "<table border=\"1\" class=\"dataframe\">\n",
       "  <thead>\n",
       "    <tr style=\"text-align: right;\">\n",
       "      <th></th>\n",
       "      <th>Student ID</th>\n",
       "      <th>Age</th>\n",
       "      <th>Gender</th>\n",
       "      <th>Home Region</th>\n",
       "      <th>Home City</th>\n",
       "      <th>Program ID</th>\n",
       "      <th>Program Main Category Code</th>\n",
       "      <th>Program Sub Category Code</th>\n",
       "      <th>Technology Type</th>\n",
       "      <th>Program Skill Level</th>\n",
       "      <th>...</th>\n",
       "      <th>Completed Degree</th>\n",
       "      <th>Level of Education</th>\n",
       "      <th>Education Speaciality</th>\n",
       "      <th>College</th>\n",
       "      <th>University Degree Score</th>\n",
       "      <th>University Degree Score System</th>\n",
       "      <th>Employment Status</th>\n",
       "      <th>Job Type</th>\n",
       "      <th>Still Working</th>\n",
       "      <th>Y</th>\n",
       "    </tr>\n",
       "  </thead>\n",
       "  <tbody>\n",
       "    <tr>\n",
       "      <th>813</th>\n",
       "      <td>c4bd99a6-2902-4822-947e-2a3aab3f1e92</td>\n",
       "      <td>36.0</td>\n",
       "      <td>ذكر</td>\n",
       "      <td>منطقة الرياض</td>\n",
       "      <td>الرياض</td>\n",
       "      <td>1b546d80-2ed0-42e6-9867-61b3d2f92d50</td>\n",
       "      <td>GRST</td>\n",
       "      <td>INFA</td>\n",
       "      <td>NaN</td>\n",
       "      <td>متوسط</td>\n",
       "      <td>...</td>\n",
       "      <td>نعم</td>\n",
       "      <td>البكالوريوس</td>\n",
       "      <td>علوم حاسب</td>\n",
       "      <td>NaN</td>\n",
       "      <td>2.55</td>\n",
       "      <td>5.0</td>\n",
       "      <td>موظف</td>\n",
       "      <td>NaN</td>\n",
       "      <td>NaN</td>\n",
       "      <td>NaN</td>\n",
       "    </tr>\n",
       "    <tr>\n",
       "      <th>814</th>\n",
       "      <td>2e057846-ee90-4b31-b6e7-c1c5122f4cbd</td>\n",
       "      <td>29.0</td>\n",
       "      <td>ذكر</td>\n",
       "      <td>منطقة الرياض</td>\n",
       "      <td>الرياض</td>\n",
       "      <td>aa87165d-cbde-4453-baca-1c8c03775e39</td>\n",
       "      <td>CAUF</td>\n",
       "      <td>CRDP</td>\n",
       "      <td>داعمة</td>\n",
       "      <td>مبتدئ</td>\n",
       "      <td>...</td>\n",
       "      <td>نعم</td>\n",
       "      <td>البكالوريوس</td>\n",
       "      <td>الهندسة الكهربائية</td>\n",
       "      <td>الهندسة والتصنيع والبناء</td>\n",
       "      <td>3.00</td>\n",
       "      <td>4.0</td>\n",
       "      <td>NaN</td>\n",
       "      <td>NaN</td>\n",
       "      <td>NaN</td>\n",
       "      <td>NaN</td>\n",
       "    </tr>\n",
       "    <tr>\n",
       "      <th>815</th>\n",
       "      <td>8f9ff50d-510c-4d56-b0eb-60c2fb1c5e84</td>\n",
       "      <td>32.0</td>\n",
       "      <td>ذكر</td>\n",
       "      <td>منطقة الرياض</td>\n",
       "      <td>الرياض</td>\n",
       "      <td>c49987af-b421-4b88-b36a-a0ec91d95aa3</td>\n",
       "      <td>GRST</td>\n",
       "      <td>INFA</td>\n",
       "      <td>تقليدية</td>\n",
       "      <td>متوسط</td>\n",
       "      <td>...</td>\n",
       "      <td>نعم</td>\n",
       "      <td>البكالوريوس</td>\n",
       "      <td>شبكات حاسب</td>\n",
       "      <td>NaN</td>\n",
       "      <td>3.00</td>\n",
       "      <td>5.0</td>\n",
       "      <td>موظف</td>\n",
       "      <td>NaN</td>\n",
       "      <td>NaN</td>\n",
       "      <td>NaN</td>\n",
       "    </tr>\n",
       "    <tr>\n",
       "      <th>816</th>\n",
       "      <td>8a49b6cd-e7c3-460b-8126-a419cf995e6e</td>\n",
       "      <td>28.0</td>\n",
       "      <td>أنثى</td>\n",
       "      <td>منطقة الرياض</td>\n",
       "      <td>الرياض</td>\n",
       "      <td>899795e1-7bf3-46d0-a58e-824d4033f6da</td>\n",
       "      <td>PCRF</td>\n",
       "      <td>PCRF</td>\n",
       "      <td>تقليدية</td>\n",
       "      <td>متوسط</td>\n",
       "      <td>...</td>\n",
       "      <td>لا</td>\n",
       "      <td>البكالوريوس</td>\n",
       "      <td>نظم معلومات حاسوبية</td>\n",
       "      <td>NaN</td>\n",
       "      <td>4.12</td>\n",
       "      <td>5.0</td>\n",
       "      <td>غير موظف</td>\n",
       "      <td>NaN</td>\n",
       "      <td>NaN</td>\n",
       "      <td>NaN</td>\n",
       "    </tr>\n",
       "    <tr>\n",
       "      <th>817</th>\n",
       "      <td>4a15a037-f5f4-4947-8a67-9f28494a6f26</td>\n",
       "      <td>23.0</td>\n",
       "      <td>ذكر</td>\n",
       "      <td>منطقة الرياض</td>\n",
       "      <td>الرياض</td>\n",
       "      <td>0d6336e2-4a79-4c32-8f15-073f9a4f6976</td>\n",
       "      <td>PCRF</td>\n",
       "      <td>PCRF</td>\n",
       "      <td>تقليدية</td>\n",
       "      <td>مبتدئ</td>\n",
       "      <td>...</td>\n",
       "      <td>نعم</td>\n",
       "      <td>البكالوريوس</td>\n",
       "      <td>هندسة برمجيات</td>\n",
       "      <td>NaN</td>\n",
       "      <td>4.55</td>\n",
       "      <td>5.0</td>\n",
       "      <td>خريج</td>\n",
       "      <td>NaN</td>\n",
       "      <td>NaN</td>\n",
       "      <td>NaN</td>\n",
       "    </tr>\n",
       "  </tbody>\n",
       "</table>\n",
       "<p>5 rows × 24 columns</p>\n",
       "</div>"
      ],
      "text/plain": [
       "                               Student ID   Age Gender   Home Region  \\\n",
       "813  c4bd99a6-2902-4822-947e-2a3aab3f1e92  36.0    ذكر  منطقة الرياض   \n",
       "814  2e057846-ee90-4b31-b6e7-c1c5122f4cbd  29.0    ذكر  منطقة الرياض   \n",
       "815  8f9ff50d-510c-4d56-b0eb-60c2fb1c5e84  32.0    ذكر  منطقة الرياض   \n",
       "816  8a49b6cd-e7c3-460b-8126-a419cf995e6e  28.0   أنثى  منطقة الرياض   \n",
       "817  4a15a037-f5f4-4947-8a67-9f28494a6f26  23.0    ذكر  منطقة الرياض   \n",
       "\n",
       "    Home City                            Program ID  \\\n",
       "813    الرياض  1b546d80-2ed0-42e6-9867-61b3d2f92d50   \n",
       "814    الرياض  aa87165d-cbde-4453-baca-1c8c03775e39   \n",
       "815    الرياض  c49987af-b421-4b88-b36a-a0ec91d95aa3   \n",
       "816    الرياض  899795e1-7bf3-46d0-a58e-824d4033f6da   \n",
       "817    الرياض  0d6336e2-4a79-4c32-8f15-073f9a4f6976   \n",
       "\n",
       "    Program Main Category Code Program Sub Category Code Technology Type  \\\n",
       "813                       GRST                      INFA             NaN   \n",
       "814                       CAUF                      CRDP           داعمة   \n",
       "815                       GRST                      INFA         تقليدية   \n",
       "816                       PCRF                      PCRF         تقليدية   \n",
       "817                       PCRF                      PCRF         تقليدية   \n",
       "\n",
       "    Program Skill Level  ... Completed Degree Level of Education  \\\n",
       "813               متوسط  ...              نعم        البكالوريوس   \n",
       "814               مبتدئ  ...              نعم        البكالوريوس   \n",
       "815               متوسط  ...              نعم        البكالوريوس   \n",
       "816               متوسط  ...               لا        البكالوريوس   \n",
       "817               مبتدئ  ...              نعم        البكالوريوس   \n",
       "\n",
       "    Education Speaciality                   College University Degree Score  \\\n",
       "813             علوم حاسب                       NaN                    2.55   \n",
       "814    الهندسة الكهربائية  الهندسة والتصنيع والبناء                    3.00   \n",
       "815            شبكات حاسب                       NaN                    3.00   \n",
       "816   نظم معلومات حاسوبية                       NaN                    4.12   \n",
       "817         هندسة برمجيات                       NaN                    4.55   \n",
       "\n",
       "    University Degree Score System Employment Status Job Type  Still Working  \\\n",
       "813                            5.0              موظف      NaN            NaN   \n",
       "814                            4.0               NaN      NaN            NaN   \n",
       "815                            5.0              موظف      NaN            NaN   \n",
       "816                            5.0          غير موظف      NaN            NaN   \n",
       "817                            5.0              خريج      NaN            NaN   \n",
       "\n",
       "      Y  \n",
       "813 NaN  \n",
       "814 NaN  \n",
       "815 NaN  \n",
       "816 NaN  \n",
       "817 NaN  \n",
       "\n",
       "[5 rows x 24 columns]"
      ]
     },
     "execution_count": 21,
     "metadata": {},
     "output_type": "execute_result"
    }
   ],
   "source": [
    "df.tail()"
   ]
  },
  {
   "cell_type": "code",
   "execution_count": 22,
   "metadata": {},
   "outputs": [
    {
     "data": {
      "text/plain": [
       "Index(['Student ID', 'Age', 'Gender', 'Home Region', 'Home City', 'Program ID',\n",
       "       'Program Main Category Code', 'Program Sub Category Code',\n",
       "       'Technology Type', 'Program Skill Level', 'Program Presentation Method',\n",
       "       'Program Start Date', 'Program End Date', 'Program Days',\n",
       "       'Completed Degree', 'Level of Education', 'Education Speaciality',\n",
       "       'College', 'University Degree Score', 'University Degree Score System',\n",
       "       'Employment Status', 'Job Type', 'Still Working', 'Y'],\n",
       "      dtype='object')"
      ]
     },
     "execution_count": 22,
     "metadata": {},
     "output_type": "execute_result"
    }
   ],
   "source": [
    "df.columns"
   ]
  },
  {
   "cell_type": "markdown",
   "metadata": {},
   "source": [
    "preprocessing "
   ]
  },
  {
   "cell_type": "code",
   "execution_count": 23,
   "metadata": {},
   "outputs": [
    {
     "data": {
      "text/plain": [
       "Student ID                           0\n",
       "Age                                106\n",
       "Gender                               0\n",
       "Home Region                          3\n",
       "Home City                            3\n",
       "Program ID                           0\n",
       "Program Main Category Code           0\n",
       "Program Sub Category Code         1050\n",
       "Technology Type                   3346\n",
       "Program Skill Level               1846\n",
       "Program Presentation Method          0\n",
       "Program Start Date                   0\n",
       "Program End Date                     0\n",
       "Program Days                         0\n",
       "Completed Degree                     0\n",
       "Level of Education                  29\n",
       "Education Speaciality              314\n",
       "College                           4382\n",
       "University Degree Score             92\n",
       "University Degree Score System      92\n",
       "Employment Status                  636\n",
       "Job Type                          5148\n",
       "Still Working                     5148\n",
       "Y                                  818\n",
       "dtype: int64"
      ]
     },
     "execution_count": 23,
     "metadata": {},
     "output_type": "execute_result"
    }
   ],
   "source": [
    "#display the sum of null values in each column\n",
    "df.isna().sum()"
   ]
  },
  {
   "cell_type": "code",
   "execution_count": 24,
   "metadata": {},
   "outputs": [
    {
     "data": {
      "text/plain": [
       "Student ID                         object\n",
       "Age                               float64\n",
       "Gender                             object\n",
       "Home Region                        object\n",
       "Home City                          object\n",
       "Program ID                         object\n",
       "Program Main Category Code         object\n",
       "Program Sub Category Code          object\n",
       "Technology Type                    object\n",
       "Program Skill Level                object\n",
       "Program Presentation Method        object\n",
       "Program Start Date                 object\n",
       "Program End Date                   object\n",
       "Program Days                        int64\n",
       "Completed Degree                   object\n",
       "Level of Education                 object\n",
       "Education Speaciality              object\n",
       "College                            object\n",
       "University Degree Score           float64\n",
       "University Degree Score System    float64\n",
       "Employment Status                  object\n",
       "Job Type                           object\n",
       "Still Working                      object\n",
       "Y                                 float64\n",
       "dtype: object"
      ]
     },
     "execution_count": 24,
     "metadata": {},
     "output_type": "execute_result"
    }
   ],
   "source": [
    "#data types for all\n",
    "df.dtypes"
   ]
  },
  {
   "cell_type": "code",
   "execution_count": 25,
   "metadata": {},
   "outputs": [
    {
     "data": {
      "text/plain": [
       "(7366, 24)"
      ]
     },
     "execution_count": 25,
     "metadata": {},
     "output_type": "execute_result"
    }
   ],
   "source": [
    "df.shape"
   ]
  },
  {
   "cell_type": "code",
   "execution_count": 28,
   "metadata": {},
   "outputs": [],
   "source": [
    "# fill null values\n",
    "df['Age'].fillna(df['Age'].mean() , inplace=True)"
   ]
  },
  {
   "cell_type": "code",
   "execution_count": 29,
   "metadata": {},
   "outputs": [],
   "source": [
    "#convert float to int\n",
    "df['Age']=df['Age'].astype(int)"
   ]
  },
  {
   "cell_type": "code",
   "execution_count": 30,
   "metadata": {},
   "outputs": [],
   "source": [
    "#drop the student id and program id\n",
    "df = df.drop(['Student ID','Program ID'], axis=1)"
   ]
  },
  {
   "cell_type": "code",
   "execution_count": 31,
   "metadata": {},
   "outputs": [],
   "source": [
    "df['Gender']=df['Gender'].replace({'ذكر':\"0\"}).astype('object')\n",
    "df['Gender']=df['Gender'].replace({'أنثى':\"1\"}).astype('object')"
   ]
  },
  {
   "cell_type": "code",
   "execution_count": null,
   "metadata": {},
   "outputs": [],
   "source": []
  },
  {
   "cell_type": "code",
   "execution_count": 32,
   "metadata": {},
   "outputs": [
    {
     "name": "stdout",
     "output_type": "stream",
     "text": [
      "Gender\n",
      "1    4146\n",
      "0    3220\n",
      "Name: count, dtype: int64\n"
     ]
    }
   ],
   "source": [
    "print(df['Gender'].value_counts())"
   ]
  },
  {
   "cell_type": "code",
   "execution_count": 33,
   "metadata": {},
   "outputs": [],
   "source": [
    "# fill null values\n",
    "df['Home Region'].fillna(df['Home Region'].mode()[0], inplace=True)\n",
    "df['Home City'].fillna(df['Home City'].mode()[0], inplace=True)"
   ]
  },
  {
   "cell_type": "code",
   "execution_count": 34,
   "metadata": {},
   "outputs": [],
   "source": [
    "# fill null values\n",
    "df['Program Sub Category Code'].fillna(df['Program Sub Category Code'].mode()[0], inplace=True)\n",
    "df['Technology Type'].fillna(df['Technology Type'].mode()[0], inplace=True)\n",
    "df['Program Skill Level'].fillna(df['Program Skill Level'].mode()[0], inplace=True)\n"
   ]
  },
  {
   "cell_type": "code",
   "execution_count": 35,
   "metadata": {},
   "outputs": [],
   "source": [
    "#df['Program Presentation Method'] = df['Program Presentation Method'].astype(bool) "
   ]
  },
  {
   "cell_type": "code",
   "execution_count": 36,
   "metadata": {},
   "outputs": [],
   "source": [
    "#conert to a datatime \n",
    "df['Program Start Date'] = pd.to_datetime(df['Program Start Date'])\n",
    "df['Program End Date'] = pd.to_datetime(df['Program End Date'])"
   ]
  },
  {
   "cell_type": "code",
   "execution_count": 37,
   "metadata": {},
   "outputs": [],
   "source": [
    "#df['Completed Degree'] = df['Completed Degree'].astype(bool) "
   ]
  },
  {
   "cell_type": "code",
   "execution_count": 38,
   "metadata": {},
   "outputs": [],
   "source": [
    "# fill null values\n",
    "df['Level of Education'].fillna(df['Level of Education'].mode()[0], inplace=True)\n",
    "df['College'].fillna(df['College'].mode()[0], inplace=True)\n",
    "df['University Degree Score'].fillna(df['University Degree Score'].mean() , inplace=True)\n",
    "df['University Degree Score System'].fillna(df['University Degree Score System'].mean() , inplace=True)\n",
    "df['Education Speaciality'].fillna(df['Education Speaciality'].mode()[0], inplace=True)"
   ]
  },
  {
   "cell_type": "code",
   "execution_count": 39,
   "metadata": {},
   "outputs": [
    {
     "data": {
      "text/plain": [
       "0                         هندسة حاسب الالي\n",
       "1               الإذاعة والتلفزيون والفيلم\n",
       "2                   Information Technology\n",
       "3      حوسبة تطبيقية - (مسار شبكات الحاسب)\n",
       "4                  نظم المعلومات الحاسوبية\n",
       "                      ...                 \n",
       "813                              علوم حاسب\n",
       "814                     الهندسة الكهربائية\n",
       "815                             شبكات حاسب\n",
       "816                    نظم معلومات حاسوبية\n",
       "817                          هندسة برمجيات\n",
       "Name: Education Speaciality, Length: 7366, dtype: object"
      ]
     },
     "execution_count": 39,
     "metadata": {},
     "output_type": "execute_result"
    }
   ],
   "source": [
    "#to know the major \n",
    "df['Education Speaciality']"
   ]
  },
  {
   "cell_type": "code",
   "execution_count": 40,
   "metadata": {},
   "outputs": [],
   "source": [
    "#convert the name of major to one name \n",
    "df['Education Speaciality']=df['Education Speaciality'].replace({'Computer Science':\"Computer Science\"})\n",
    "df['Education Speaciality']=df['Education Speaciality'].replace({'Information technology': 'Information technology'})\n",
    "df['Education Speaciality']=df['Education Speaciality'].replace({'Cyber security': 'Cyber security'})\n",
    "df['Education Speaciality']=df['Education Speaciality'].replace({'امن سيبراني': 'Cyber security'})"
   ]
  },
  {
   "cell_type": "code",
   "execution_count": 41,
   "metadata": {},
   "outputs": [],
   "source": [
    "#convert the name of major to one name\n",
    "df['Education Speaciality']=df['Education Speaciality'].replace({'علوم الحاسبات':\"Computer Science\"})\n",
    "df['Education Speaciality']=df['Education Speaciality'].replace({'علوم حاسب':\"Computer Science\"})"
   ]
  },
  {
   "cell_type": "code",
   "execution_count": 42,
   "metadata": {},
   "outputs": [],
   "source": [
    "#convert the name of major to one name\n",
    "df['Education Speaciality'] = df['Education Speaciality'].replace({\n",
    "    'هندسة برمجيات': 'Software Engineering',\n",
    "    'هندسة حاسب': 'Software Engineering',\n",
    "   'هندسة الحاسب': 'Software Engineering',\n",
    "    'Software Engineering': 'Software Engineering',\n",
    "    'هندسة حاسب آلي': 'Software Engineering',\n",
    "   \"هندسة تقنية برمجيات\": 'Software Engineering',\n",
    "    \"هندسةالبرمجيات\": \"Software Engineering\",\n",
    "})"
   ]
  },
  {
   "cell_type": "code",
   "execution_count": 43,
   "metadata": {},
   "outputs": [],
   "source": [
    "#convert the name of major to one name\n",
    "df['Education Speaciality']=df['Education Speaciality'].replace({\"Computer Network and Communication\":\"Computer Network and Communication\",\"شبكات الحاسب الآلي\":\"Computer Network and Communication\"})"
   ]
  },
  {
   "cell_type": "code",
   "execution_count": 44,
   "metadata": {},
   "outputs": [],
   "source": [
    "#convert the name of major to one name\n",
    "df['Education Speaciality'] = df['Education Speaciality'].replace({\n",
    "    'MIS': 'Information technology',\n",
    "    'نظم معلومات إدارية': 'Information technology',\n",
    "   \"نظم معلومات ادارية\": 'Information technology',\n",
    "})\n"
   ]
  },
  {
   "cell_type": "code",
   "execution_count": 45,
   "metadata": {},
   "outputs": [],
   "source": [
    "#convert the name of major to one name\n",
    "df['Education Speaciality'] = df['Education Speaciality'].replace({\n",
    "    'Information Systems': 'Information technology',\n",
    "    'Computer Information Systems': 'Information technology',\n",
    "    'نظم معلومات': 'Information technology',\n",
    "    'نظم المعلومات الحاسوبية': 'Information technology',\n",
    "    'نظم معلومات الحاسوبية': 'Information technology',\n",
    "    'نظم المعلومات':\"Information technology\",\n",
    "    \"محاسبة\":\"accountant\",\n",
    "    \"تقنية المعلومات\":\"Information technology\",\n",
    "    \"معلوماتية صحية\":\"Health informatics\",\n",
    "    \"بكالوريس خدمة اجتماعيه\":\"social service\",\n",
    "    \"غير متخصص\":\"other\"\n",
    "})\n"
   ]
  },
  {
   "cell_type": "code",
   "execution_count": 46,
   "metadata": {},
   "outputs": [
    {
     "data": {
      "text/plain": [
       "Education Speaciality\n",
       "Computer Science                             2043\n",
       "Information technology                       1743\n",
       "Software Engineering                          222\n",
       "علوم الحاسب                                   205\n",
       "Computer Network and Communication            170\n",
       "                                             ... \n",
       "علوم التغذية                                    1\n",
       "احصاء تطبيقي                                    1\n",
       "اقتصاد منزلي                                    1\n",
       "Applied Computing-Computer Networks Track       1\n",
       "تقنية معلومات - الشبكات وانظمة الاتصالات        1\n",
       "Name: count, Length: 907, dtype: int64"
      ]
     },
     "execution_count": 46,
     "metadata": {},
     "output_type": "execute_result"
    }
   ],
   "source": [
    "df['Education Speaciality'].value_counts()"
   ]
  },
  {
   "cell_type": "code",
   "execution_count": 47,
   "metadata": {},
   "outputs": [],
   "source": [
    "df['Home Region'] = df['Home Region'].replace({\n",
    "    'منطقة الرياض': 'Riyadh region',\n",
    "    'منطقة القصيم': 'Qassim region',\n",
    "    'المنطقة الشرقية': 'Eastern Region',\n",
    "    'منطقة الحدود الشمالية': 'Northern border region',\n",
    "    'منطقة الجوف': 'Al-Jawf region'\n",
    "\n",
    "})\n"
   ]
  },
  {
   "cell_type": "code",
   "execution_count": 48,
   "metadata": {},
   "outputs": [
    {
     "data": {
      "text/plain": [
       "Home Region\n",
       "Riyadh region             5396\n",
       "منطقة مكة المكرمة          677\n",
       "Eastern Region             494\n",
       "منطقة عسير                 192\n",
       "منطقة المدينة المنورة      192\n",
       "Qassim region              116\n",
       "منطقة جازان                 64\n",
       "منطقة تبوك                  59\n",
       "منطقة الباحة                52\n",
       "منطقة حائل                  38\n",
       "منطقة نجران                 31\n",
       "Al-Jawf region              29\n",
       "Northern border region      26\n",
       "Name: count, dtype: int64"
      ]
     },
     "execution_count": 48,
     "metadata": {},
     "output_type": "execute_result"
    }
   ],
   "source": [
    "df[\"Home Region\"].value_counts()"
   ]
  },
  {
   "cell_type": "code",
   "execution_count": 49,
   "metadata": {},
   "outputs": [],
   "source": [
    "df['Home City'] = df['Home City'].replace({\n",
    "    'الرياض': 'Riyadh',\n",
    "    'بريدة': 'Buraidah',\n",
    "    'القطيف': 'Qatif',\n",
    "    'رفحاء': 'Rafha',\n",
    "    'طبرجل': 'Tabarjal'\n",
    "\n",
    "})"
   ]
  },
  {
   "cell_type": "code",
   "execution_count": 50,
   "metadata": {},
   "outputs": [
    {
     "data": {
      "text/plain": [
       "Home City\n",
       "Riyadh             5322\n",
       "جدة                 404\n",
       "المدينة المنورة     143\n",
       "الدمام              128\n",
       "أبها                117\n",
       "                   ... \n",
       "تثليث                 1\n",
       "العرضيات              1\n",
       "الحناكية              1\n",
       "المجاردة              1\n",
       "الدائر                1\n",
       "Name: count, Length: 97, dtype: int64"
      ]
     },
     "execution_count": 50,
     "metadata": {},
     "output_type": "execute_result"
    }
   ],
   "source": [
    "df[\"Home City\"].value_counts()"
   ]
  },
  {
   "cell_type": "code",
   "execution_count": 51,
   "metadata": {},
   "outputs": [
    {
     "name": "stdout",
     "output_type": "stream",
     "text": [
      "Technology Type\n",
      "Traditional    6394\n",
      "ناشئة           489\n",
      "داعمة           483\n",
      "Name: count, dtype: int64\n"
     ]
    }
   ],
   "source": [
    "df['Technology Type'] = df['Technology Type'].replace({\n",
    "    'تقليدية': 'Traditional'})\n",
    "print(df[\"Technology Type\"].value_counts())"
   ]
  },
  {
   "cell_type": "code",
   "execution_count": 52,
   "metadata": {},
   "outputs": [
    {
     "name": "stdout",
     "output_type": "stream",
     "text": [
      "Program Skill Level\n",
      "intermediate    4262\n",
      "beginner        2320\n",
      "advanced         784\n",
      "Name: count, dtype: int64\n"
     ]
    }
   ],
   "source": [
    "df['Program Skill Level'] = df['Program Skill Level'].replace({\n",
    "    'متوسط': 'intermediate',\n",
    "    'مبتدئ': 'beginner',\n",
    "    'متقدم': 'advanced'})\n",
    "print(df[\"Program Skill Level\"].value_counts())"
   ]
  },
  {
   "cell_type": "code",
   "execution_count": 53,
   "metadata": {},
   "outputs": [
    {
     "name": "stdout",
     "output_type": "stream",
     "text": [
      "Program Presentation Method\n",
      "In presence    5580\n",
      "عن بعد         1786\n",
      "Name: count, dtype: int64\n"
     ]
    }
   ],
   "source": [
    "df['Program Presentation Method'] = df['Program Presentation Method'].replace({\n",
    "    'حضوري': 'In presence'})\n",
    "print(df[\"Program Presentation Method\"].value_counts())"
   ]
  },
  {
   "cell_type": "code",
   "execution_count": 54,
   "metadata": {},
   "outputs": [],
   "source": [
    "df['Completed Degree']=df['Completed Degree'].replace({'لا':\"0\"}).astype('object')\n",
    "df['Completed Degree']=df['Completed Degree'].replace({'نعم':\"1\"}).astype('object')"
   ]
  },
  {
   "cell_type": "code",
   "execution_count": 55,
   "metadata": {},
   "outputs": [
    {
     "data": {
      "text/plain": [
       "Completed Degree\n",
       "1    5845\n",
       "0    1521\n",
       "Name: count, dtype: int64"
      ]
     },
     "execution_count": 55,
     "metadata": {},
     "output_type": "execute_result"
    }
   ],
   "source": [
    "df['Completed Degree'].value_counts()"
   ]
  },
  {
   "cell_type": "code",
   "execution_count": 56,
   "metadata": {},
   "outputs": [
    {
     "data": {
      "text/plain": [
       "Level of Education\n",
       "bachelor       6118\n",
       "master          554\n",
       "الدبلوم         354\n",
       "high school     304\n",
       "الدكتوراه        35\n",
       "متوسط             1\n",
       "Name: count, dtype: int64"
      ]
     },
     "execution_count": 56,
     "metadata": {},
     "output_type": "execute_result"
    }
   ],
   "source": [
    "df['Level of Education'] = df['Level of Education'].replace({\n",
    "    'البكالوريوس': 'bachelor',\n",
    "    'الماجستير': 'master',\n",
    "    'ثانوي': 'high school'})\n",
    "df['Level of Education'].value_counts()"
   ]
  },
  {
   "cell_type": "code",
   "execution_count": 57,
   "metadata": {},
   "outputs": [
    {
     "data": {
      "text/plain": [
       "College\n",
       "Information and communications technology    6985\n",
       "الأعمال والإدارة والقانون                     170\n",
       "العلوم الطبيعية والرياضيات والإحصاء            64\n",
       "الهندسة والتصنيع والبناء                       46\n",
       "الفنون والعلوم الإنسانية                       44\n",
       "العلوم الاجتماعية والصحافة والإعلام            29\n",
       "التعليم                                        22\n",
       "الصحة والرفاة                                   4\n",
       "البرامج والمؤهلات العامة                        2\n",
       "Name: count, dtype: int64"
      ]
     },
     "execution_count": 57,
     "metadata": {},
     "output_type": "execute_result"
    }
   ],
   "source": [
    "df['College'] = df['College'].replace({\n",
    "    'تكنولوجيا الاتصالات والمعلومات': 'Information and communications technology'})\n",
    "df['College'].value_counts()"
   ]
  },
  {
   "cell_type": "code",
   "execution_count": 58,
   "metadata": {},
   "outputs": [],
   "source": [
    "#df['Employment Status'] = df['Employment Status'].replace({\n",
    "   # 'موظف': 'employee',\n",
    " #   'خريج': 'graduate',\n",
    " #   'طالب': 'student'})\n",
    "#df['Employment Status'].value_counts()"
   ]
  },
  {
   "cell_type": "code",
   "execution_count": 59,
   "metadata": {},
   "outputs": [
    {
     "data": {
      "text/plain": [
       "Job Type\n",
       "full time    1558\n",
       "training      541\n",
       "دوام جزئي      71\n",
       "تطوع           48\n",
       "Name: count, dtype: int64"
      ]
     },
     "execution_count": 59,
     "metadata": {},
     "output_type": "execute_result"
    }
   ],
   "source": [
    "df['Job Type'] = df['Job Type'].replace({\n",
    "    'دوام كامل': 'full time',\n",
    "    'تدريب': 'training'})\n",
    "df['Job Type'].value_counts()"
   ]
  },
  {
   "cell_type": "code",
   "execution_count": 60,
   "metadata": {},
   "outputs": [
    {
     "data": {
      "text/html": [
       "<div>\n",
       "<style scoped>\n",
       "    .dataframe tbody tr th:only-of-type {\n",
       "        vertical-align: middle;\n",
       "    }\n",
       "\n",
       "    .dataframe tbody tr th {\n",
       "        vertical-align: top;\n",
       "    }\n",
       "\n",
       "    .dataframe thead th {\n",
       "        text-align: right;\n",
       "    }\n",
       "</style>\n",
       "<table border=\"1\" class=\"dataframe\">\n",
       "  <thead>\n",
       "    <tr style=\"text-align: right;\">\n",
       "      <th></th>\n",
       "      <th>Age</th>\n",
       "      <th>Gender</th>\n",
       "      <th>Home Region</th>\n",
       "      <th>Home City</th>\n",
       "      <th>Program Main Category Code</th>\n",
       "      <th>Program Sub Category Code</th>\n",
       "      <th>Technology Type</th>\n",
       "      <th>Program Skill Level</th>\n",
       "      <th>Program Presentation Method</th>\n",
       "      <th>Program Start Date</th>\n",
       "      <th>...</th>\n",
       "      <th>Completed Degree</th>\n",
       "      <th>Level of Education</th>\n",
       "      <th>Education Speaciality</th>\n",
       "      <th>College</th>\n",
       "      <th>University Degree Score</th>\n",
       "      <th>University Degree Score System</th>\n",
       "      <th>Employment Status</th>\n",
       "      <th>Job Type</th>\n",
       "      <th>Still Working</th>\n",
       "      <th>Y</th>\n",
       "    </tr>\n",
       "  </thead>\n",
       "  <tbody>\n",
       "    <tr>\n",
       "      <th>0</th>\n",
       "      <td>37</td>\n",
       "      <td>0</td>\n",
       "      <td>Riyadh region</td>\n",
       "      <td>Riyadh</td>\n",
       "      <td>PCRF</td>\n",
       "      <td>PCRF</td>\n",
       "      <td>Traditional</td>\n",
       "      <td>intermediate</td>\n",
       "      <td>In presence</td>\n",
       "      <td>2023-05-28</td>\n",
       "      <td>...</td>\n",
       "      <td>1</td>\n",
       "      <td>bachelor</td>\n",
       "      <td>هندسة حاسب الالي</td>\n",
       "      <td>Information and communications technology</td>\n",
       "      <td>2.44</td>\n",
       "      <td>4.0</td>\n",
       "      <td>غير موظف</td>\n",
       "      <td>NaN</td>\n",
       "      <td>NaN</td>\n",
       "      <td>0.0</td>\n",
       "    </tr>\n",
       "    <tr>\n",
       "      <th>1</th>\n",
       "      <td>21</td>\n",
       "      <td>0</td>\n",
       "      <td>منطقة عسير</td>\n",
       "      <td>خميس مشيط</td>\n",
       "      <td>APMR</td>\n",
       "      <td>SWPS</td>\n",
       "      <td>Traditional</td>\n",
       "      <td>intermediate</td>\n",
       "      <td>In presence</td>\n",
       "      <td>2023-04-02</td>\n",
       "      <td>...</td>\n",
       "      <td>1</td>\n",
       "      <td>bachelor</td>\n",
       "      <td>الإذاعة والتلفزيون والفيلم</td>\n",
       "      <td>الفنون والعلوم الإنسانية</td>\n",
       "      <td>5.00</td>\n",
       "      <td>5.0</td>\n",
       "      <td>طالب</td>\n",
       "      <td>NaN</td>\n",
       "      <td>NaN</td>\n",
       "      <td>0.0</td>\n",
       "    </tr>\n",
       "    <tr>\n",
       "      <th>2</th>\n",
       "      <td>24</td>\n",
       "      <td>0</td>\n",
       "      <td>Riyadh region</td>\n",
       "      <td>Riyadh</td>\n",
       "      <td>APMR</td>\n",
       "      <td>SWPS</td>\n",
       "      <td>Traditional</td>\n",
       "      <td>intermediate</td>\n",
       "      <td>In presence</td>\n",
       "      <td>2023-07-23</td>\n",
       "      <td>...</td>\n",
       "      <td>1</td>\n",
       "      <td>bachelor</td>\n",
       "      <td>Information Technology</td>\n",
       "      <td>Information and communications technology</td>\n",
       "      <td>3.50</td>\n",
       "      <td>5.0</td>\n",
       "      <td>موظف</td>\n",
       "      <td>NaN</td>\n",
       "      <td>NaN</td>\n",
       "      <td>0.0</td>\n",
       "    </tr>\n",
       "    <tr>\n",
       "      <th>3</th>\n",
       "      <td>23</td>\n",
       "      <td>0</td>\n",
       "      <td>Riyadh region</td>\n",
       "      <td>Riyadh</td>\n",
       "      <td>TOSL</td>\n",
       "      <td>TOSL</td>\n",
       "      <td>Traditional</td>\n",
       "      <td>intermediate</td>\n",
       "      <td>In presence</td>\n",
       "      <td>2023-07-23</td>\n",
       "      <td>...</td>\n",
       "      <td>1</td>\n",
       "      <td>bachelor</td>\n",
       "      <td>حوسبة تطبيقية - (مسار شبكات الحاسب)</td>\n",
       "      <td>Information and communications technology</td>\n",
       "      <td>3.55</td>\n",
       "      <td>5.0</td>\n",
       "      <td>خريج</td>\n",
       "      <td>NaN</td>\n",
       "      <td>NaN</td>\n",
       "      <td>0.0</td>\n",
       "    </tr>\n",
       "    <tr>\n",
       "      <th>4</th>\n",
       "      <td>23</td>\n",
       "      <td>0</td>\n",
       "      <td>Riyadh region</td>\n",
       "      <td>Riyadh</td>\n",
       "      <td>CAUF</td>\n",
       "      <td>SWPS</td>\n",
       "      <td>Traditional</td>\n",
       "      <td>intermediate</td>\n",
       "      <td>In presence</td>\n",
       "      <td>2023-04-30</td>\n",
       "      <td>...</td>\n",
       "      <td>0</td>\n",
       "      <td>bachelor</td>\n",
       "      <td>Information technology</td>\n",
       "      <td>Information and communications technology</td>\n",
       "      <td>4.00</td>\n",
       "      <td>5.0</td>\n",
       "      <td>NaN</td>\n",
       "      <td>NaN</td>\n",
       "      <td>NaN</td>\n",
       "      <td>0.0</td>\n",
       "    </tr>\n",
       "  </tbody>\n",
       "</table>\n",
       "<p>5 rows × 22 columns</p>\n",
       "</div>"
      ],
      "text/plain": [
       "   Age Gender    Home Region  Home City Program Main Category Code  \\\n",
       "0   37      0  Riyadh region     Riyadh                       PCRF   \n",
       "1   21      0     منطقة عسير  خميس مشيط                       APMR   \n",
       "2   24      0  Riyadh region     Riyadh                       APMR   \n",
       "3   23      0  Riyadh region     Riyadh                       TOSL   \n",
       "4   23      0  Riyadh region     Riyadh                       CAUF   \n",
       "\n",
       "  Program Sub Category Code Technology Type Program Skill Level  \\\n",
       "0                      PCRF     Traditional        intermediate   \n",
       "1                      SWPS     Traditional        intermediate   \n",
       "2                      SWPS     Traditional        intermediate   \n",
       "3                      TOSL     Traditional        intermediate   \n",
       "4                      SWPS     Traditional        intermediate   \n",
       "\n",
       "  Program Presentation Method Program Start Date  ... Completed Degree  \\\n",
       "0                 In presence         2023-05-28  ...                1   \n",
       "1                 In presence         2023-04-02  ...                1   \n",
       "2                 In presence         2023-07-23  ...                1   \n",
       "3                 In presence         2023-07-23  ...                1   \n",
       "4                 In presence         2023-04-30  ...                0   \n",
       "\n",
       "   Level of Education                Education Speaciality  \\\n",
       "0            bachelor                     هندسة حاسب الالي   \n",
       "1            bachelor           الإذاعة والتلفزيون والفيلم   \n",
       "2            bachelor               Information Technology   \n",
       "3            bachelor  حوسبة تطبيقية - (مسار شبكات الحاسب)   \n",
       "4            bachelor               Information technology   \n",
       "\n",
       "                                     College University Degree Score  \\\n",
       "0  Information and communications technology                    2.44   \n",
       "1                   الفنون والعلوم الإنسانية                    5.00   \n",
       "2  Information and communications technology                    3.50   \n",
       "3  Information and communications technology                    3.55   \n",
       "4  Information and communications technology                    4.00   \n",
       "\n",
       "  University Degree Score System  Employment Status  Job Type Still Working  \\\n",
       "0                            4.0           غير موظف       NaN           NaN   \n",
       "1                            5.0               طالب       NaN           NaN   \n",
       "2                            5.0               موظف       NaN           NaN   \n",
       "3                            5.0               خريج       NaN           NaN   \n",
       "4                            5.0                NaN       NaN           NaN   \n",
       "\n",
       "     Y  \n",
       "0  0.0  \n",
       "1  0.0  \n",
       "2  0.0  \n",
       "3  0.0  \n",
       "4  0.0  \n",
       "\n",
       "[5 rows x 22 columns]"
      ]
     },
     "execution_count": 60,
     "metadata": {},
     "output_type": "execute_result"
    }
   ],
   "source": [
    "df.head()"
   ]
  },
  {
   "cell_type": "code",
   "execution_count": 61,
   "metadata": {},
   "outputs": [],
   "source": [
    "#fill the missing \n",
    "df['Job Type'].fillna(df['Job Type'].mode()[0], inplace=True)\n",
    "df['Employment Status'].fillna(df['Employment Status'].mode()[0], inplace=True)\n",
    "df['Still Working'].fillna(df['Still Working'].mode()[0], inplace=True)"
   ]
  },
  {
   "cell_type": "code",
   "execution_count": 62,
   "metadata": {},
   "outputs": [],
   "source": [
    "#df['Still Working'] = df['Still Working'].astype(bool) "
   ]
  },
  {
   "cell_type": "code",
   "execution_count": null,
   "metadata": {},
   "outputs": [],
   "source": []
  },
  {
   "cell_type": "code",
   "execution_count": 63,
   "metadata": {},
   "outputs": [],
   "source": [
    "#conert the target to boolean\n",
    "df['Y'] = df['Y'].astype(bool) "
   ]
  },
  {
   "cell_type": "code",
   "execution_count": 64,
   "metadata": {},
   "outputs": [
    {
     "data": {
      "text/plain": [
       "Y\n",
       "False    5509\n",
       "True     1857\n",
       "Name: count, dtype: int64"
      ]
     },
     "execution_count": 64,
     "metadata": {},
     "output_type": "execute_result"
    }
   ],
   "source": [
    "df['Y'].value_counts()"
   ]
  },
  {
   "cell_type": "code",
   "execution_count": 65,
   "metadata": {},
   "outputs": [
    {
     "data": {
      "text/plain": [
       "Y\n",
       "False    5509\n",
       "True     1857\n",
       "Name: count, dtype: int64"
      ]
     },
     "execution_count": 65,
     "metadata": {},
     "output_type": "execute_result"
    }
   ],
   "source": [
    "df['Y'].value_counts()"
   ]
  },
  {
   "cell_type": "code",
   "execution_count": 66,
   "metadata": {},
   "outputs": [
    {
     "data": {
      "text/plain": [
       "Age                               0\n",
       "Gender                            0\n",
       "Home Region                       0\n",
       "Home City                         0\n",
       "Program Main Category Code        0\n",
       "Program Sub Category Code         0\n",
       "Technology Type                   0\n",
       "Program Skill Level               0\n",
       "Program Presentation Method       0\n",
       "Program Start Date                0\n",
       "Program End Date                  0\n",
       "Program Days                      0\n",
       "Completed Degree                  0\n",
       "Level of Education                0\n",
       "Education Speaciality             0\n",
       "College                           0\n",
       "University Degree Score           0\n",
       "University Degree Score System    0\n",
       "Employment Status                 0\n",
       "Job Type                          0\n",
       "Still Working                     0\n",
       "Y                                 0\n",
       "dtype: int64"
      ]
     },
     "execution_count": 66,
     "metadata": {},
     "output_type": "execute_result"
    }
   ],
   "source": [
    "#cheak the missing value \n",
    "df.isna().sum()"
   ]
  },
  {
   "cell_type": "code",
   "execution_count": null,
   "metadata": {},
   "outputs": [
    {
     "data": {
      "text/plain": [
       "55"
      ]
     },
     "execution_count": 112,
     "metadata": {},
     "output_type": "execute_result"
    }
   ],
   "source": [
    "#cheak the duplicates\n",
    "# df.duplicated().sum()"
   ]
  },
  {
   "cell_type": "code",
   "execution_count": null,
   "metadata": {},
   "outputs": [],
   "source": [
    "#drop the duplicates\n",
    "# df=df.drop_duplicates()"
   ]
  },
  {
   "cell_type": "code",
   "execution_count": null,
   "metadata": {},
   "outputs": [
    {
     "data": {
      "text/plain": [
       "0"
      ]
     },
     "execution_count": 53,
     "metadata": {},
     "output_type": "execute_result"
    }
   ],
   "source": [
    "#cheak the duplicates\n",
    "# df.duplicated().sum()"
   ]
  },
  {
   "cell_type": "code",
   "execution_count": 72,
   "metadata": {},
   "outputs": [
    {
     "name": "stdout",
     "output_type": "stream",
     "text": [
      "Age                               0\n",
      "Gender                            0\n",
      "Home Region                       0\n",
      "Home City                         0\n",
      "Program Main Category Code        0\n",
      "Program Sub Category Code         0\n",
      "Technology Type                   0\n",
      "Program Skill Level               0\n",
      "Program Presentation Method       0\n",
      "Program Start Date                0\n",
      "Program End Date                  0\n",
      "Program Days                      0\n",
      "Completed Degree                  0\n",
      "Level of Education                0\n",
      "Education Speaciality             0\n",
      "College                           0\n",
      "University Degree Score           0\n",
      "University Degree Score System    0\n",
      "Employment Status                 0\n",
      "Job Type                          0\n",
      "Still Working                     0\n",
      "Y                                 0\n",
      "dtype: int64\n"
     ]
    }
   ],
   "source": [
    "print(df.isnull().sum())"
   ]
  },
  {
   "cell_type": "code",
   "execution_count": 120,
   "metadata": {},
   "outputs": [],
   "source": [
    "#split the data to categorical and numrical\n",
    "Categorical = df.select_dtypes(include=[object]).columns\n",
    "numerical = df.select_dtypes(include=[int,float]).columns"
   ]
  },
  {
   "cell_type": "markdown",
   "metadata": {},
   "source": [
    " encoding categorical variables"
   ]
  },
  {
   "cell_type": "code",
   "execution_count": 141,
   "metadata": {},
   "outputs": [],
   "source": [
    "#convert categorical to encoding\n",
    "from sklearn.preprocessing import OneHotEncoder\n",
    "#Convert 'Categorical' to a 2D array\n",
    "# categorical_2d = Categorical.values.reshape(-1, 1)\n",
    "# Encoder=OneHotEncoder(sparse_output=False)\n",
    "\n",
    "# E_Categorical=Encoder.fit_transform(df[Categorical])\n",
    "E_Categorical=pd.get_dummies(df[Categorical])\n"
   ]
  },
  {
   "cell_type": "code",
   "execution_count": 153,
   "metadata": {},
   "outputs": [
    {
     "data": {
      "text/plain": [
       "(6548, 1082)"
      ]
     },
     "execution_count": 153,
     "metadata": {},
     "output_type": "execute_result"
    }
   ],
   "source": [
    "df_final = pd.concat([E_Categorical,df[numerical], df[['Y']]], axis= 1)\n",
    "\n",
    "df_test = df_final.iloc[6548:, ]\n",
    "df_train = df_final.iloc[:6548, ]\n",
    "df_test.shape\n",
    "df_train.shape"
   ]
  },
  {
   "cell_type": "markdown",
   "metadata": {},
   "source": [
    "Scaling numerical features"
   ]
  },
  {
   "cell_type": "code",
   "execution_count": 157,
   "metadata": {},
   "outputs": [],
   "source": [
    "#convert numerical to scalling\n",
    "from sklearn.preprocessing import StandardScaler\n",
    "# #Convert 'Categorical' to a 2D array\n",
    "# numerical_2d = numerical.values.reshape(-1, 1)\n",
    "# Scaler=StandardScaler()\n",
    "# df_train_numerical=Encoder.fit_transform(df_train[numerical])\n",
    "# df_test_numerical=Encoder.transform(df_test[numerical])\n",
    "\n"
   ]
  },
  {
   "cell_type": "code",
   "execution_count": 156,
   "metadata": {},
   "outputs": [
    {
     "data": {
      "text/plain": [
       "0      23\n",
       "1      31\n",
       "2      29\n",
       "3      23\n",
       "4      30\n",
       "       ..\n",
       "813    36\n",
       "814    29\n",
       "815    32\n",
       "816    28\n",
       "817    23\n",
       "Name: Age, Length: 818, dtype: int32"
      ]
     },
     "execution_count": 156,
     "metadata": {},
     "output_type": "execute_result"
    }
   ],
   "source": [
    "df_test[numerical].Age"
   ]
  },
  {
   "cell_type": "code",
   "execution_count": 163,
   "metadata": {},
   "outputs": [],
   "source": [
    "#split fueatura and target (X:Fueatura Y:target)\n",
    "# X = pd.concat([pd.DataFrame(E_Categorical), pd.DataFrame(numerical)], axis=1)\n",
    "X = df_train.drop(columns='Y')\n",
    "y = df_train['Y']\n",
    "# Align the dataframes\n",
    "# X, y = X.align(y, axis=0, join='inner')"
   ]
  },
  {
   "cell_type": "code",
   "execution_count": 164,
   "metadata": {},
   "outputs": [],
   "source": [
    "from sklearn.impute import SimpleImputer\n",
    "imputer_X = SimpleImputer(strategy='mean')\n",
    "X = imputer_X.fit_transform(X)"
   ]
  },
  {
   "cell_type": "code",
   "execution_count": 161,
   "metadata": {},
   "outputs": [
    {
     "ename": "IndexError",
     "evalue": "index 6548 is out of bounds for axis 0 with size 6548",
     "output_type": "error",
     "traceback": [
      "\u001b[1;31m---------------------------------------------------------------------------\u001b[0m",
      "\u001b[1;31mIndexError\u001b[0m                                Traceback (most recent call last)",
      "Cell \u001b[1;32mIn[161], line 3\u001b[0m\n\u001b[0;32m      1\u001b[0m \u001b[38;5;28;01mfrom\u001b[39;00m \u001b[38;5;21;01mimblearn\u001b[39;00m\u001b[38;5;21;01m.\u001b[39;00m\u001b[38;5;21;01munder_sampling\u001b[39;00m \u001b[38;5;28;01mimport\u001b[39;00m RandomUnderSampler\n\u001b[0;32m      2\u001b[0m rus \u001b[38;5;241m=\u001b[39m RandomUnderSampler()\n\u001b[1;32m----> 3\u001b[0m X_resampled, y_resampled \u001b[38;5;241m=\u001b[39m \u001b[43mrus\u001b[49m\u001b[38;5;241;43m.\u001b[39;49m\u001b[43mfit_resample\u001b[49m\u001b[43m(\u001b[49m\u001b[43mX\u001b[49m\u001b[43m,\u001b[49m\u001b[43m \u001b[49m\u001b[43my\u001b[49m\u001b[43m)\u001b[49m\n",
      "File \u001b[1;32mc:\\Users\\wedfa\\miniconda3\\envs\\t5\\lib\\site-packages\\imblearn\\base.py:208\u001b[0m, in \u001b[0;36mBaseSampler.fit_resample\u001b[1;34m(self, X, y)\u001b[0m\n\u001b[0;32m    187\u001b[0m \u001b[38;5;250m\u001b[39m\u001b[38;5;124;03m\"\"\"Resample the dataset.\u001b[39;00m\n\u001b[0;32m    188\u001b[0m \n\u001b[0;32m    189\u001b[0m \u001b[38;5;124;03mParameters\u001b[39;00m\n\u001b[1;32m   (...)\u001b[0m\n\u001b[0;32m    205\u001b[0m \u001b[38;5;124;03m    The corresponding label of `X_resampled`.\u001b[39;00m\n\u001b[0;32m    206\u001b[0m \u001b[38;5;124;03m\"\"\"\u001b[39;00m\n\u001b[0;32m    207\u001b[0m \u001b[38;5;28mself\u001b[39m\u001b[38;5;241m.\u001b[39m_validate_params()\n\u001b[1;32m--> 208\u001b[0m \u001b[38;5;28;01mreturn\u001b[39;00m \u001b[38;5;28;43msuper\u001b[39;49m\u001b[43m(\u001b[49m\u001b[43m)\u001b[49m\u001b[38;5;241;43m.\u001b[39;49m\u001b[43mfit_resample\u001b[49m\u001b[43m(\u001b[49m\u001b[43mX\u001b[49m\u001b[43m,\u001b[49m\u001b[43m \u001b[49m\u001b[43my\u001b[49m\u001b[43m)\u001b[49m\n",
      "File \u001b[1;32mc:\\Users\\wedfa\\miniconda3\\envs\\t5\\lib\\site-packages\\imblearn\\base.py:112\u001b[0m, in \u001b[0;36mSamplerMixin.fit_resample\u001b[1;34m(self, X, y)\u001b[0m\n\u001b[0;32m    106\u001b[0m X, y, binarize_y \u001b[38;5;241m=\u001b[39m \u001b[38;5;28mself\u001b[39m\u001b[38;5;241m.\u001b[39m_check_X_y(X, y)\n\u001b[0;32m    108\u001b[0m \u001b[38;5;28mself\u001b[39m\u001b[38;5;241m.\u001b[39msampling_strategy_ \u001b[38;5;241m=\u001b[39m check_sampling_strategy(\n\u001b[0;32m    109\u001b[0m     \u001b[38;5;28mself\u001b[39m\u001b[38;5;241m.\u001b[39msampling_strategy, y, \u001b[38;5;28mself\u001b[39m\u001b[38;5;241m.\u001b[39m_sampling_type\n\u001b[0;32m    110\u001b[0m )\n\u001b[1;32m--> 112\u001b[0m output \u001b[38;5;241m=\u001b[39m \u001b[38;5;28;43mself\u001b[39;49m\u001b[38;5;241;43m.\u001b[39;49m\u001b[43m_fit_resample\u001b[49m\u001b[43m(\u001b[49m\u001b[43mX\u001b[49m\u001b[43m,\u001b[49m\u001b[43m \u001b[49m\u001b[43my\u001b[49m\u001b[43m)\u001b[49m\n\u001b[0;32m    114\u001b[0m y_ \u001b[38;5;241m=\u001b[39m (\n\u001b[0;32m    115\u001b[0m     label_binarize(output[\u001b[38;5;241m1\u001b[39m], classes\u001b[38;5;241m=\u001b[39mnp\u001b[38;5;241m.\u001b[39munique(y)) \u001b[38;5;28;01mif\u001b[39;00m binarize_y \u001b[38;5;28;01melse\u001b[39;00m output[\u001b[38;5;241m1\u001b[39m]\n\u001b[0;32m    116\u001b[0m )\n\u001b[0;32m    118\u001b[0m X_, y_ \u001b[38;5;241m=\u001b[39m arrays_transformer\u001b[38;5;241m.\u001b[39mtransform(output[\u001b[38;5;241m0\u001b[39m], y_)\n",
      "File \u001b[1;32mc:\\Users\\wedfa\\miniconda3\\envs\\t5\\lib\\site-packages\\imblearn\\under_sampling\\_prototype_selection\\_random_under_sampler.py:132\u001b[0m, in \u001b[0;36mRandomUnderSampler._fit_resample\u001b[1;34m(self, X, y)\u001b[0m\n\u001b[0;32m    122\u001b[0m     idx_under \u001b[38;5;241m=\u001b[39m np\u001b[38;5;241m.\u001b[39mconcatenate(\n\u001b[0;32m    123\u001b[0m         (\n\u001b[0;32m    124\u001b[0m             idx_under,\n\u001b[1;32m   (...)\u001b[0m\n\u001b[0;32m    127\u001b[0m         axis\u001b[38;5;241m=\u001b[39m\u001b[38;5;241m0\u001b[39m,\n\u001b[0;32m    128\u001b[0m     )\n\u001b[0;32m    130\u001b[0m \u001b[38;5;28mself\u001b[39m\u001b[38;5;241m.\u001b[39msample_indices_ \u001b[38;5;241m=\u001b[39m idx_under\n\u001b[1;32m--> 132\u001b[0m \u001b[38;5;28;01mreturn\u001b[39;00m \u001b[43m_safe_indexing\u001b[49m\u001b[43m(\u001b[49m\u001b[43mX\u001b[49m\u001b[43m,\u001b[49m\u001b[43m \u001b[49m\u001b[43midx_under\u001b[49m\u001b[43m)\u001b[49m, _safe_indexing(y, idx_under)\n",
      "File \u001b[1;32mc:\\Users\\wedfa\\miniconda3\\envs\\t5\\lib\\site-packages\\sklearn\\utils\\__init__.py:411\u001b[0m, in \u001b[0;36m_safe_indexing\u001b[1;34m(X, indices, axis)\u001b[0m\n\u001b[0;32m    409\u001b[0m     \u001b[38;5;28;01mreturn\u001b[39;00m _polars_indexing(X, indices, indices_dtype, axis\u001b[38;5;241m=\u001b[39maxis)\n\u001b[0;32m    410\u001b[0m \u001b[38;5;28;01melif\u001b[39;00m \u001b[38;5;28mhasattr\u001b[39m(X, \u001b[38;5;124m\"\u001b[39m\u001b[38;5;124mshape\u001b[39m\u001b[38;5;124m\"\u001b[39m):\n\u001b[1;32m--> 411\u001b[0m     \u001b[38;5;28;01mreturn\u001b[39;00m \u001b[43m_array_indexing\u001b[49m\u001b[43m(\u001b[49m\u001b[43mX\u001b[49m\u001b[43m,\u001b[49m\u001b[43m \u001b[49m\u001b[43mindices\u001b[49m\u001b[43m,\u001b[49m\u001b[43m \u001b[49m\u001b[43mindices_dtype\u001b[49m\u001b[43m,\u001b[49m\u001b[43m \u001b[49m\u001b[43maxis\u001b[49m\u001b[38;5;241;43m=\u001b[39;49m\u001b[43maxis\u001b[49m\u001b[43m)\u001b[49m\n\u001b[0;32m    412\u001b[0m \u001b[38;5;28;01melse\u001b[39;00m:\n\u001b[0;32m    413\u001b[0m     \u001b[38;5;28;01mreturn\u001b[39;00m _list_indexing(X, indices, indices_dtype)\n",
      "File \u001b[1;32mc:\\Users\\wedfa\\miniconda3\\envs\\t5\\lib\\site-packages\\sklearn\\utils\\__init__.py:208\u001b[0m, in \u001b[0;36m_array_indexing\u001b[1;34m(array, key, key_dtype, axis)\u001b[0m\n\u001b[0;32m    206\u001b[0m \u001b[38;5;28;01mif\u001b[39;00m \u001b[38;5;28misinstance\u001b[39m(key, \u001b[38;5;28mtuple\u001b[39m):\n\u001b[0;32m    207\u001b[0m     key \u001b[38;5;241m=\u001b[39m \u001b[38;5;28mlist\u001b[39m(key)\n\u001b[1;32m--> 208\u001b[0m \u001b[38;5;28;01mreturn\u001b[39;00m \u001b[43marray\u001b[49m\u001b[43m[\u001b[49m\u001b[43mkey\u001b[49m\u001b[43m,\u001b[49m\u001b[43m \u001b[49m\u001b[38;5;241;43m.\u001b[39;49m\u001b[38;5;241;43m.\u001b[39;49m\u001b[38;5;241;43m.\u001b[39;49m\u001b[43m]\u001b[49m \u001b[38;5;28;01mif\u001b[39;00m axis \u001b[38;5;241m==\u001b[39m \u001b[38;5;241m0\u001b[39m \u001b[38;5;28;01melse\u001b[39;00m array[:, key]\n",
      "\u001b[1;31mIndexError\u001b[0m: index 6548 is out of bounds for axis 0 with size 6548"
     ]
    }
   ],
   "source": [
    "# from imblearn.under_sampling import RandomUnderSampler\n",
    "# rus = RandomUnderSampler()\n",
    "# X_resampled, y_resampled = rus.fit_resample(X, y)\n"
   ]
  },
  {
   "cell_type": "markdown",
   "metadata": {},
   "source": [
    " Split the preprocessed data into training and testing sets."
   ]
  },
  {
   "cell_type": "code",
   "execution_count": 165,
   "metadata": {},
   "outputs": [],
   "source": [
    "from sklearn.model_selection import train_test_split\n",
    "X_train, X_test, y_train, y_test = train_test_split(X, y, test_size=0.20)"
   ]
  },
  {
   "cell_type": "code",
   "execution_count": null,
   "metadata": {},
   "outputs": [
    {
     "name": "stdout",
     "output_type": "stream",
     "text": [
      "Accuracy: 0.6666666666666666\n"
     ]
    }
   ],
   "source": [
    "from sklearn.linear_model import LogisticRegression\n",
    "from sklearn.metrics import accuracy_score\n",
    "logreg = LogisticRegression(random_state=42)\n",
    "logreg.fit(X_train, y_train)\n",
    "\n",
    "# Make predictions on the test set\n",
    "y_pred = logreg.predict(X_test)\n",
    "\n",
    "# Evaluate the model\n",
    "accuracy = accuracy_score(y_test, y_pred)\n",
    "print(\"Accuracy:\", accuracy)"
   ]
  },
  {
   "cell_type": "code",
   "execution_count": null,
   "metadata": {},
   "outputs": [
    {
     "data": {
      "text/plain": [
       "array([[0.  , 1.  , 0.  , 0.  , 0.  , 0.  , 0.  , 0.  , 0.  , 0.  , 0.  ,\n",
       "        0.  , 0.  , 0.  , 0.  , 0.25, 0.25, 0.25, 0.25],\n",
       "       [0.  , 0.  , 0.  , 0.  , 0.  , 0.  , 0.  , 0.  , 1.  , 0.  , 0.  ,\n",
       "        0.  , 0.  , 0.  , 0.  , 0.25, 0.25, 0.25, 0.25],\n",
       "       [0.  , 0.  , 0.  , 0.  , 0.  , 0.  , 0.  , 0.  , 0.  , 0.  , 0.  ,\n",
       "        1.  , 0.  , 0.  , 0.  , 0.25, 0.25, 0.25, 0.25],\n",
       "       [1.  , 0.  , 0.  , 0.  , 0.  , 0.  , 0.  , 0.  , 0.  , 0.  , 0.  ,\n",
       "        0.  , 0.  , 0.  , 0.  , 0.25, 0.25, 0.25, 0.25],\n",
       "       [0.  , 0.  , 0.  , 0.  , 0.  , 0.  , 0.  , 0.  , 0.  , 1.  , 0.  ,\n",
       "        0.  , 0.  , 0.  , 0.  , 0.  , 0.  , 0.  , 1.  ],\n",
       "       [0.  , 0.  , 0.  , 0.  , 0.  , 0.  , 0.  , 1.  , 0.  , 0.  , 0.  ,\n",
       "        0.  , 0.  , 0.  , 0.  , 0.25, 0.25, 0.25, 0.25],\n",
       "       [0.  , 0.  , 0.  , 0.  , 0.  , 0.  , 1.  , 0.  , 0.  , 0.  , 0.  ,\n",
       "        0.  , 0.  , 0.  , 0.  , 0.  , 1.  , 0.  , 0.  ],\n",
       "       [0.  , 0.  , 0.  , 0.  , 0.  , 0.  , 0.  , 0.  , 0.  , 0.  , 0.  ,\n",
       "        0.  , 1.  , 0.  , 0.  , 0.25, 0.25, 0.25, 0.25],\n",
       "       [0.  , 0.  , 0.  , 0.  , 0.  , 0.  , 0.  , 0.  , 0.  , 0.  , 0.  ,\n",
       "        0.  , 0.  , 0.  , 1.  , 0.25, 0.25, 0.25, 0.25],\n",
       "       [0.  , 0.  , 0.  , 0.  , 0.  , 1.  , 0.  , 0.  , 0.  , 0.  , 0.  ,\n",
       "        0.  , 0.  , 0.  , 0.  , 0.  , 0.  , 1.  , 0.  ],\n",
       "       [0.  , 0.  , 0.  , 0.  , 0.  , 0.  , 0.  , 0.  , 0.  , 0.  , 0.  ,\n",
       "        0.  , 0.  , 1.  , 0.  , 0.25, 0.25, 0.25, 0.25],\n",
       "       [0.  , 0.  , 0.  , 0.  , 0.  , 0.  , 0.  , 0.  , 0.  , 0.  , 1.  ,\n",
       "        0.  , 0.  , 0.  , 0.  , 0.25, 0.25, 0.25, 0.25]])"
      ]
     },
     "execution_count": 70,
     "metadata": {},
     "output_type": "execute_result"
    }
   ],
   "source": [
    "from pycaret.classification import ClassificationExperiment\n",
    "exp = ClassificationExperiment()\n",
    "X_train"
   ]
  },
  {
   "cell_type": "code",
   "execution_count": null,
   "metadata": {},
   "outputs": [
    {
     "data": {
      "text/plain": [
       "8     False\n",
       "9     False\n",
       "6     False\n",
       "11    False\n",
       "3     False\n",
       "13    False\n",
       "1     False\n",
       "4      True\n",
       "5     False\n",
       "2     False\n",
       "14     True\n",
       "7     False\n",
       "Name: Y, dtype: bool"
      ]
     },
     "execution_count": 71,
     "metadata": {},
     "output_type": "execute_result"
    }
   ],
   "source": [
    "y_train"
   ]
  },
  {
   "cell_type": "code",
   "execution_count": 167,
   "metadata": {},
   "outputs": [
    {
     "name": "stdout",
     "output_type": "stream",
     "text": [
      "accuracy score : 83.36%\n",
      "f1 score : 11.38%\n"
     ]
    }
   ],
   "source": [
    "from sklearn.svm import SVC\n",
    "from sklearn.metrics import f1_score, accuracy_score\n",
    "\n",
    "\n",
    "svc_clf = SVC(random_state=42)\n",
    "\n",
    "svc_clf.fit(X_train,y_train)\n",
    "\n",
    "y_pred = svc_clf.predict(X_test)\n",
    "\n",
    "svc_accuracy = accuracy_score(y_pred,y_test)\n",
    "print(f'accuracy score : {round(svc_accuracy*100,2)}%')\n",
    "\n",
    "svc_f1score = f1_score(y_pred,y_test)\n",
    "print(f'f1 score : {round(svc_f1score*100,2)}%')"
   ]
  },
  {
   "cell_type": "code",
   "execution_count": 168,
   "metadata": {},
   "outputs": [
    {
     "name": "stderr",
     "output_type": "stream",
     "text": [
      "c:\\Users\\wedfa\\miniconda3\\envs\\t5\\lib\\site-packages\\xgboost\\core.py:160: UserWarning: [15:13:03] WARNING: C:\\buildkite-agent\\builds\\buildkite-windows-cpu-autoscaling-group-i-0b3782d1791676daf-1\\xgboost\\xgboost-ci-windows\\src\\learner.cc:742: \n",
      "Parameters: { \"random_seed\" } are not used.\n",
      "\n",
      "  warnings.warn(smsg, UserWarning)\n"
     ]
    },
    {
     "name": "stdout",
     "output_type": "stream",
     "text": [
      "accuracy score : 87.33%\n",
      "f1 score : 57.22%\n"
     ]
    }
   ],
   "source": [
    "import xgboost as xgb\n",
    "# Define the XGBoost classifier\n",
    "xgb_model = xgb.XGBClassifier(random_seed=42)\n",
    "\n",
    "# Fit the XGBoost model\n",
    "xgb_model.fit(X_train, y_train)\n",
    "\n",
    "# Make predictions on the test set\n",
    "y_pred = xgb_model.predict(X_test)\n",
    "\n",
    "# Evaluate the accuracy of the model\n",
    "accuracy = accuracy_score(y_test, y_pred)\n",
    "print(f'accuracy score : {round(accuracy*100,2)}%')\n",
    "\n",
    "xgb_f1score = f1_score(y_test,y_pred)\n",
    "print(f'f1 score : {round(xgb_f1score*100,2)}%')"
   ]
  },
  {
   "cell_type": "code",
   "execution_count": 169,
   "metadata": {},
   "outputs": [
    {
     "name": "stdout",
     "output_type": "stream",
     "text": [
      "accuracy score : 84.89%\n",
      "f1 score : 35.29%\n"
     ]
    }
   ],
   "source": [
    "from sklearn.neighbors import KNeighborsClassifier\n",
    "# Define the K Neighbors Classifier\n",
    "knn_model = KNeighborsClassifier(n_neighbors=5)\n",
    "\n",
    "# Fit the K Neighbors Classifier\n",
    "knn_model.fit(X_train, y_train)\n",
    "\n",
    "# Make predictions on the test set\n",
    "y_pred = knn_model.predict(X_test)\n",
    "\n",
    "# Evaluate the accuracy of the model\n",
    "accuracy = accuracy_score(y_test, y_pred)\n",
    "print(f'accuracy score : {round(accuracy*100,2)}%')\n",
    "\n",
    "xgb_f1score = f1_score(y_test,y_pred)\n",
    "print(f'f1 score : {round(xgb_f1score*100,2)}%')"
   ]
  },
  {
   "cell_type": "code",
   "execution_count": 170,
   "metadata": {},
   "outputs": [
    {
     "name": "stdout",
     "output_type": "stream",
     "text": [
      "best accuracy : 84.65%\n",
      "best params : {'C': 1}\n"
     ]
    }
   ],
   "source": [
    "from sklearn.model_selection import GridSearchCV\n",
    "\n",
    "svc_params = {\n",
    "    'C':[0.1,1,10],\n",
    "}\n",
    "\n",
    "grid_search = GridSearchCV(estimator=svc_clf,param_grid=svc_params,cv=3)\n",
    "grid_search.fit(X_train,y_train)\n",
    "best_model = grid_search.best_estimator_\n",
    "\n",
    "final_predictions = best_model.predict(X_test)\n",
    "\n",
    "print(f'best accuracy : {round(grid_search.best_score_*100,2)}%')\n",
    "print(f'best params : {grid_search.best_params_}')"
   ]
  },
  {
   "cell_type": "code",
   "execution_count": 188,
   "metadata": {},
   "outputs": [
    {
     "name": "stderr",
     "output_type": "stream",
     "text": [
      "c:\\Users\\wedfa\\miniconda3\\envs\\t5\\lib\\site-packages\\sklearn\\base.py:486: UserWarning: X has feature names, but SVC was fitted without feature names\n",
      "  warnings.warn(\n"
     ]
    },
    {
     "data": {
      "text/html": [
       "<div>\n",
       "<style scoped>\n",
       "    .dataframe tbody tr th:only-of-type {\n",
       "        vertical-align: middle;\n",
       "    }\n",
       "\n",
       "    .dataframe tbody tr th {\n",
       "        vertical-align: top;\n",
       "    }\n",
       "\n",
       "    .dataframe thead th {\n",
       "        text-align: right;\n",
       "    }\n",
       "</style>\n",
       "<table border=\"1\" class=\"dataframe\">\n",
       "  <thead>\n",
       "    <tr style=\"text-align: right;\">\n",
       "      <th></th>\n",
       "      <th>index</th>\n",
       "      <th>0</th>\n",
       "    </tr>\n",
       "  </thead>\n",
       "  <tbody>\n",
       "    <tr>\n",
       "      <th>0</th>\n",
       "      <td>1</td>\n",
       "      <td>False</td>\n",
       "    </tr>\n",
       "    <tr>\n",
       "      <th>1</th>\n",
       "      <td>2</td>\n",
       "      <td>False</td>\n",
       "    </tr>\n",
       "    <tr>\n",
       "      <th>2</th>\n",
       "      <td>3</td>\n",
       "      <td>False</td>\n",
       "    </tr>\n",
       "    <tr>\n",
       "      <th>3</th>\n",
       "      <td>4</td>\n",
       "      <td>False</td>\n",
       "    </tr>\n",
       "    <tr>\n",
       "      <th>4</th>\n",
       "      <td>5</td>\n",
       "      <td>False</td>\n",
       "    </tr>\n",
       "    <tr>\n",
       "      <th>...</th>\n",
       "      <td>...</td>\n",
       "      <td>...</td>\n",
       "    </tr>\n",
       "    <tr>\n",
       "      <th>813</th>\n",
       "      <td>814</td>\n",
       "      <td>False</td>\n",
       "    </tr>\n",
       "    <tr>\n",
       "      <th>814</th>\n",
       "      <td>815</td>\n",
       "      <td>False</td>\n",
       "    </tr>\n",
       "    <tr>\n",
       "      <th>815</th>\n",
       "      <td>816</td>\n",
       "      <td>False</td>\n",
       "    </tr>\n",
       "    <tr>\n",
       "      <th>816</th>\n",
       "      <td>817</td>\n",
       "      <td>True</td>\n",
       "    </tr>\n",
       "    <tr>\n",
       "      <th>817</th>\n",
       "      <td>818</td>\n",
       "      <td>False</td>\n",
       "    </tr>\n",
       "  </tbody>\n",
       "</table>\n",
       "<p>818 rows × 2 columns</p>\n",
       "</div>"
      ],
      "text/plain": [
       "     index      0\n",
       "0        1  False\n",
       "1        2  False\n",
       "2        3  False\n",
       "3        4  False\n",
       "4        5  False\n",
       "..     ...    ...\n",
       "813    814  False\n",
       "814    815  False\n",
       "815    816  False\n",
       "816    817   True\n",
       "817    818  False\n",
       "\n",
       "[818 rows x 2 columns]"
      ]
     },
     "execution_count": 188,
     "metadata": {},
     "output_type": "execute_result"
    }
   ],
   "source": [
    "# y_df= pd.DataFrame(final_predictions, columns=['Y'])\n",
    "\n",
    "# df_test = df_test.drop(columns=['Y'])\n",
    "\n",
    "final_predictions = best_model.predict(df_test)\n",
    "\n",
    "final_predictions = pd.DataFrame(final_predictions)\n",
    "final_predictions.index = np.arange(1, len(final_predictions)+1 )\n",
    "final_predictions = final_predictions.reset_index().rename({'index': 'ID'})\n",
    "# final_predictions['ID'] = [x+1 for x in final_predictions['ID']]\n",
    "final_predictions\n"
   ]
  },
  {
   "cell_type": "code",
   "execution_count": 172,
   "metadata": {},
   "outputs": [],
   "source": [
    "y_df.to_csv(\"final_predictions.csv\")"
   ]
  },
  {
   "cell_type": "code",
   "execution_count": null,
   "metadata": {},
   "outputs": [],
   "source": []
  }
 ],
 "metadata": {
  "kernelspec": {
   "display_name": "Python 3",
   "language": "python",
   "name": "python3"
  },
  "language_info": {
   "codemirror_mode": {
    "name": "ipython",
    "version": 3
   },
   "file_extension": ".py",
   "mimetype": "text/x-python",
   "name": "python",
   "nbconvert_exporter": "python",
   "pygments_lexer": "ipython3",
   "version": "3.9.19"
  }
 },
 "nbformat": 4,
 "nbformat_minor": 2
}
