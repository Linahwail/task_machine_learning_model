{
 "cells": [
  {
   "cell_type": "code",
   "execution_count": 1,
   "metadata": {},
   "outputs": [],
   "source": [
    "import pandas as pd\n",
    "import matplotlib.pyplot as plt\n",
    "import numpy as np\n",
    "import seaborn as sns \n",
    "import csv"
   ]
  },
  {
   "cell_type": "markdown",
   "metadata": {},
   "source": [
    " Download The datasets"
   ]
  },
  {
   "cell_type": "code",
   "execution_count": 2,
   "metadata": {},
   "outputs": [
    {
     "data": {
      "text/plain": [
       "['.git', 'logs.log', 'task.ipynb']"
      ]
     },
     "execution_count": 2,
     "metadata": {},
     "output_type": "execute_result"
    }
   ],
   "source": [
    "import os\n",
    "\n",
    "os.listdir('.')"
   ]
  },
  {
   "cell_type": "code",
   "execution_count": 3,
   "metadata": {},
   "outputs": [],
   "source": [
    "#read the datasets\n",
    "df_train=pd.read_csv(\"C:/Users/PCD/Downloads/datasets/train.csv\")\n",
    "df_test=pd.read_csv(\"C:/Users/PCD/Downloads/datasets/test.csv\")"
   ]
  },
  {
   "cell_type": "code",
   "execution_count": 4,
   "metadata": {},
   "outputs": [],
   "source": [
    "#merge the datasete\n",
    "df=pd.merge(df_train,df_test)"
   ]
  },
  {
   "cell_type": "markdown",
   "metadata": {},
   "source": [
    " Explore the datasets"
   ]
  },
  {
   "cell_type": "code",
   "execution_count": 5,
   "metadata": {},
   "outputs": [
    {
     "name": "stdout",
     "output_type": "stream",
     "text": [
      "<class 'pandas.core.frame.DataFrame'>\n",
      "RangeIndex: 22 entries, 0 to 21\n",
      "Data columns (total 24 columns):\n",
      " #   Column                          Non-Null Count  Dtype  \n",
      "---  ------                          --------------  -----  \n",
      " 0   Student ID                      22 non-null     object \n",
      " 1   Age                             22 non-null     float64\n",
      " 2   Gender                          22 non-null     object \n",
      " 3   Home Region                     22 non-null     object \n",
      " 4   Home City                       22 non-null     object \n",
      " 5   Program ID                      22 non-null     object \n",
      " 6   Program Main Category Code      22 non-null     object \n",
      " 7   Program Sub Category Code       11 non-null     object \n",
      " 8   Technology Type                 9 non-null      object \n",
      " 9   Program Skill Level             21 non-null     object \n",
      " 10  Program Presentation Method     22 non-null     object \n",
      " 11  Program Start Date              22 non-null     object \n",
      " 12  Program End Date                22 non-null     object \n",
      " 13  Program Days                    22 non-null     int64  \n",
      " 14  Completed Degree                22 non-null     object \n",
      " 15  Level of Education              22 non-null     object \n",
      " 16  Education Speaciality           21 non-null     object \n",
      " 17  College                         9 non-null      object \n",
      " 18  University Degree Score         22 non-null     float64\n",
      " 19  University Degree Score System  22 non-null     float64\n",
      " 20  Employment Status               19 non-null     object \n",
      " 21  Job Type                        5 non-null      object \n",
      " 22  Still Working                   5 non-null      object \n",
      " 23  Y                               22 non-null     int64  \n",
      "dtypes: float64(3), int64(2), object(19)\n",
      "memory usage: 4.2+ KB\n"
     ]
    }
   ],
   "source": [
    "df.info()"
   ]
  },
  {
   "cell_type": "code",
   "execution_count": 6,
   "metadata": {},
   "outputs": [
    {
     "data": {
      "text/html": [
       "<div>\n",
       "<style scoped>\n",
       "    .dataframe tbody tr th:only-of-type {\n",
       "        vertical-align: middle;\n",
       "    }\n",
       "\n",
       "    .dataframe tbody tr th {\n",
       "        vertical-align: top;\n",
       "    }\n",
       "\n",
       "    .dataframe thead th {\n",
       "        text-align: right;\n",
       "    }\n",
       "</style>\n",
       "<table border=\"1\" class=\"dataframe\">\n",
       "  <thead>\n",
       "    <tr style=\"text-align: right;\">\n",
       "      <th></th>\n",
       "      <th>Age</th>\n",
       "      <th>Program Days</th>\n",
       "      <th>University Degree Score</th>\n",
       "      <th>University Degree Score System</th>\n",
       "      <th>Y</th>\n",
       "    </tr>\n",
       "  </thead>\n",
       "  <tbody>\n",
       "    <tr>\n",
       "      <th>count</th>\n",
       "      <td>22.000000</td>\n",
       "      <td>22.000000</td>\n",
       "      <td>22.000000</td>\n",
       "      <td>22.000000</td>\n",
       "      <td>22.000000</td>\n",
       "    </tr>\n",
       "    <tr>\n",
       "      <th>mean</th>\n",
       "      <td>29.272727</td>\n",
       "      <td>25.590909</td>\n",
       "      <td>10.549545</td>\n",
       "      <td>13.409091</td>\n",
       "      <td>0.136364</td>\n",
       "    </tr>\n",
       "    <tr>\n",
       "      <th>std</th>\n",
       "      <td>6.511395</td>\n",
       "      <td>19.689637</td>\n",
       "      <td>22.822862</td>\n",
       "      <td>28.030016</td>\n",
       "      <td>0.351250</td>\n",
       "    </tr>\n",
       "    <tr>\n",
       "      <th>min</th>\n",
       "      <td>20.000000</td>\n",
       "      <td>5.000000</td>\n",
       "      <td>2.000000</td>\n",
       "      <td>4.000000</td>\n",
       "      <td>0.000000</td>\n",
       "    </tr>\n",
       "    <tr>\n",
       "      <th>25%</th>\n",
       "      <td>25.000000</td>\n",
       "      <td>12.000000</td>\n",
       "      <td>3.010000</td>\n",
       "      <td>5.000000</td>\n",
       "      <td>0.000000</td>\n",
       "    </tr>\n",
       "    <tr>\n",
       "      <th>50%</th>\n",
       "      <td>27.000000</td>\n",
       "      <td>19.000000</td>\n",
       "      <td>3.830000</td>\n",
       "      <td>5.000000</td>\n",
       "      <td>0.000000</td>\n",
       "    </tr>\n",
       "    <tr>\n",
       "      <th>75%</th>\n",
       "      <td>33.500000</td>\n",
       "      <td>50.500000</td>\n",
       "      <td>4.472500</td>\n",
       "      <td>5.000000</td>\n",
       "      <td>0.000000</td>\n",
       "    </tr>\n",
       "    <tr>\n",
       "      <th>max</th>\n",
       "      <td>44.000000</td>\n",
       "      <td>59.000000</td>\n",
       "      <td>82.000000</td>\n",
       "      <td>100.000000</td>\n",
       "      <td>1.000000</td>\n",
       "    </tr>\n",
       "  </tbody>\n",
       "</table>\n",
       "</div>"
      ],
      "text/plain": [
       "             Age  Program Days  University Degree Score  \\\n",
       "count  22.000000     22.000000                22.000000   \n",
       "mean   29.272727     25.590909                10.549545   \n",
       "std     6.511395     19.689637                22.822862   \n",
       "min    20.000000      5.000000                 2.000000   \n",
       "25%    25.000000     12.000000                 3.010000   \n",
       "50%    27.000000     19.000000                 3.830000   \n",
       "75%    33.500000     50.500000                 4.472500   \n",
       "max    44.000000     59.000000                82.000000   \n",
       "\n",
       "       University Degree Score System          Y  \n",
       "count                       22.000000  22.000000  \n",
       "mean                        13.409091   0.136364  \n",
       "std                         28.030016   0.351250  \n",
       "min                          4.000000   0.000000  \n",
       "25%                          5.000000   0.000000  \n",
       "50%                          5.000000   0.000000  \n",
       "75%                          5.000000   0.000000  \n",
       "max                        100.000000   1.000000  "
      ]
     },
     "execution_count": 6,
     "metadata": {},
     "output_type": "execute_result"
    }
   ],
   "source": [
    "df.describe()"
   ]
  },
  {
   "cell_type": "code",
   "execution_count": 7,
   "metadata": {},
   "outputs": [
    {
     "data": {
      "text/plain": [
       "(22, 24)"
      ]
     },
     "execution_count": 7,
     "metadata": {},
     "output_type": "execute_result"
    }
   ],
   "source": [
    "df.shape"
   ]
  },
  {
   "cell_type": "code",
   "execution_count": 8,
   "metadata": {},
   "outputs": [
    {
     "data": {
      "text/html": [
       "<div>\n",
       "<style scoped>\n",
       "    .dataframe tbody tr th:only-of-type {\n",
       "        vertical-align: middle;\n",
       "    }\n",
       "\n",
       "    .dataframe tbody tr th {\n",
       "        vertical-align: top;\n",
       "    }\n",
       "\n",
       "    .dataframe thead th {\n",
       "        text-align: right;\n",
       "    }\n",
       "</style>\n",
       "<table border=\"1\" class=\"dataframe\">\n",
       "  <thead>\n",
       "    <tr style=\"text-align: right;\">\n",
       "      <th></th>\n",
       "      <th>Student ID</th>\n",
       "      <th>Age</th>\n",
       "      <th>Gender</th>\n",
       "      <th>Home Region</th>\n",
       "      <th>Home City</th>\n",
       "      <th>Program ID</th>\n",
       "      <th>Program Main Category Code</th>\n",
       "      <th>Program Sub Category Code</th>\n",
       "      <th>Technology Type</th>\n",
       "      <th>Program Skill Level</th>\n",
       "      <th>...</th>\n",
       "      <th>Completed Degree</th>\n",
       "      <th>Level of Education</th>\n",
       "      <th>Education Speaciality</th>\n",
       "      <th>College</th>\n",
       "      <th>University Degree Score</th>\n",
       "      <th>University Degree Score System</th>\n",
       "      <th>Employment Status</th>\n",
       "      <th>Job Type</th>\n",
       "      <th>Still Working</th>\n",
       "      <th>Y</th>\n",
       "    </tr>\n",
       "  </thead>\n",
       "  <tbody>\n",
       "    <tr>\n",
       "      <th>17</th>\n",
       "      <td>026169d9-6052-4d50-805b-7a52f15d5384</td>\n",
       "      <td>23.0</td>\n",
       "      <td>ذكر</td>\n",
       "      <td>منطقة الحدود الشمالية</td>\n",
       "      <td>رفحاء</td>\n",
       "      <td>bfe7c8aa-789e-4239-8043-8e7554fa564a</td>\n",
       "      <td>TOSL</td>\n",
       "      <td>NaN</td>\n",
       "      <td>NaN</td>\n",
       "      <td>متوسط</td>\n",
       "      <td>...</td>\n",
       "      <td>نعم</td>\n",
       "      <td>البكالوريوس</td>\n",
       "      <td>علوم حاسب</td>\n",
       "      <td>NaN</td>\n",
       "      <td>4.98</td>\n",
       "      <td>5.0</td>\n",
       "      <td>موظف</td>\n",
       "      <td>NaN</td>\n",
       "      <td>NaN</td>\n",
       "      <td>0</td>\n",
       "    </tr>\n",
       "    <tr>\n",
       "      <th>18</th>\n",
       "      <td>b0c4a2d0-3bfb-4485-bedd-bf33951e1ac6</td>\n",
       "      <td>25.0</td>\n",
       "      <td>أنثى</td>\n",
       "      <td>منطقة الرياض</td>\n",
       "      <td>الرياض</td>\n",
       "      <td>3dd29418-5f9d-4f1f-88bd-15beb922c745</td>\n",
       "      <td>APMR</td>\n",
       "      <td>NaN</td>\n",
       "      <td>NaN</td>\n",
       "      <td>متوسط</td>\n",
       "      <td>...</td>\n",
       "      <td>نعم</td>\n",
       "      <td>البكالوريوس</td>\n",
       "      <td>علوم حاسب</td>\n",
       "      <td>NaN</td>\n",
       "      <td>4.22</td>\n",
       "      <td>5.0</td>\n",
       "      <td>موظف</td>\n",
       "      <td>NaN</td>\n",
       "      <td>NaN</td>\n",
       "      <td>0</td>\n",
       "    </tr>\n",
       "    <tr>\n",
       "      <th>19</th>\n",
       "      <td>07635383-2679-49e4-a6ff-2ca71139d17a</td>\n",
       "      <td>25.0</td>\n",
       "      <td>ذكر</td>\n",
       "      <td>منطقة الجوف</td>\n",
       "      <td>طبرجل</td>\n",
       "      <td>1f09a274-8f35-41a1-9a5e-61a5f1cb98fc</td>\n",
       "      <td>TOSL</td>\n",
       "      <td>NaN</td>\n",
       "      <td>NaN</td>\n",
       "      <td>متوسط</td>\n",
       "      <td>...</td>\n",
       "      <td>نعم</td>\n",
       "      <td>البكالوريوس</td>\n",
       "      <td>علوم الحاسبات</td>\n",
       "      <td>تكنولوجيا الاتصالات والمعلومات</td>\n",
       "      <td>4.72</td>\n",
       "      <td>5.0</td>\n",
       "      <td>موظف</td>\n",
       "      <td>دوام كامل</td>\n",
       "      <td>Yes</td>\n",
       "      <td>0</td>\n",
       "    </tr>\n",
       "    <tr>\n",
       "      <th>20</th>\n",
       "      <td>46a8c358-353b-4766-9a88-180226d1df7e</td>\n",
       "      <td>24.0</td>\n",
       "      <td>أنثى</td>\n",
       "      <td>منطقة الرياض</td>\n",
       "      <td>الرياض</td>\n",
       "      <td>321e4dc8-c3c4-4173-bca5-59a0bd9f327c</td>\n",
       "      <td>PCRF</td>\n",
       "      <td>PCRF</td>\n",
       "      <td>تقليدية</td>\n",
       "      <td>متوسط</td>\n",
       "      <td>...</td>\n",
       "      <td>نعم</td>\n",
       "      <td>البكالوريوس</td>\n",
       "      <td>معلوماتية صحية</td>\n",
       "      <td>NaN</td>\n",
       "      <td>3.00</td>\n",
       "      <td>5.0</td>\n",
       "      <td>موظف</td>\n",
       "      <td>NaN</td>\n",
       "      <td>NaN</td>\n",
       "      <td>0</td>\n",
       "    </tr>\n",
       "    <tr>\n",
       "      <th>21</th>\n",
       "      <td>dd53ed38-f828-4b04-a8c1-b56be38ec586</td>\n",
       "      <td>35.0</td>\n",
       "      <td>ذكر</td>\n",
       "      <td>منطقة الرياض</td>\n",
       "      <td>الرياض</td>\n",
       "      <td>21c233a1-0101-44e6-8af8-39d545bddaaf</td>\n",
       "      <td>PCRF</td>\n",
       "      <td>PCRF</td>\n",
       "      <td>NaN</td>\n",
       "      <td>NaN</td>\n",
       "      <td>...</td>\n",
       "      <td>نعم</td>\n",
       "      <td>البكالوريوس</td>\n",
       "      <td>نظم المعلومات</td>\n",
       "      <td>تكنولوجيا الاتصالات والمعلومات</td>\n",
       "      <td>3.00</td>\n",
       "      <td>5.0</td>\n",
       "      <td>موظف</td>\n",
       "      <td>دوام كامل</td>\n",
       "      <td>Yes</td>\n",
       "      <td>0</td>\n",
       "    </tr>\n",
       "  </tbody>\n",
       "</table>\n",
       "<p>5 rows × 24 columns</p>\n",
       "</div>"
      ],
      "text/plain": [
       "                              Student ID   Age Gender            Home Region  \\\n",
       "17  026169d9-6052-4d50-805b-7a52f15d5384  23.0    ذكر  منطقة الحدود الشمالية   \n",
       "18  b0c4a2d0-3bfb-4485-bedd-bf33951e1ac6  25.0   أنثى           منطقة الرياض   \n",
       "19  07635383-2679-49e4-a6ff-2ca71139d17a  25.0    ذكر            منطقة الجوف   \n",
       "20  46a8c358-353b-4766-9a88-180226d1df7e  24.0   أنثى           منطقة الرياض   \n",
       "21  dd53ed38-f828-4b04-a8c1-b56be38ec586  35.0    ذكر           منطقة الرياض   \n",
       "\n",
       "   Home City                            Program ID Program Main Category Code  \\\n",
       "17     رفحاء  bfe7c8aa-789e-4239-8043-8e7554fa564a                       TOSL   \n",
       "18    الرياض  3dd29418-5f9d-4f1f-88bd-15beb922c745                       APMR   \n",
       "19     طبرجل  1f09a274-8f35-41a1-9a5e-61a5f1cb98fc                       TOSL   \n",
       "20    الرياض  321e4dc8-c3c4-4173-bca5-59a0bd9f327c                       PCRF   \n",
       "21    الرياض  21c233a1-0101-44e6-8af8-39d545bddaaf                       PCRF   \n",
       "\n",
       "   Program Sub Category Code Technology Type Program Skill Level  ...  \\\n",
       "17                       NaN             NaN               متوسط  ...   \n",
       "18                       NaN             NaN               متوسط  ...   \n",
       "19                       NaN             NaN               متوسط  ...   \n",
       "20                      PCRF         تقليدية               متوسط  ...   \n",
       "21                      PCRF             NaN                 NaN  ...   \n",
       "\n",
       "   Completed Degree Level of Education Education Speaciality  \\\n",
       "17              نعم        البكالوريوس             علوم حاسب   \n",
       "18              نعم        البكالوريوس             علوم حاسب   \n",
       "19              نعم        البكالوريوس         علوم الحاسبات   \n",
       "20              نعم        البكالوريوس        معلوماتية صحية   \n",
       "21              نعم        البكالوريوس         نظم المعلومات   \n",
       "\n",
       "                           College University Degree Score  \\\n",
       "17                             NaN                    4.98   \n",
       "18                             NaN                    4.22   \n",
       "19  تكنولوجيا الاتصالات والمعلومات                    4.72   \n",
       "20                             NaN                    3.00   \n",
       "21  تكنولوجيا الاتصالات والمعلومات                    3.00   \n",
       "\n",
       "   University Degree Score System Employment Status   Job Type  Still Working  \\\n",
       "17                            5.0              موظف        NaN            NaN   \n",
       "18                            5.0              موظف        NaN            NaN   \n",
       "19                            5.0              موظف  دوام كامل            Yes   \n",
       "20                            5.0              موظف        NaN            NaN   \n",
       "21                            5.0              موظف  دوام كامل            Yes   \n",
       "\n",
       "    Y  \n",
       "17  0  \n",
       "18  0  \n",
       "19  0  \n",
       "20  0  \n",
       "21  0  \n",
       "\n",
       "[5 rows x 24 columns]"
      ]
     },
     "execution_count": 8,
     "metadata": {},
     "output_type": "execute_result"
    }
   ],
   "source": [
    "df.tail()"
   ]
  },
  {
   "cell_type": "code",
   "execution_count": 9,
   "metadata": {},
   "outputs": [
    {
     "data": {
      "text/plain": [
       "Index(['Student ID', 'Age', 'Gender', 'Home Region', 'Home City', 'Program ID',\n",
       "       'Program Main Category Code', 'Program Sub Category Code',\n",
       "       'Technology Type', 'Program Skill Level', 'Program Presentation Method',\n",
       "       'Program Start Date', 'Program End Date', 'Program Days',\n",
       "       'Completed Degree', 'Level of Education', 'Education Speaciality',\n",
       "       'College', 'University Degree Score', 'University Degree Score System',\n",
       "       'Employment Status', 'Job Type', 'Still Working', 'Y'],\n",
       "      dtype='object')"
      ]
     },
     "execution_count": 9,
     "metadata": {},
     "output_type": "execute_result"
    }
   ],
   "source": [
    "df.columns"
   ]
  },
  {
   "cell_type": "markdown",
   "metadata": {},
   "source": [
    "preprocessing "
   ]
  },
  {
   "cell_type": "code",
   "execution_count": 10,
   "metadata": {},
   "outputs": [
    {
     "data": {
      "text/plain": [
       "Student ID                         0\n",
       "Age                                0\n",
       "Gender                             0\n",
       "Home Region                        0\n",
       "Home City                          0\n",
       "Program ID                         0\n",
       "Program Main Category Code         0\n",
       "Program Sub Category Code         11\n",
       "Technology Type                   13\n",
       "Program Skill Level                1\n",
       "Program Presentation Method        0\n",
       "Program Start Date                 0\n",
       "Program End Date                   0\n",
       "Program Days                       0\n",
       "Completed Degree                   0\n",
       "Level of Education                 0\n",
       "Education Speaciality              1\n",
       "College                           13\n",
       "University Degree Score            0\n",
       "University Degree Score System     0\n",
       "Employment Status                  3\n",
       "Job Type                          17\n",
       "Still Working                     17\n",
       "Y                                  0\n",
       "dtype: int64"
      ]
     },
     "execution_count": 10,
     "metadata": {},
     "output_type": "execute_result"
    }
   ],
   "source": [
    "#display the sum of null values in each column\n",
    "df.isna().sum()"
   ]
  },
  {
   "cell_type": "code",
   "execution_count": 11,
   "metadata": {},
   "outputs": [
    {
     "data": {
      "text/plain": [
       "Student ID                         object\n",
       "Age                               float64\n",
       "Gender                             object\n",
       "Home Region                        object\n",
       "Home City                          object\n",
       "Program ID                         object\n",
       "Program Main Category Code         object\n",
       "Program Sub Category Code          object\n",
       "Technology Type                    object\n",
       "Program Skill Level                object\n",
       "Program Presentation Method        object\n",
       "Program Start Date                 object\n",
       "Program End Date                   object\n",
       "Program Days                        int64\n",
       "Completed Degree                   object\n",
       "Level of Education                 object\n",
       "Education Speaciality              object\n",
       "College                            object\n",
       "University Degree Score           float64\n",
       "University Degree Score System    float64\n",
       "Employment Status                  object\n",
       "Job Type                           object\n",
       "Still Working                      object\n",
       "Y                                   int64\n",
       "dtype: object"
      ]
     },
     "execution_count": 11,
     "metadata": {},
     "output_type": "execute_result"
    }
   ],
   "source": [
    "#data types for all\n",
    "df.dtypes"
   ]
  },
  {
   "cell_type": "code",
   "execution_count": 12,
   "metadata": {},
   "outputs": [],
   "source": [
    "#convert float to int\n",
    "df['Age']=df['Age'].astype('int')"
   ]
  },
  {
   "cell_type": "code",
   "execution_count": 13,
   "metadata": {},
   "outputs": [],
   "source": [
    "# fill null values\n",
    "df['Age'].fillna(df['Age'].mean() , inplace=True)"
   ]
  },
  {
   "cell_type": "code",
   "execution_count": 14,
   "metadata": {},
   "outputs": [],
   "source": [
    "#drop the student id and program id\n",
    "df = df.drop(['Student ID','Program ID'], axis=1)"
   ]
  },
  {
   "cell_type": "code",
   "execution_count": 15,
   "metadata": {},
   "outputs": [],
   "source": [
    "df['Gender']=df['Gender'].replace({'ذكر':\"0\"}).astype('object')\n",
    "df['Gender']=df['Gender'].replace({'أنثى':\"1\"}).astype('object')"
   ]
  },
  {
   "cell_type": "code",
   "execution_count": 16,
   "metadata": {},
   "outputs": [
    {
     "name": "stdout",
     "output_type": "stream",
     "text": [
      "Gender\n",
      "0    14\n",
      "1     8\n",
      "Name: count, dtype: int64\n"
     ]
    }
   ],
   "source": [
    "print(df['Gender'].value_counts())"
   ]
  },
  {
   "cell_type": "code",
   "execution_count": 17,
   "metadata": {},
   "outputs": [],
   "source": [
    "# fill null values\n",
    "df['Home Region'].fillna(df['Home Region'].mode()[0], inplace=True)\n",
    "df['Home City'].fillna(df['Home City'].mode()[0], inplace=True)"
   ]
  },
  {
   "cell_type": "code",
   "execution_count": 18,
   "metadata": {},
   "outputs": [],
   "source": [
    "# fill null values\n",
    "df['Program Sub Category Code'].fillna(df['Program Sub Category Code'].mode()[0], inplace=True)\n",
    "df['Technology Type'].fillna(df['Technology Type'].mode()[0], inplace=True)\n",
    "df['Program Skill Level'].fillna(df['Program Skill Level'].mode()[0], inplace=True)\n"
   ]
  },
  {
   "cell_type": "code",
   "execution_count": 19,
   "metadata": {},
   "outputs": [],
   "source": [
    "#df['Program Presentation Method'] = df['Program Presentation Method'].astype(bool) "
   ]
  },
  {
   "cell_type": "code",
   "execution_count": 20,
   "metadata": {},
   "outputs": [],
   "source": [
    "#conert to a datatime \n",
    "df['Program Start Date'] = pd.to_datetime(df['Program Start Date'])\n",
    "df['Program End Date'] = pd.to_datetime(df['Program End Date'])"
   ]
  },
  {
   "cell_type": "code",
   "execution_count": 21,
   "metadata": {},
   "outputs": [],
   "source": [
    "#df['Completed Degree'] = df['Completed Degree'].astype(bool) "
   ]
  },
  {
   "cell_type": "code",
   "execution_count": 22,
   "metadata": {},
   "outputs": [],
   "source": [
    "# fill null values\n",
    "df['Level of Education'].fillna(df['Level of Education'].mode()[0], inplace=True)\n",
    "df['College'].fillna(df['College'].mode()[0], inplace=True)\n",
    "df['University Degree Score'].fillna(df['University Degree Score'].mean() , inplace=True)\n",
    "df['University Degree Score System'].fillna(df['University Degree Score System'].mean() , inplace=True)\n",
    "df['Education Speaciality'].fillna(df['Education Speaciality'].mode()[0], inplace=True)"
   ]
  },
  {
   "cell_type": "code",
   "execution_count": 23,
   "metadata": {},
   "outputs": [
    {
     "data": {
      "text/plain": [
       "0                          علوم الحاسبات\n",
       "1                              علوم حاسب\n",
       "2                     شبكات الحاسب الآلي\n",
       "3                          علوم الحاسبات\n",
       "4                                 محاسبة\n",
       "5                 Information technology\n",
       "6                        تقنية المعلومات\n",
       "7     Computer Network and Communication\n",
       "8                              غير متخصص\n",
       "9                          علوم الحاسبات\n",
       "10                            هندسة حاسب\n",
       "11                        هندسة حاسب آلي\n",
       "12                         علوم الحاسبات\n",
       "13                         علوم الحاسبات\n",
       "14                             علوم حاسب\n",
       "15                بكالوريس خدمة اجتماعيه\n",
       "16                         نظم المعلومات\n",
       "17                             علوم حاسب\n",
       "18                             علوم حاسب\n",
       "19                         علوم الحاسبات\n",
       "20                        معلوماتية صحية\n",
       "21                         نظم المعلومات\n",
       "Name: Education Speaciality, dtype: object"
      ]
     },
     "execution_count": 23,
     "metadata": {},
     "output_type": "execute_result"
    }
   ],
   "source": [
    "#to know the major \n",
    "df['Education Speaciality']"
   ]
  },
  {
   "cell_type": "code",
   "execution_count": 24,
   "metadata": {},
   "outputs": [],
   "source": [
    "#convert the name of major to one name \n",
    "df['Education Speaciality']=df['Education Speaciality'].replace({'Computer Science':\"Computer Science\"})\n",
    "df['Education Speaciality']=df['Education Speaciality'].replace({'Information technology': 'Information technology'})\n",
    "df['Education Speaciality']=df['Education Speaciality'].replace({'Cyber security': 'Cyber security'})\n",
    "df['Education Speaciality']=df['Education Speaciality'].replace({'امن سيبراني': 'Cyber security'})"
   ]
  },
  {
   "cell_type": "code",
   "execution_count": 25,
   "metadata": {},
   "outputs": [],
   "source": [
    "#convert the name of major to one name\n",
    "df['Education Speaciality']=df['Education Speaciality'].replace({'علوم الحاسبات':\"Computer Science\"})\n",
    "df['Education Speaciality']=df['Education Speaciality'].replace({'علوم حاسب':\"Computer Science\"})"
   ]
  },
  {
   "cell_type": "code",
   "execution_count": 26,
   "metadata": {},
   "outputs": [],
   "source": [
    "#convert the name of major to one name\n",
    "df['Education Speaciality'] = df['Education Speaciality'].replace({\n",
    "    'هندسة برمجيات': 'Software Engineering',\n",
    "    'هندسة حاسب': 'Software Engineering',\n",
    "   'هندسة الحاسب': 'Software Engineering',\n",
    "    'Software Engineering': 'Software Engineering',\n",
    "    'هندسة حاسب آلي': 'Software Engineering',\n",
    "   \"هندسة تقنية برمجيات\": 'Software Engineering',\n",
    "    \"هندسةالبرمجيات\": \"Software Engineering\",\n",
    "})"
   ]
  },
  {
   "cell_type": "code",
   "execution_count": 27,
   "metadata": {},
   "outputs": [],
   "source": [
    "#convert the name of major to one name\n",
    "df['Education Speaciality']=df['Education Speaciality'].replace({\"Computer Network and Communication\":\"Computer Network and Communication\",\"شبكات الحاسب الآلي\":\"Computer Network and Communication\"})"
   ]
  },
  {
   "cell_type": "code",
   "execution_count": 28,
   "metadata": {},
   "outputs": [],
   "source": [
    "#convert the name of major to one name\n",
    "df['Education Speaciality'] = df['Education Speaciality'].replace({\n",
    "    'MIS': 'Information technology',\n",
    "    'نظم معلومات إدارية': 'Information technology',\n",
    "   \"نظم معلومات ادارية\": 'Information technology',\n",
    "})\n"
   ]
  },
  {
   "cell_type": "code",
   "execution_count": 29,
   "metadata": {},
   "outputs": [],
   "source": [
    "#convert the name of major to one name\n",
    "df['Education Speaciality'] = df['Education Speaciality'].replace({\n",
    "    'Information Systems': 'Information technology',\n",
    "    'Computer Information Systems': 'Information technology',\n",
    "    'نظم معلومات': 'Information technology',\n",
    "    'نظم المعلومات الحاسوبية': 'Information technology',\n",
    "    'نظم معلومات الحاسوبية': 'Information technology',\n",
    "    'نظم المعلومات':\"Information technology\",\n",
    "    \"محاسبة\":\"accountant\",\n",
    "    \"تقنية المعلومات\":\"Information technology\",\n",
    "    \"معلوماتية صحية\":\"Health informatics\",\n",
    "    \"بكالوريس خدمة اجتماعيه\":\"social service\",\n",
    "    \"غير متخصص\":\"other\"\n",
    "})\n"
   ]
  },
  {
   "cell_type": "code",
   "execution_count": 30,
   "metadata": {},
   "outputs": [
    {
     "data": {
      "text/plain": [
       "Education Speaciality\n",
       "Computer Science                      10\n",
       "Information technology                 4\n",
       "Computer Network and Communication     2\n",
       "Software Engineering                   2\n",
       "accountant                             1\n",
       "other                                  1\n",
       "social service                         1\n",
       "Health informatics                     1\n",
       "Name: count, dtype: int64"
      ]
     },
     "execution_count": 30,
     "metadata": {},
     "output_type": "execute_result"
    }
   ],
   "source": [
    "df['Education Speaciality'].value_counts()"
   ]
  },
  {
   "cell_type": "code",
   "execution_count": 31,
   "metadata": {},
   "outputs": [],
   "source": [
    "df['Home Region'] = df['Home Region'].replace({\n",
    "    'منطقة الرياض': 'Riyadh region',\n",
    "    'منطقة القصيم': 'Qassim region',\n",
    "    'المنطقة الشرقية': 'Eastern Region',\n",
    "    'منطقة الحدود الشمالية': 'Northern border region',\n",
    "    'منطقة الجوف': 'Al-Jawf region'\n",
    "\n",
    "})\n"
   ]
  },
  {
   "cell_type": "code",
   "execution_count": 32,
   "metadata": {},
   "outputs": [
    {
     "data": {
      "text/plain": [
       "Home Region\n",
       "Riyadh region             18\n",
       "Qassim region              1\n",
       "Eastern Region             1\n",
       "Northern border region     1\n",
       "Al-Jawf region             1\n",
       "Name: count, dtype: int64"
      ]
     },
     "execution_count": 32,
     "metadata": {},
     "output_type": "execute_result"
    }
   ],
   "source": [
    "df[\"Home Region\"].value_counts()"
   ]
  },
  {
   "cell_type": "code",
   "execution_count": 33,
   "metadata": {},
   "outputs": [],
   "source": [
    "df['Home City'] = df['Home City'].replace({\n",
    "    'الرياض': 'Riyadh',\n",
    "    'بريدة': 'Buraidah',\n",
    "    'القطيف': 'Qatif',\n",
    "    'رفحاء': 'Rafha',\n",
    "    'طبرجل': 'Tabarjal'\n",
    "\n",
    "})"
   ]
  },
  {
   "cell_type": "code",
   "execution_count": 34,
   "metadata": {},
   "outputs": [
    {
     "data": {
      "text/plain": [
       "Home City\n",
       "Riyadh      18\n",
       "Buraidah     1\n",
       "Qatif        1\n",
       "Rafha        1\n",
       "Tabarjal     1\n",
       "Name: count, dtype: int64"
      ]
     },
     "execution_count": 34,
     "metadata": {},
     "output_type": "execute_result"
    }
   ],
   "source": [
    "df[\"Home City\"].value_counts()"
   ]
  },
  {
   "cell_type": "code",
   "execution_count": 35,
   "metadata": {},
   "outputs": [
    {
     "name": "stdout",
     "output_type": "stream",
     "text": [
      "Technology Type\n",
      "Traditional    22\n",
      "Name: count, dtype: int64\n"
     ]
    }
   ],
   "source": [
    "df['Technology Type'] = df['Technology Type'].replace({\n",
    "    'تقليدية': 'Traditional'})\n",
    "print(df[\"Technology Type\"].value_counts())"
   ]
  },
  {
   "cell_type": "code",
   "execution_count": 36,
   "metadata": {},
   "outputs": [
    {
     "name": "stdout",
     "output_type": "stream",
     "text": [
      "Program Skill Level\n",
      "intermediate    18\n",
      "beginner         2\n",
      "advanced         2\n",
      "Name: count, dtype: int64\n"
     ]
    }
   ],
   "source": [
    "df['Program Skill Level'] = df['Program Skill Level'].replace({\n",
    "    'متوسط': 'intermediate',\n",
    "    'مبتدئ': 'beginner',\n",
    "    'متقدم': 'advanced'})\n",
    "print(df[\"Program Skill Level\"].value_counts())"
   ]
  },
  {
   "cell_type": "code",
   "execution_count": 37,
   "metadata": {},
   "outputs": [
    {
     "name": "stdout",
     "output_type": "stream",
     "text": [
      "Program Presentation Method\n",
      "In presence    22\n",
      "Name: count, dtype: int64\n"
     ]
    }
   ],
   "source": [
    "df['Program Presentation Method'] = df['Program Presentation Method'].replace({\n",
    "    'حضوري': 'In presence'})\n",
    "print(df[\"Program Presentation Method\"].value_counts())"
   ]
  },
  {
   "cell_type": "code",
   "execution_count": 38,
   "metadata": {},
   "outputs": [],
   "source": [
    "df['Completed Degree']=df['Completed Degree'].replace({'لا':\"0\"}).astype('object')\n",
    "df['Completed Degree']=df['Completed Degree'].replace({'نعم':\"1\"}).astype('object')"
   ]
  },
  {
   "cell_type": "code",
   "execution_count": 39,
   "metadata": {},
   "outputs": [
    {
     "data": {
      "text/plain": [
       "Completed Degree\n",
       "1    20\n",
       "0     2\n",
       "Name: count, dtype: int64"
      ]
     },
     "execution_count": 39,
     "metadata": {},
     "output_type": "execute_result"
    }
   ],
   "source": [
    "df['Completed Degree'].value_counts()"
   ]
  },
  {
   "cell_type": "code",
   "execution_count": 40,
   "metadata": {},
   "outputs": [
    {
     "data": {
      "text/plain": [
       "Level of Education\n",
       "bachelor       18\n",
       "master          3\n",
       "high school     1\n",
       "Name: count, dtype: int64"
      ]
     },
     "execution_count": 40,
     "metadata": {},
     "output_type": "execute_result"
    }
   ],
   "source": [
    "df['Level of Education'] = df['Level of Education'].replace({\n",
    "    'البكالوريوس': 'bachelor',\n",
    "    'الماجستير': 'master',\n",
    "    'ثانوي': 'high school'})\n",
    "df['Level of Education'].value_counts()"
   ]
  },
  {
   "cell_type": "code",
   "execution_count": 41,
   "metadata": {},
   "outputs": [
    {
     "data": {
      "text/plain": [
       "College\n",
       "Information and communications technology    22\n",
       "Name: count, dtype: int64"
      ]
     },
     "execution_count": 41,
     "metadata": {},
     "output_type": "execute_result"
    }
   ],
   "source": [
    "df['College'] = df['College'].replace({\n",
    "    'تكنولوجيا الاتصالات والمعلومات': 'Information and communications technology'})\n",
    "df['College'].value_counts()"
   ]
  },
  {
   "cell_type": "code",
   "execution_count": 42,
   "metadata": {},
   "outputs": [
    {
     "data": {
      "text/plain": [
       "Employment Status\n",
       "employee    14\n",
       "graduate     4\n",
       "student      1\n",
       "Name: count, dtype: int64"
      ]
     },
     "execution_count": 42,
     "metadata": {},
     "output_type": "execute_result"
    }
   ],
   "source": [
    "df['Employment Status'] = df['Employment Status'].replace({\n",
    "    'موظف': 'employee',\n",
    "    'خريج': 'graduate',\n",
    "    'طالب': 'student'})\n",
    "df['Employment Status'].value_counts()"
   ]
  },
  {
   "cell_type": "code",
   "execution_count": 43,
   "metadata": {},
   "outputs": [
    {
     "data": {
      "text/plain": [
       "Job Type\n",
       "full time    4\n",
       "training     1\n",
       "Name: count, dtype: int64"
      ]
     },
     "execution_count": 43,
     "metadata": {},
     "output_type": "execute_result"
    }
   ],
   "source": [
    "df['Job Type'] = df['Job Type'].replace({\n",
    "    'دوام كامل': 'full time',\n",
    "    'تدريب': 'training'})\n",
    "df['Job Type'].value_counts()"
   ]
  },
  {
   "cell_type": "code",
   "execution_count": 44,
   "metadata": {},
   "outputs": [
    {
     "data": {
      "text/html": [
       "<div>\n",
       "<style scoped>\n",
       "    .dataframe tbody tr th:only-of-type {\n",
       "        vertical-align: middle;\n",
       "    }\n",
       "\n",
       "    .dataframe tbody tr th {\n",
       "        vertical-align: top;\n",
       "    }\n",
       "\n",
       "    .dataframe thead th {\n",
       "        text-align: right;\n",
       "    }\n",
       "</style>\n",
       "<table border=\"1\" class=\"dataframe\">\n",
       "  <thead>\n",
       "    <tr style=\"text-align: right;\">\n",
       "      <th></th>\n",
       "      <th>Age</th>\n",
       "      <th>Gender</th>\n",
       "      <th>Home Region</th>\n",
       "      <th>Home City</th>\n",
       "      <th>Program Main Category Code</th>\n",
       "      <th>Program Sub Category Code</th>\n",
       "      <th>Technology Type</th>\n",
       "      <th>Program Skill Level</th>\n",
       "      <th>Program Presentation Method</th>\n",
       "      <th>Program Start Date</th>\n",
       "      <th>...</th>\n",
       "      <th>Completed Degree</th>\n",
       "      <th>Level of Education</th>\n",
       "      <th>Education Speaciality</th>\n",
       "      <th>College</th>\n",
       "      <th>University Degree Score</th>\n",
       "      <th>University Degree Score System</th>\n",
       "      <th>Employment Status</th>\n",
       "      <th>Job Type</th>\n",
       "      <th>Still Working</th>\n",
       "      <th>Y</th>\n",
       "    </tr>\n",
       "  </thead>\n",
       "  <tbody>\n",
       "    <tr>\n",
       "      <th>0</th>\n",
       "      <td>23</td>\n",
       "      <td>0</td>\n",
       "      <td>Riyadh region</td>\n",
       "      <td>Riyadh</td>\n",
       "      <td>TOSL</td>\n",
       "      <td>PCRF</td>\n",
       "      <td>Traditional</td>\n",
       "      <td>intermediate</td>\n",
       "      <td>In presence</td>\n",
       "      <td>2023-07-23</td>\n",
       "      <td>...</td>\n",
       "      <td>1</td>\n",
       "      <td>bachelor</td>\n",
       "      <td>Computer Science</td>\n",
       "      <td>Information and communications technology</td>\n",
       "      <td>3.08</td>\n",
       "      <td>4.0</td>\n",
       "      <td>employee</td>\n",
       "      <td>full time</td>\n",
       "      <td>Yes</td>\n",
       "      <td>0</td>\n",
       "    </tr>\n",
       "    <tr>\n",
       "      <th>1</th>\n",
       "      <td>23</td>\n",
       "      <td>0</td>\n",
       "      <td>Qassim region</td>\n",
       "      <td>Buraidah</td>\n",
       "      <td>TOSL</td>\n",
       "      <td>PCRF</td>\n",
       "      <td>Traditional</td>\n",
       "      <td>intermediate</td>\n",
       "      <td>In presence</td>\n",
       "      <td>2023-07-23</td>\n",
       "      <td>...</td>\n",
       "      <td>1</td>\n",
       "      <td>bachelor</td>\n",
       "      <td>Computer Science</td>\n",
       "      <td>Information and communications technology</td>\n",
       "      <td>4.54</td>\n",
       "      <td>5.0</td>\n",
       "      <td>graduate</td>\n",
       "      <td>NaN</td>\n",
       "      <td>NaN</td>\n",
       "      <td>0</td>\n",
       "    </tr>\n",
       "    <tr>\n",
       "      <th>2</th>\n",
       "      <td>34</td>\n",
       "      <td>1</td>\n",
       "      <td>Riyadh region</td>\n",
       "      <td>Riyadh</td>\n",
       "      <td>PCRF</td>\n",
       "      <td>PCRF</td>\n",
       "      <td>Traditional</td>\n",
       "      <td>intermediate</td>\n",
       "      <td>In presence</td>\n",
       "      <td>2023-01-08</td>\n",
       "      <td>...</td>\n",
       "      <td>1</td>\n",
       "      <td>master</td>\n",
       "      <td>Computer Network and Communication</td>\n",
       "      <td>Information and communications technology</td>\n",
       "      <td>2.00</td>\n",
       "      <td>5.0</td>\n",
       "      <td>employee</td>\n",
       "      <td>full time</td>\n",
       "      <td>Yes</td>\n",
       "      <td>0</td>\n",
       "    </tr>\n",
       "    <tr>\n",
       "      <th>3</th>\n",
       "      <td>28</td>\n",
       "      <td>1</td>\n",
       "      <td>Riyadh region</td>\n",
       "      <td>Riyadh</td>\n",
       "      <td>PCRF</td>\n",
       "      <td>PCRF</td>\n",
       "      <td>Traditional</td>\n",
       "      <td>intermediate</td>\n",
       "      <td>In presence</td>\n",
       "      <td>2023-01-08</td>\n",
       "      <td>...</td>\n",
       "      <td>1</td>\n",
       "      <td>high school</td>\n",
       "      <td>Computer Science</td>\n",
       "      <td>Information and communications technology</td>\n",
       "      <td>82.00</td>\n",
       "      <td>100.0</td>\n",
       "      <td>employee</td>\n",
       "      <td>NaN</td>\n",
       "      <td>NaN</td>\n",
       "      <td>0</td>\n",
       "    </tr>\n",
       "    <tr>\n",
       "      <th>4</th>\n",
       "      <td>32</td>\n",
       "      <td>0</td>\n",
       "      <td>Riyadh region</td>\n",
       "      <td>Riyadh</td>\n",
       "      <td>CAUF</td>\n",
       "      <td>SWPS</td>\n",
       "      <td>Traditional</td>\n",
       "      <td>beginner</td>\n",
       "      <td>In presence</td>\n",
       "      <td>2022-09-25</td>\n",
       "      <td>...</td>\n",
       "      <td>1</td>\n",
       "      <td>bachelor</td>\n",
       "      <td>accountant</td>\n",
       "      <td>Information and communications technology</td>\n",
       "      <td>3.21</td>\n",
       "      <td>5.0</td>\n",
       "      <td>employee</td>\n",
       "      <td>NaN</td>\n",
       "      <td>NaN</td>\n",
       "      <td>1</td>\n",
       "    </tr>\n",
       "  </tbody>\n",
       "</table>\n",
       "<p>5 rows × 22 columns</p>\n",
       "</div>"
      ],
      "text/plain": [
       "   Age Gender    Home Region Home City Program Main Category Code  \\\n",
       "0   23      0  Riyadh region    Riyadh                       TOSL   \n",
       "1   23      0  Qassim region  Buraidah                       TOSL   \n",
       "2   34      1  Riyadh region    Riyadh                       PCRF   \n",
       "3   28      1  Riyadh region    Riyadh                       PCRF   \n",
       "4   32      0  Riyadh region    Riyadh                       CAUF   \n",
       "\n",
       "  Program Sub Category Code Technology Type Program Skill Level  \\\n",
       "0                      PCRF     Traditional        intermediate   \n",
       "1                      PCRF     Traditional        intermediate   \n",
       "2                      PCRF     Traditional        intermediate   \n",
       "3                      PCRF     Traditional        intermediate   \n",
       "4                      SWPS     Traditional            beginner   \n",
       "\n",
       "  Program Presentation Method Program Start Date  ... Completed Degree  \\\n",
       "0                 In presence         2023-07-23  ...                1   \n",
       "1                 In presence         2023-07-23  ...                1   \n",
       "2                 In presence         2023-01-08  ...                1   \n",
       "3                 In presence         2023-01-08  ...                1   \n",
       "4                 In presence         2022-09-25  ...                1   \n",
       "\n",
       "   Level of Education               Education Speaciality  \\\n",
       "0            bachelor                    Computer Science   \n",
       "1            bachelor                    Computer Science   \n",
       "2              master  Computer Network and Communication   \n",
       "3         high school                    Computer Science   \n",
       "4            bachelor                          accountant   \n",
       "\n",
       "                                     College University Degree Score  \\\n",
       "0  Information and communications technology                    3.08   \n",
       "1  Information and communications technology                    4.54   \n",
       "2  Information and communications technology                    2.00   \n",
       "3  Information and communications technology                   82.00   \n",
       "4  Information and communications technology                    3.21   \n",
       "\n",
       "  University Degree Score System  Employment Status   Job Type Still Working  \\\n",
       "0                            4.0           employee  full time           Yes   \n",
       "1                            5.0           graduate        NaN           NaN   \n",
       "2                            5.0           employee  full time           Yes   \n",
       "3                          100.0           employee        NaN           NaN   \n",
       "4                            5.0           employee        NaN           NaN   \n",
       "\n",
       "   Y  \n",
       "0  0  \n",
       "1  0  \n",
       "2  0  \n",
       "3  0  \n",
       "4  1  \n",
       "\n",
       "[5 rows x 22 columns]"
      ]
     },
     "execution_count": 44,
     "metadata": {},
     "output_type": "execute_result"
    }
   ],
   "source": [
    "df.head()\n"
   ]
  },
  {
   "cell_type": "code",
   "execution_count": 45,
   "metadata": {},
   "outputs": [],
   "source": [
    "#fill the missing \n",
    "df['Job Type'].fillna(df['Job Type'].mode()[0], inplace=True)\n",
    "df['Employment Status'].fillna(df['Employment Status'].mode()[0], inplace=True)\n",
    "df['Still Working'].fillna(df['Still Working'].mode()[0], inplace=True)"
   ]
  },
  {
   "cell_type": "code",
   "execution_count": 46,
   "metadata": {},
   "outputs": [],
   "source": [
    "#df['Still Working'] = df['Still Working'].astype(bool) "
   ]
  },
  {
   "cell_type": "code",
   "execution_count": 47,
   "metadata": {},
   "outputs": [],
   "source": [
    "#conert the target to boolean\n",
    "df['Y'] = df['Y'].astype(bool) "
   ]
  },
  {
   "cell_type": "code",
   "execution_count": 48,
   "metadata": {},
   "outputs": [
    {
     "data": {
      "text/plain": [
       "Y\n",
       "False    19\n",
       "True      3\n",
       "Name: count, dtype: int64"
      ]
     },
     "execution_count": 48,
     "metadata": {},
     "output_type": "execute_result"
    }
   ],
   "source": [
    "df['Y'].value_counts()"
   ]
  },
  {
   "cell_type": "code",
   "execution_count": 49,
   "metadata": {},
   "outputs": [
    {
     "data": {
      "text/plain": [
       "Age                               0\n",
       "Gender                            0\n",
       "Home Region                       0\n",
       "Home City                         0\n",
       "Program Main Category Code        0\n",
       "Program Sub Category Code         0\n",
       "Technology Type                   0\n",
       "Program Skill Level               0\n",
       "Program Presentation Method       0\n",
       "Program Start Date                0\n",
       "Program End Date                  0\n",
       "Program Days                      0\n",
       "Completed Degree                  0\n",
       "Level of Education                0\n",
       "Education Speaciality             0\n",
       "College                           0\n",
       "University Degree Score           0\n",
       "University Degree Score System    0\n",
       "Employment Status                 0\n",
       "Job Type                          0\n",
       "Still Working                     0\n",
       "Y                                 0\n",
       "dtype: int64"
      ]
     },
     "execution_count": 49,
     "metadata": {},
     "output_type": "execute_result"
    }
   ],
   "source": [
    "#cheak the missing value \n",
    "df.isna().sum()"
   ]
  },
  {
   "cell_type": "code",
   "execution_count": 50,
   "metadata": {},
   "outputs": [
    {
     "data": {
      "text/plain": [
       "0"
      ]
     },
     "execution_count": 50,
     "metadata": {},
     "output_type": "execute_result"
    }
   ],
   "source": [
    "#cheak the duplicates\n",
    "df.duplicated().sum()"
   ]
  },
  {
   "cell_type": "code",
   "execution_count": 51,
   "metadata": {},
   "outputs": [],
   "source": [
    "#drop the duplicates\n",
    "df=df.drop_duplicates()"
   ]
  },
  {
   "cell_type": "code",
   "execution_count": 52,
   "metadata": {},
   "outputs": [
    {
     "data": {
      "text/plain": [
       "0"
      ]
     },
     "execution_count": 52,
     "metadata": {},
     "output_type": "execute_result"
    }
   ],
   "source": [
    "#cheak the duplicates\n",
    "df.duplicated().sum()"
   ]
  },
  {
   "cell_type": "code",
   "execution_count": 53,
   "metadata": {},
   "outputs": [
    {
     "name": "stdout",
     "output_type": "stream",
     "text": [
      "Age                               0\n",
      "Gender                            0\n",
      "Home Region                       0\n",
      "Home City                         0\n",
      "Program Main Category Code        0\n",
      "Program Sub Category Code         0\n",
      "Technology Type                   0\n",
      "Program Skill Level               0\n",
      "Program Presentation Method       0\n",
      "Program Start Date                0\n",
      "Program End Date                  0\n",
      "Program Days                      0\n",
      "Completed Degree                  0\n",
      "Level of Education                0\n",
      "Education Speaciality             0\n",
      "College                           0\n",
      "University Degree Score           0\n",
      "University Degree Score System    0\n",
      "Employment Status                 0\n",
      "Job Type                          0\n",
      "Still Working                     0\n",
      "Y                                 0\n",
      "dtype: int64\n"
     ]
    }
   ],
   "source": [
    "print(df.isnull().sum())"
   ]
  },
  {
   "cell_type": "code",
   "execution_count": 54,
   "metadata": {},
   "outputs": [],
   "source": [
    "#split the data to categorical and numrical\n",
    "Categorical = df.select_dtypes(include=[object]).columns\n",
    "numerical = df.select_dtypes(include=[int,float]).columns"
   ]
  },
  {
   "cell_type": "markdown",
   "metadata": {},
   "source": [
    " encoding categorical variables"
   ]
  },
  {
   "cell_type": "code",
   "execution_count": 55,
   "metadata": {},
   "outputs": [],
   "source": [
    "#convert categorical to encoding\n",
    "from sklearn.preprocessing import OneHotEncoder\n",
    "#Convert 'Categorical' to a 2D array\n",
    "categorical_2d = Categorical.values.reshape(-1, 1)\n",
    "Encoder=OneHotEncoder(sparse_output=False)\n",
    "E_Categorical=Encoder.fit_transform(categorical_2d)"
   ]
  },
  {
   "cell_type": "markdown",
   "metadata": {},
   "source": [
    "Scaling numerical features"
   ]
  },
  {
   "cell_type": "code",
   "execution_count": 56,
   "metadata": {},
   "outputs": [],
   "source": [
    "#convert numerical to scalling\n",
    "from sklearn.preprocessing import StandardScaler\n",
    "#Convert 'Categorical' to a 2D array\n",
    "numerical_2d = numerical.values.reshape(-1, 1)\n",
    "Scaler=StandardScaler()\n",
    "numerical=Encoder.fit_transform(numerical_2d)"
   ]
  },
  {
   "cell_type": "code",
   "execution_count": 57,
   "metadata": {},
   "outputs": [],
   "source": [
    "#split fueatura and target (X:Fueatura Y:target)\n",
    "X = pd.concat([pd.DataFrame(E_Categorical), pd.DataFrame(numerical)], axis=1)\n",
    "y = df['Y']"
   ]
  },
  {
   "cell_type": "code",
   "execution_count": 58,
   "metadata": {},
   "outputs": [],
   "source": [
    "from sklearn.impute import SimpleImputer\n",
    "imputer_X = SimpleImputer(strategy='mean')\n",
    "X = imputer_X.fit_transform(X)"
   ]
  },
  {
   "cell_type": "code",
   "execution_count": 59,
   "metadata": {},
   "outputs": [
    {
     "ename": "ValueError",
     "evalue": "Found input variables with inconsistent numbers of samples: [15, 22]",
     "output_type": "error",
     "traceback": [
      "\u001b[1;31m---------------------------------------------------------------------------\u001b[0m",
      "\u001b[1;31mValueError\u001b[0m                                Traceback (most recent call last)",
      "Cell \u001b[1;32mIn[59], line 3\u001b[0m\n\u001b[0;32m      1\u001b[0m \u001b[38;5;28;01mfrom\u001b[39;00m \u001b[38;5;21;01mimblearn\u001b[39;00m\u001b[38;5;21;01m.\u001b[39;00m\u001b[38;5;21;01mover_sampling\u001b[39;00m \u001b[38;5;28;01mimport\u001b[39;00m SMOTE\n\u001b[0;32m      2\u001b[0m smote \u001b[38;5;241m=\u001b[39m SMOTE(random_state\u001b[38;5;241m=\u001b[39m\u001b[38;5;241m42\u001b[39m)\n\u001b[1;32m----> 3\u001b[0m X_resampled, y_resampled \u001b[38;5;241m=\u001b[39m \u001b[43msmote\u001b[49m\u001b[38;5;241;43m.\u001b[39;49m\u001b[43mfit_resample\u001b[49m\u001b[43m(\u001b[49m\u001b[43mX\u001b[49m\u001b[43m,\u001b[49m\u001b[43my\u001b[49m\u001b[43m)\u001b[49m\n",
      "File \u001b[1;32mc:\\Users\\PCD\\miniconda3\\envs\\t6\\lib\\site-packages\\imblearn\\base.py:208\u001b[0m, in \u001b[0;36mBaseSampler.fit_resample\u001b[1;34m(self, X, y)\u001b[0m\n\u001b[0;32m    187\u001b[0m \u001b[38;5;250m\u001b[39m\u001b[38;5;124;03m\"\"\"Resample the dataset.\u001b[39;00m\n\u001b[0;32m    188\u001b[0m \n\u001b[0;32m    189\u001b[0m \u001b[38;5;124;03mParameters\u001b[39;00m\n\u001b[1;32m   (...)\u001b[0m\n\u001b[0;32m    205\u001b[0m \u001b[38;5;124;03m    The corresponding label of `X_resampled`.\u001b[39;00m\n\u001b[0;32m    206\u001b[0m \u001b[38;5;124;03m\"\"\"\u001b[39;00m\n\u001b[0;32m    207\u001b[0m \u001b[38;5;28mself\u001b[39m\u001b[38;5;241m.\u001b[39m_validate_params()\n\u001b[1;32m--> 208\u001b[0m \u001b[38;5;28;01mreturn\u001b[39;00m \u001b[38;5;28;43msuper\u001b[39;49m\u001b[43m(\u001b[49m\u001b[43m)\u001b[49m\u001b[38;5;241;43m.\u001b[39;49m\u001b[43mfit_resample\u001b[49m\u001b[43m(\u001b[49m\u001b[43mX\u001b[49m\u001b[43m,\u001b[49m\u001b[43m \u001b[49m\u001b[43my\u001b[49m\u001b[43m)\u001b[49m\n",
      "File \u001b[1;32mc:\\Users\\PCD\\miniconda3\\envs\\t6\\lib\\site-packages\\imblearn\\base.py:106\u001b[0m, in \u001b[0;36mSamplerMixin.fit_resample\u001b[1;34m(self, X, y)\u001b[0m\n\u001b[0;32m    104\u001b[0m check_classification_targets(y)\n\u001b[0;32m    105\u001b[0m arrays_transformer \u001b[38;5;241m=\u001b[39m ArraysTransformer(X, y)\n\u001b[1;32m--> 106\u001b[0m X, y, binarize_y \u001b[38;5;241m=\u001b[39m \u001b[38;5;28;43mself\u001b[39;49m\u001b[38;5;241;43m.\u001b[39;49m\u001b[43m_check_X_y\u001b[49m\u001b[43m(\u001b[49m\u001b[43mX\u001b[49m\u001b[43m,\u001b[49m\u001b[43m \u001b[49m\u001b[43my\u001b[49m\u001b[43m)\u001b[49m\n\u001b[0;32m    108\u001b[0m \u001b[38;5;28mself\u001b[39m\u001b[38;5;241m.\u001b[39msampling_strategy_ \u001b[38;5;241m=\u001b[39m check_sampling_strategy(\n\u001b[0;32m    109\u001b[0m     \u001b[38;5;28mself\u001b[39m\u001b[38;5;241m.\u001b[39msampling_strategy, y, \u001b[38;5;28mself\u001b[39m\u001b[38;5;241m.\u001b[39m_sampling_type\n\u001b[0;32m    110\u001b[0m )\n\u001b[0;32m    112\u001b[0m output \u001b[38;5;241m=\u001b[39m \u001b[38;5;28mself\u001b[39m\u001b[38;5;241m.\u001b[39m_fit_resample(X, y)\n",
      "File \u001b[1;32mc:\\Users\\PCD\\miniconda3\\envs\\t6\\lib\\site-packages\\imblearn\\base.py:161\u001b[0m, in \u001b[0;36mBaseSampler._check_X_y\u001b[1;34m(self, X, y, accept_sparse)\u001b[0m\n\u001b[0;32m    159\u001b[0m     accept_sparse \u001b[38;5;241m=\u001b[39m [\u001b[38;5;124m\"\u001b[39m\u001b[38;5;124mcsr\u001b[39m\u001b[38;5;124m\"\u001b[39m, \u001b[38;5;124m\"\u001b[39m\u001b[38;5;124mcsc\u001b[39m\u001b[38;5;124m\"\u001b[39m]\n\u001b[0;32m    160\u001b[0m y, binarize_y \u001b[38;5;241m=\u001b[39m check_target_type(y, indicate_one_vs_all\u001b[38;5;241m=\u001b[39m\u001b[38;5;28;01mTrue\u001b[39;00m)\n\u001b[1;32m--> 161\u001b[0m X, y \u001b[38;5;241m=\u001b[39m \u001b[38;5;28;43mself\u001b[39;49m\u001b[38;5;241;43m.\u001b[39;49m\u001b[43m_validate_data\u001b[49m\u001b[43m(\u001b[49m\u001b[43mX\u001b[49m\u001b[43m,\u001b[49m\u001b[43m \u001b[49m\u001b[43my\u001b[49m\u001b[43m,\u001b[49m\u001b[43m \u001b[49m\u001b[43mreset\u001b[49m\u001b[38;5;241;43m=\u001b[39;49m\u001b[38;5;28;43;01mTrue\u001b[39;49;00m\u001b[43m,\u001b[49m\u001b[43m \u001b[49m\u001b[43maccept_sparse\u001b[49m\u001b[38;5;241;43m=\u001b[39;49m\u001b[43maccept_sparse\u001b[49m\u001b[43m)\u001b[49m\n\u001b[0;32m    162\u001b[0m \u001b[38;5;28;01mreturn\u001b[39;00m X, y, binarize_y\n",
      "File \u001b[1;32mc:\\Users\\PCD\\miniconda3\\envs\\t6\\lib\\site-packages\\sklearn\\base.py:650\u001b[0m, in \u001b[0;36mBaseEstimator._validate_data\u001b[1;34m(self, X, y, reset, validate_separately, cast_to_ndarray, **check_params)\u001b[0m\n\u001b[0;32m    648\u001b[0m         y \u001b[38;5;241m=\u001b[39m check_array(y, input_name\u001b[38;5;241m=\u001b[39m\u001b[38;5;124m\"\u001b[39m\u001b[38;5;124my\u001b[39m\u001b[38;5;124m\"\u001b[39m, \u001b[38;5;241m*\u001b[39m\u001b[38;5;241m*\u001b[39mcheck_y_params)\n\u001b[0;32m    649\u001b[0m     \u001b[38;5;28;01melse\u001b[39;00m:\n\u001b[1;32m--> 650\u001b[0m         X, y \u001b[38;5;241m=\u001b[39m check_X_y(X, y, \u001b[38;5;241m*\u001b[39m\u001b[38;5;241m*\u001b[39mcheck_params)\n\u001b[0;32m    651\u001b[0m     out \u001b[38;5;241m=\u001b[39m X, y\n\u001b[0;32m    653\u001b[0m \u001b[38;5;28;01mif\u001b[39;00m \u001b[38;5;129;01mnot\u001b[39;00m no_val_X \u001b[38;5;129;01mand\u001b[39;00m check_params\u001b[38;5;241m.\u001b[39mget(\u001b[38;5;124m\"\u001b[39m\u001b[38;5;124mensure_2d\u001b[39m\u001b[38;5;124m\"\u001b[39m, \u001b[38;5;28;01mTrue\u001b[39;00m):\n",
      "File \u001b[1;32mc:\\Users\\PCD\\miniconda3\\envs\\t6\\lib\\site-packages\\sklearn\\utils\\validation.py:1281\u001b[0m, in \u001b[0;36mcheck_X_y\u001b[1;34m(X, y, accept_sparse, accept_large_sparse, dtype, order, copy, force_all_finite, ensure_2d, allow_nd, multi_output, ensure_min_samples, ensure_min_features, y_numeric, estimator)\u001b[0m\n\u001b[0;32m   1263\u001b[0m X \u001b[38;5;241m=\u001b[39m check_array(\n\u001b[0;32m   1264\u001b[0m     X,\n\u001b[0;32m   1265\u001b[0m     accept_sparse\u001b[38;5;241m=\u001b[39maccept_sparse,\n\u001b[1;32m   (...)\u001b[0m\n\u001b[0;32m   1276\u001b[0m     input_name\u001b[38;5;241m=\u001b[39m\u001b[38;5;124m\"\u001b[39m\u001b[38;5;124mX\u001b[39m\u001b[38;5;124m\"\u001b[39m,\n\u001b[0;32m   1277\u001b[0m )\n\u001b[0;32m   1279\u001b[0m y \u001b[38;5;241m=\u001b[39m _check_y(y, multi_output\u001b[38;5;241m=\u001b[39mmulti_output, y_numeric\u001b[38;5;241m=\u001b[39my_numeric, estimator\u001b[38;5;241m=\u001b[39mestimator)\n\u001b[1;32m-> 1281\u001b[0m \u001b[43mcheck_consistent_length\u001b[49m\u001b[43m(\u001b[49m\u001b[43mX\u001b[49m\u001b[43m,\u001b[49m\u001b[43m \u001b[49m\u001b[43my\u001b[49m\u001b[43m)\u001b[49m\n\u001b[0;32m   1283\u001b[0m \u001b[38;5;28;01mreturn\u001b[39;00m X, y\n",
      "File \u001b[1;32mc:\\Users\\PCD\\miniconda3\\envs\\t6\\lib\\site-packages\\sklearn\\utils\\validation.py:457\u001b[0m, in \u001b[0;36mcheck_consistent_length\u001b[1;34m(*arrays)\u001b[0m\n\u001b[0;32m    455\u001b[0m uniques \u001b[38;5;241m=\u001b[39m np\u001b[38;5;241m.\u001b[39munique(lengths)\n\u001b[0;32m    456\u001b[0m \u001b[38;5;28;01mif\u001b[39;00m \u001b[38;5;28mlen\u001b[39m(uniques) \u001b[38;5;241m>\u001b[39m \u001b[38;5;241m1\u001b[39m:\n\u001b[1;32m--> 457\u001b[0m     \u001b[38;5;28;01mraise\u001b[39;00m \u001b[38;5;167;01mValueError\u001b[39;00m(\n\u001b[0;32m    458\u001b[0m         \u001b[38;5;124m\"\u001b[39m\u001b[38;5;124mFound input variables with inconsistent numbers of samples: \u001b[39m\u001b[38;5;132;01m%r\u001b[39;00m\u001b[38;5;124m\"\u001b[39m\n\u001b[0;32m    459\u001b[0m         \u001b[38;5;241m%\u001b[39m [\u001b[38;5;28mint\u001b[39m(l) \u001b[38;5;28;01mfor\u001b[39;00m l \u001b[38;5;129;01min\u001b[39;00m lengths]\n\u001b[0;32m    460\u001b[0m     )\n",
      "\u001b[1;31mValueError\u001b[0m: Found input variables with inconsistent numbers of samples: [15, 22]"
     ]
    }
   ],
   "source": [
    "from imblearn.over_sampling import SMOTE\n",
    "smote = SMOTE(random_state=42)\n",
    "X_resampled, y_resampled = smote.fit_resample(X,y)"
   ]
  },
  {
   "cell_type": "markdown",
   "metadata": {},
   "source": [
    " Split the preprocessed data into training and testing sets."
   ]
  },
  {
   "cell_type": "code",
   "execution_count": null,
   "metadata": {},
   "outputs": [
    {
     "ename": "NameError",
     "evalue": "name 'X_resampled' is not defined",
     "output_type": "error",
     "traceback": [
      "\u001b[1;31m---------------------------------------------------------------------------\u001b[0m",
      "\u001b[1;31mNameError\u001b[0m                                 Traceback (most recent call last)",
      "Cell \u001b[1;32mIn[65], line 2\u001b[0m\n\u001b[0;32m      1\u001b[0m \u001b[38;5;28;01mfrom\u001b[39;00m \u001b[38;5;21;01msklearn\u001b[39;00m\u001b[38;5;21;01m.\u001b[39;00m\u001b[38;5;21;01mmodel_selection\u001b[39;00m \u001b[38;5;28;01mimport\u001b[39;00m train_test_split\n\u001b[1;32m----> 2\u001b[0m X_train, X_test, y_train, y_test \u001b[38;5;241m=\u001b[39m train_test_split(\u001b[43mX_resampled\u001b[49m, y_resampled, test_size\u001b[38;5;241m=\u001b[39m\u001b[38;5;241m0.20\u001b[39m)\n",
      "\u001b[1;31mNameError\u001b[0m: name 'X_resampled' is not defined"
     ]
    }
   ],
   "source": [
    "from sklearn.model_selection import train_test_split\n",
    "X_train, X_test, y_train, y_test = train_test_split(X_resampled, y_resampled, test_size=0.20)"
   ]
  },
  {
   "cell_type": "code",
   "execution_count": null,
   "metadata": {},
   "outputs": [
    {
     "ename": "NameError",
     "evalue": "name 'X_train' is not defined",
     "output_type": "error",
     "traceback": [
      "\u001b[1;31m---------------------------------------------------------------------------\u001b[0m",
      "\u001b[1;31mNameError\u001b[0m                                 Traceback (most recent call last)",
      "Cell \u001b[1;32mIn[64], line 4\u001b[0m\n\u001b[0;32m      2\u001b[0m \u001b[38;5;28;01mfrom\u001b[39;00m \u001b[38;5;21;01msklearn\u001b[39;00m\u001b[38;5;21;01m.\u001b[39;00m\u001b[38;5;21;01mmetrics\u001b[39;00m \u001b[38;5;28;01mimport\u001b[39;00m accuracy_score\n\u001b[0;32m      3\u001b[0m logreg \u001b[38;5;241m=\u001b[39m LogisticRegression()\n\u001b[1;32m----> 4\u001b[0m logreg\u001b[38;5;241m.\u001b[39mfit(\u001b[43mX_train\u001b[49m, y_train)\n\u001b[0;32m      6\u001b[0m \u001b[38;5;66;03m# Make predictions on the test set\u001b[39;00m\n\u001b[0;32m      7\u001b[0m y_pred \u001b[38;5;241m=\u001b[39m logreg\u001b[38;5;241m.\u001b[39mpredict(X_test)\n",
      "\u001b[1;31mNameError\u001b[0m: name 'X_train' is not defined"
     ]
    }
   ],
   "source": [
    "from sklearn.linear_model import LogisticRegression\n",
    "from sklearn.metrics import accuracy_score\n",
    "logreg = LogisticRegression()\n",
    "logreg.fit(X_train, y_train)\n",
    "\n",
    "# Make predictions on the test set\n",
    "y_pred = logreg.predict(X_test)\n",
    "\n",
    "# Evaluate the model\n",
    "accuracy = accuracy_score(y_test, y_pred)\n",
    "print(\"Accuracy:\", accuracy)"
   ]
  },
  {
   "cell_type": "code",
   "execution_count": null,
   "metadata": {},
   "outputs": [
    {
     "name": "stdout",
     "output_type": "stream",
     "text": [
      "Collecting pycaret\n",
      "  Downloading pycaret-3.3.1-py3-none-any.whl.metadata (17 kB)\n",
      "Collecting category-encoders>=2.4.0 (from pycaret)\n",
      "  Downloading category_encoders-2.6.3-py2.py3-none-any.whl.metadata (8.0 kB)\n",
      "Collecting cloudpickle (from pycaret)\n",
      "  Downloading cloudpickle-3.0.0-py3-none-any.whl.metadata (7.0 kB)\n",
      "Collecting deprecation>=2.1.0 (from pycaret)\n",
      "  Downloading deprecation-2.1.0-py2.py3-none-any.whl.metadata (4.6 kB)\n",
      "Requirement already satisfied: imbalanced-learn>=0.12.0 in c:\\users\\pcd\\miniconda3\\envs\\t6\\lib\\site-packages (from pycaret) (0.12.2)\n",
      "Requirement already satisfied: importlib-metadata>=4.12.0 in c:\\users\\pcd\\appdata\\roaming\\python\\python39\\site-packages (from pycaret) (7.1.0)\n",
      "Requirement already satisfied: ipython>=5.5.0 in c:\\users\\pcd\\appdata\\roaming\\python\\python39\\site-packages (from pycaret) (8.18.1)\n",
      "Collecting ipywidgets>=7.6.5 (from pycaret)\n",
      "  Downloading ipywidgets-8.1.2-py3-none-any.whl.metadata (2.4 kB)\n",
      "Collecting jinja2>=3 (from pycaret)\n",
      "  Downloading Jinja2-3.1.3-py3-none-any.whl.metadata (3.3 kB)\n",
      "Collecting joblib<1.4,>=1.2.0 (from pycaret)\n",
      "  Downloading joblib-1.3.2-py3-none-any.whl.metadata (5.4 kB)\n",
      "Collecting kaleido>=0.2.1 (from pycaret)\n",
      "  Downloading kaleido-0.2.1-py2.py3-none-win_amd64.whl.metadata (15 kB)\n",
      "Collecting lightgbm>=3.0.0 (from pycaret)\n",
      "  Downloading lightgbm-4.3.0-py3-none-win_amd64.whl.metadata (19 kB)\n",
      "Collecting markupsafe>=2.0.1 (from pycaret)\n",
      "  Downloading MarkupSafe-2.1.5-cp39-cp39-win_amd64.whl.metadata (3.1 kB)\n",
      "Collecting matplotlib<3.8.0 (from pycaret)\n",
      "  Downloading matplotlib-3.7.5-cp39-cp39-win_amd64.whl.metadata (5.8 kB)\n",
      "Collecting nbformat>=4.2.0 (from pycaret)\n",
      "  Downloading nbformat-5.10.4-py3-none-any.whl.metadata (3.6 kB)\n",
      "Collecting numba>=0.55.0 (from pycaret)\n",
      "  Downloading numba-0.59.1-cp39-cp39-win_amd64.whl.metadata (2.8 kB)\n",
      "Requirement already satisfied: numpy<1.27,>=1.21 in c:\\users\\pcd\\miniconda3\\envs\\t6\\lib\\site-packages (from pycaret) (1.26.4)\n",
      "Collecting pandas<2.2.0 (from pycaret)\n",
      "  Downloading pandas-2.1.4-cp39-cp39-win_amd64.whl.metadata (18 kB)\n",
      "Collecting plotly-resampler>=0.8.3.1 (from pycaret)\n",
      "  Downloading plotly_resampler-0.10.0-py3-none-any.whl.metadata (13 kB)\n",
      "Collecting plotly>=5.14.0 (from pycaret)\n",
      "  Downloading plotly-5.21.0-py3-none-any.whl.metadata (7.1 kB)\n",
      "Collecting pmdarima>=2.0.4 (from pycaret)\n",
      "  Downloading pmdarima-2.0.4-cp39-cp39-win_amd64.whl.metadata (8.0 kB)\n",
      "Requirement already satisfied: psutil>=5.9.0 in c:\\users\\pcd\\appdata\\roaming\\python\\python39\\site-packages (from pycaret) (5.9.8)\n",
      "Collecting pyod>=1.1.3 (from pycaret)\n",
      "  Downloading pyod-1.1.3.tar.gz (160 kB)\n",
      "     ---------------------------------------- 0.0/160.5 kB ? eta -:--:--\n",
      "     ------- ----------------------------- 30.7/160.5 kB 640.0 kB/s eta 0:00:01\n",
      "     ------- ----------------------------- 30.7/160.5 kB 640.0 kB/s eta 0:00:01\n",
      "     --------- --------------------------- 41.0/160.5 kB 245.8 kB/s eta 0:00:01\n",
      "     -------------- ---------------------- 61.4/160.5 kB 363.1 kB/s eta 0:00:01\n",
      "     --------------------------- -------- 122.9/160.5 kB 514.3 kB/s eta 0:00:01\n",
      "     --------------------------- -------- 122.9/160.5 kB 514.3 kB/s eta 0:00:01\n",
      "     ---------------------------------- - 153.6/160.5 kB 482.7 kB/s eta 0:00:01\n",
      "     ------------------------------------ 160.5/160.5 kB 480.1 kB/s eta 0:00:00\n",
      "  Preparing metadata (setup.py): started\n",
      "  Preparing metadata (setup.py): finished with status 'done'\n",
      "Collecting requests>=2.27.1 (from pycaret)\n",
      "  Downloading requests-2.31.0-py3-none-any.whl.metadata (4.6 kB)\n",
      "Collecting schemdraw==0.15 (from pycaret)\n",
      "  Downloading schemdraw-0.15-py3-none-any.whl.metadata (2.2 kB)\n",
      "Requirement already satisfied: scikit-learn>1.4.0 in c:\\users\\pcd\\miniconda3\\envs\\t6\\lib\\site-packages (from pycaret) (1.4.2)\n",
      "Collecting scikit-plot>=0.3.7 (from pycaret)\n",
      "  Downloading scikit_plot-0.3.7-py3-none-any.whl.metadata (7.1 kB)\n",
      "Collecting scipy<=1.11.4,>=1.6.1 (from pycaret)\n",
      "  Downloading scipy-1.11.4-cp39-cp39-win_amd64.whl.metadata (60 kB)\n",
      "     ---------------------------------------- 0.0/60.4 kB ? eta -:--:--\n",
      "     ---------------------------------------- 60.4/60.4 kB 1.6 MB/s eta 0:00:00\n",
      "Collecting sktime==0.26.0 (from pycaret)\n",
      "  Downloading sktime-0.26.0-py3-none-any.whl.metadata (29 kB)\n",
      "Collecting statsmodels>=0.12.1 (from pycaret)\n",
      "  Downloading statsmodels-0.14.2-cp39-cp39-win_amd64.whl.metadata (9.5 kB)\n",
      "Collecting tbats>=1.1.3 (from pycaret)\n",
      "  Downloading tbats-1.1.3-py3-none-any.whl.metadata (3.8 kB)\n",
      "Collecting tqdm>=4.62.0 (from pycaret)\n",
      "  Downloading tqdm-4.66.2-py3-none-any.whl.metadata (57 kB)\n",
      "     ---------------------------------------- 0.0/57.6 kB ? eta -:--:--\n",
      "     ---------------------------------------- 57.6/57.6 kB 3.2 MB/s eta 0:00:00\n",
      "Collecting xxhash (from pycaret)\n",
      "  Downloading xxhash-3.4.1-cp39-cp39-win_amd64.whl.metadata (12 kB)\n",
      "Collecting yellowbrick>=1.4 (from pycaret)\n",
      "  Downloading yellowbrick-1.5-py3-none-any.whl.metadata (7.7 kB)\n",
      "Requirement already satisfied: packaging in c:\\users\\pcd\\appdata\\roaming\\python\\python39\\site-packages (from sktime==0.26.0->pycaret) (24.0)\n",
      "Collecting scikit-base<0.8.0 (from sktime==0.26.0->pycaret)\n",
      "  Downloading scikit_base-0.7.7-py3-none-any.whl.metadata (8.8 kB)\n",
      "Collecting patsy>=0.5.1 (from category-encoders>=2.4.0->pycaret)\n",
      "  Downloading patsy-0.5.6-py2.py3-none-any.whl.metadata (3.5 kB)\n",
      "Requirement already satisfied: threadpoolctl>=2.0.0 in c:\\users\\pcd\\miniconda3\\envs\\t6\\lib\\site-packages (from imbalanced-learn>=0.12.0->pycaret) (3.4.0)\n",
      "Requirement already satisfied: zipp>=0.5 in c:\\users\\pcd\\appdata\\roaming\\python\\python39\\site-packages (from importlib-metadata>=4.12.0->pycaret) (3.18.1)\n",
      "Requirement already satisfied: decorator in c:\\users\\pcd\\appdata\\roaming\\python\\python39\\site-packages (from ipython>=5.5.0->pycaret) (5.1.1)\n",
      "Requirement already satisfied: jedi>=0.16 in c:\\users\\pcd\\appdata\\roaming\\python\\python39\\site-packages (from ipython>=5.5.0->pycaret) (0.19.1)\n",
      "Requirement already satisfied: matplotlib-inline in c:\\users\\pcd\\appdata\\roaming\\python\\python39\\site-packages (from ipython>=5.5.0->pycaret) (0.1.6)\n",
      "Requirement already satisfied: prompt-toolkit<3.1.0,>=3.0.41 in c:\\users\\pcd\\appdata\\roaming\\python\\python39\\site-packages (from ipython>=5.5.0->pycaret) (3.0.43)\n",
      "Requirement already satisfied: pygments>=2.4.0 in c:\\users\\pcd\\appdata\\roaming\\python\\python39\\site-packages (from ipython>=5.5.0->pycaret) (2.17.2)\n",
      "Requirement already satisfied: stack-data in c:\\users\\pcd\\appdata\\roaming\\python\\python39\\site-packages (from ipython>=5.5.0->pycaret) (0.6.3)\n",
      "Requirement already satisfied: traitlets>=5 in c:\\users\\pcd\\appdata\\roaming\\python\\python39\\site-packages (from ipython>=5.5.0->pycaret) (5.14.2)\n",
      "Requirement already satisfied: typing-extensions in c:\\users\\pcd\\appdata\\roaming\\python\\python39\\site-packages (from ipython>=5.5.0->pycaret) (4.10.0)\n",
      "Requirement already satisfied: exceptiongroup in c:\\users\\pcd\\appdata\\roaming\\python\\python39\\site-packages (from ipython>=5.5.0->pycaret) (1.2.0)\n",
      "Requirement already satisfied: colorama in c:\\users\\pcd\\appdata\\roaming\\python\\python39\\site-packages (from ipython>=5.5.0->pycaret) (0.4.6)\n",
      "Requirement already satisfied: comm>=0.1.3 in c:\\users\\pcd\\appdata\\roaming\\python\\python39\\site-packages (from ipywidgets>=7.6.5->pycaret) (0.2.2)\n",
      "Collecting widgetsnbextension~=4.0.10 (from ipywidgets>=7.6.5->pycaret)\n",
      "  Downloading widgetsnbextension-4.0.10-py3-none-any.whl.metadata (1.6 kB)\n",
      "Collecting jupyterlab-widgets~=3.0.10 (from ipywidgets>=7.6.5->pycaret)\n",
      "  Downloading jupyterlab_widgets-3.0.10-py3-none-any.whl.metadata (4.1 kB)\n",
      "Requirement already satisfied: contourpy>=1.0.1 in c:\\users\\pcd\\miniconda3\\envs\\t6\\lib\\site-packages (from matplotlib<3.8.0->pycaret) (1.2.1)\n",
      "Requirement already satisfied: cycler>=0.10 in c:\\users\\pcd\\miniconda3\\envs\\t6\\lib\\site-packages (from matplotlib<3.8.0->pycaret) (0.12.1)\n",
      "Requirement already satisfied: fonttools>=4.22.0 in c:\\users\\pcd\\miniconda3\\envs\\t6\\lib\\site-packages (from matplotlib<3.8.0->pycaret) (4.51.0)\n",
      "Requirement already satisfied: kiwisolver>=1.0.1 in c:\\users\\pcd\\miniconda3\\envs\\t6\\lib\\site-packages (from matplotlib<3.8.0->pycaret) (1.4.5)\n",
      "Requirement already satisfied: pillow>=6.2.0 in c:\\users\\pcd\\miniconda3\\envs\\t6\\lib\\site-packages (from matplotlib<3.8.0->pycaret) (10.3.0)\n",
      "Requirement already satisfied: pyparsing>=2.3.1 in c:\\users\\pcd\\miniconda3\\envs\\t6\\lib\\site-packages (from matplotlib<3.8.0->pycaret) (3.1.2)\n",
      "Requirement already satisfied: python-dateutil>=2.7 in c:\\users\\pcd\\appdata\\roaming\\python\\python39\\site-packages (from matplotlib<3.8.0->pycaret) (2.9.0.post0)\n",
      "Requirement already satisfied: importlib-resources>=3.2.0 in c:\\users\\pcd\\miniconda3\\envs\\t6\\lib\\site-packages (from matplotlib<3.8.0->pycaret) (6.4.0)\n",
      "Collecting fastjsonschema>=2.15 (from nbformat>=4.2.0->pycaret)\n",
      "  Downloading fastjsonschema-2.19.1-py3-none-any.whl.metadata (2.1 kB)\n",
      "Collecting jsonschema>=2.6 (from nbformat>=4.2.0->pycaret)\n",
      "  Downloading jsonschema-4.21.1-py3-none-any.whl.metadata (7.8 kB)\n",
      "Requirement already satisfied: jupyter-core!=5.0.*,>=4.12 in c:\\users\\pcd\\appdata\\roaming\\python\\python39\\site-packages (from nbformat>=4.2.0->pycaret) (5.7.2)\n",
      "Collecting llvmlite<0.43,>=0.42.0dev0 (from numba>=0.55.0->pycaret)\n",
      "  Downloading llvmlite-0.42.0-cp39-cp39-win_amd64.whl.metadata (4.9 kB)\n",
      "Requirement already satisfied: pytz>=2020.1 in c:\\users\\pcd\\miniconda3\\envs\\t6\\lib\\site-packages (from pandas<2.2.0->pycaret) (2023.3.post1)\n",
      "Requirement already satisfied: tzdata>=2022.1 in c:\\users\\pcd\\miniconda3\\envs\\t6\\lib\\site-packages (from pandas<2.2.0->pycaret) (2023.3)\n",
      "Collecting tenacity>=6.2.0 (from plotly>=5.14.0->pycaret)\n",
      "  Downloading tenacity-8.2.3-py3-none-any.whl.metadata (1.0 kB)\n",
      "Collecting dash>=2.9.0 (from plotly-resampler>=0.8.3.1->pycaret)\n",
      "  Downloading dash-2.16.1-py3-none-any.whl.metadata (10 kB)\n",
      "Collecting orjson<4.0.0,>=3.8.0 (from plotly-resampler>=0.8.3.1->pycaret)\n",
      "  Downloading orjson-3.10.1-cp39-none-win_amd64.whl.metadata (50 kB)\n",
      "     ---------------------------------------- 0.0/50.9 kB ? eta -:--:--\n",
      "     ------------------------------ ------- 41.0/50.9 kB 960.0 kB/s eta 0:00:01\n",
      "     -------------------------------------- 50.9/50.9 kB 865.0 kB/s eta 0:00:00\n",
      "Collecting tsdownsample>=0.1.3 (from plotly-resampler>=0.8.3.1->pycaret)\n",
      "  Downloading tsdownsample-0.1.3-cp39-none-win_amd64.whl.metadata (8.0 kB)\n",
      "Collecting Cython!=0.29.18,!=0.29.31,>=0.29 (from pmdarima>=2.0.4->pycaret)\n",
      "  Downloading Cython-3.0.10-cp39-cp39-win_amd64.whl.metadata (3.2 kB)\n",
      "Collecting urllib3 (from pmdarima>=2.0.4->pycaret)\n",
      "  Downloading urllib3-2.2.1-py3-none-any.whl.metadata (6.4 kB)\n",
      "Requirement already satisfied: setuptools!=50.0.0,>=38.6.0 in c:\\users\\pcd\\miniconda3\\envs\\t6\\lib\\site-packages (from pmdarima>=2.0.4->pycaret) (68.2.2)\n",
      "Requirement already satisfied: six in c:\\users\\pcd\\appdata\\roaming\\python\\python39\\site-packages (from pyod>=1.1.3->pycaret) (1.16.0)\n",
      "Collecting charset-normalizer<4,>=2 (from requests>=2.27.1->pycaret)\n",
      "  Downloading charset_normalizer-3.3.2-cp39-cp39-win_amd64.whl.metadata (34 kB)\n",
      "Collecting idna<4,>=2.5 (from requests>=2.27.1->pycaret)\n",
      "  Downloading idna-3.7-py3-none-any.whl.metadata (9.9 kB)\n",
      "Collecting certifi>=2017.4.17 (from requests>=2.27.1->pycaret)\n",
      "  Downloading certifi-2024.2.2-py3-none-any.whl.metadata (2.2 kB)\n",
      "Collecting Flask<3.1,>=1.0.4 (from dash>=2.9.0->plotly-resampler>=0.8.3.1->pycaret)\n",
      "  Downloading flask-3.0.3-py3-none-any.whl.metadata (3.2 kB)\n",
      "Collecting Werkzeug<3.1 (from dash>=2.9.0->plotly-resampler>=0.8.3.1->pycaret)\n",
      "  Downloading werkzeug-3.0.2-py3-none-any.whl.metadata (4.1 kB)\n",
      "Collecting dash-html-components==2.0.0 (from dash>=2.9.0->plotly-resampler>=0.8.3.1->pycaret)\n",
      "  Downloading dash_html_components-2.0.0-py3-none-any.whl.metadata (3.8 kB)\n",
      "Collecting dash-core-components==2.0.0 (from dash>=2.9.0->plotly-resampler>=0.8.3.1->pycaret)\n",
      "  Downloading dash_core_components-2.0.0-py3-none-any.whl.metadata (2.9 kB)\n",
      "Collecting dash-table==5.0.0 (from dash>=2.9.0->plotly-resampler>=0.8.3.1->pycaret)\n",
      "  Downloading dash_table-5.0.0-py3-none-any.whl.metadata (2.4 kB)\n",
      "Collecting retrying (from dash>=2.9.0->plotly-resampler>=0.8.3.1->pycaret)\n",
      "  Downloading retrying-1.3.4-py3-none-any.whl.metadata (6.9 kB)\n",
      "Requirement already satisfied: nest-asyncio in c:\\users\\pcd\\appdata\\roaming\\python\\python39\\site-packages (from dash>=2.9.0->plotly-resampler>=0.8.3.1->pycaret) (1.6.0)\n",
      "Requirement already satisfied: parso<0.9.0,>=0.8.3 in c:\\users\\pcd\\appdata\\roaming\\python\\python39\\site-packages (from jedi>=0.16->ipython>=5.5.0->pycaret) (0.8.3)\n",
      "Collecting attrs>=22.2.0 (from jsonschema>=2.6->nbformat>=4.2.0->pycaret)\n",
      "  Downloading attrs-23.2.0-py3-none-any.whl.metadata (9.5 kB)\n",
      "Collecting jsonschema-specifications>=2023.03.6 (from jsonschema>=2.6->nbformat>=4.2.0->pycaret)\n",
      "  Downloading jsonschema_specifications-2023.12.1-py3-none-any.whl.metadata (3.0 kB)\n",
      "Collecting referencing>=0.28.4 (from jsonschema>=2.6->nbformat>=4.2.0->pycaret)\n",
      "  Downloading referencing-0.34.0-py3-none-any.whl.metadata (2.8 kB)\n",
      "Collecting rpds-py>=0.7.1 (from jsonschema>=2.6->nbformat>=4.2.0->pycaret)\n",
      "  Downloading rpds_py-0.18.0-cp39-none-win_amd64.whl.metadata (4.2 kB)\n",
      "Requirement already satisfied: platformdirs>=2.5 in c:\\users\\pcd\\appdata\\roaming\\python\\python39\\site-packages (from jupyter-core!=5.0.*,>=4.12->nbformat>=4.2.0->pycaret) (4.2.0)\n",
      "Requirement already satisfied: pywin32>=300 in c:\\users\\pcd\\appdata\\roaming\\python\\python39\\site-packages (from jupyter-core!=5.0.*,>=4.12->nbformat>=4.2.0->pycaret) (306)\n",
      "Requirement already satisfied: wcwidth in c:\\users\\pcd\\appdata\\roaming\\python\\python39\\site-packages (from prompt-toolkit<3.1.0,>=3.0.41->ipython>=5.5.0->pycaret) (0.2.13)\n",
      "Requirement already satisfied: executing>=1.2.0 in c:\\users\\pcd\\appdata\\roaming\\python\\python39\\site-packages (from stack-data->ipython>=5.5.0->pycaret) (2.0.1)\n",
      "Requirement already satisfied: asttokens>=2.1.0 in c:\\users\\pcd\\appdata\\roaming\\python\\python39\\site-packages (from stack-data->ipython>=5.5.0->pycaret) (2.4.1)\n",
      "Requirement already satisfied: pure-eval in c:\\users\\pcd\\appdata\\roaming\\python\\python39\\site-packages (from stack-data->ipython>=5.5.0->pycaret) (0.2.2)\n",
      "Collecting itsdangerous>=2.1.2 (from Flask<3.1,>=1.0.4->dash>=2.9.0->plotly-resampler>=0.8.3.1->pycaret)\n",
      "  Downloading itsdangerous-2.2.0-py3-none-any.whl.metadata (1.9 kB)\n",
      "Collecting click>=8.1.3 (from Flask<3.1,>=1.0.4->dash>=2.9.0->plotly-resampler>=0.8.3.1->pycaret)\n",
      "  Downloading click-8.1.7-py3-none-any.whl.metadata (3.0 kB)\n",
      "Collecting blinker>=1.6.2 (from Flask<3.1,>=1.0.4->dash>=2.9.0->plotly-resampler>=0.8.3.1->pycaret)\n",
      "  Downloading blinker-1.7.0-py3-none-any.whl.metadata (1.9 kB)\n",
      "Downloading pycaret-3.3.1-py3-none-any.whl (486 kB)\n",
      "   ---------------------------------------- 0.0/486.2 kB ? eta -:--:--\n",
      "   ------- -------------------------------- 92.2/486.2 kB 1.7 MB/s eta 0:00:01\n",
      "   --------- ------------------------------ 112.6/486.2 kB 2.2 MB/s eta 0:00:01\n",
      "   --------- ---------------------------- 122.9/486.2 kB 804.6 kB/s eta 0:00:01\n",
      "   ------------- ------------------------ 174.1/486.2 kB 876.1 kB/s eta 0:00:01\n",
      "   ------------------------------ --------- 368.6/486.2 kB 1.5 MB/s eta 0:00:01\n",
      "   -------------------------------- ------- 389.1/486.2 kB 1.3 MB/s eta 0:00:01\n",
      "   ---------------------------------- ----- 419.8/486.2 kB 1.3 MB/s eta 0:00:01\n",
      "   ---------------------------------------- 486.2/486.2 kB 1.3 MB/s eta 0:00:00\n",
      "Downloading schemdraw-0.15-py3-none-any.whl (106 kB)\n",
      "   ---------------------------------------- 0.0/106.8 kB ? eta -:--:--\n",
      "   ---------------------------------------- 106.8/106.8 kB 6.0 MB/s eta 0:00:00\n",
      "Downloading sktime-0.26.0-py3-none-any.whl (21.8 MB)\n",
      "   ---------------------------------------- 0.0/21.8 MB ? eta -:--:--\n",
      "    --------------------------------------- 0.4/21.8 MB 8.5 MB/s eta 0:00:03\n",
      "    --------------------------------------- 0.5/21.8 MB 8.1 MB/s eta 0:00:03\n",
      "    --------------------------------------- 0.5/21.8 MB 8.1 MB/s eta 0:00:03\n",
      "   - -------------------------------------- 0.7/21.8 MB 3.8 MB/s eta 0:00:06\n",
      "   - -------------------------------------- 0.9/21.8 MB 4.1 MB/s eta 0:00:06\n",
      "   - -------------------------------------- 1.0/21.8 MB 4.1 MB/s eta 0:00:06\n",
      "   - -------------------------------------- 1.1/21.8 MB 3.8 MB/s eta 0:00:06\n",
      "   -- ------------------------------------- 1.4/21.8 MB 3.9 MB/s eta 0:00:06\n",
      "   --- ------------------------------------ 1.6/21.8 MB 4.0 MB/s eta 0:00:05\n",
      "   --- ------------------------------------ 1.7/21.8 MB 3.8 MB/s eta 0:00:06\n",
      "   --- ------------------------------------ 1.8/21.8 MB 3.6 MB/s eta 0:00:06\n",
      "   --- ------------------------------------ 2.1/21.8 MB 3.8 MB/s eta 0:00:06\n",
      "   ---- ----------------------------------- 2.3/21.8 MB 3.9 MB/s eta 0:00:06\n",
      "   ---- ----------------------------------- 2.4/21.8 MB 3.8 MB/s eta 0:00:06\n",
      "   ---- ----------------------------------- 2.7/21.8 MB 3.8 MB/s eta 0:00:05\n",
      "   ----- ---------------------------------- 2.9/21.8 MB 3.9 MB/s eta 0:00:05\n",
      "   ----- ---------------------------------- 3.1/21.8 MB 4.0 MB/s eta 0:00:05\n",
      "   ----- ---------------------------------- 3.3/21.8 MB 3.9 MB/s eta 0:00:05\n",
      "   ------ --------------------------------- 3.6/21.8 MB 4.0 MB/s eta 0:00:05\n",
      "   ------ --------------------------------- 3.7/21.8 MB 4.0 MB/s eta 0:00:05\n",
      "   ------- -------------------------------- 4.0/21.8 MB 4.1 MB/s eta 0:00:05\n",
      "   ------- -------------------------------- 4.1/21.8 MB 4.1 MB/s eta 0:00:05\n",
      "   -------- ------------------------------- 4.4/21.8 MB 4.1 MB/s eta 0:00:05\n",
      "   -------- ------------------------------- 4.5/21.8 MB 4.1 MB/s eta 0:00:05\n",
      "   -------- ------------------------------- 4.8/21.8 MB 4.1 MB/s eta 0:00:05\n",
      "   --------- ------------------------------ 5.0/21.8 MB 4.2 MB/s eta 0:00:05\n",
      "   --------- ------------------------------ 5.3/21.8 MB 4.2 MB/s eta 0:00:04\n",
      "   --------- ------------------------------ 5.4/21.8 MB 4.2 MB/s eta 0:00:04\n",
      "   ---------- ----------------------------- 5.6/21.8 MB 4.2 MB/s eta 0:00:04\n",
      "   ---------- ----------------------------- 5.8/21.8 MB 4.2 MB/s eta 0:00:04\n",
      "   ----------- ---------------------------- 6.0/21.8 MB 4.2 MB/s eta 0:00:04\n",
      "   ----------- ---------------------------- 6.4/21.8 MB 4.3 MB/s eta 0:00:04\n",
      "   ----------- ---------------------------- 6.5/21.8 MB 4.2 MB/s eta 0:00:04\n",
      "   ------------ --------------------------- 6.6/21.8 MB 4.3 MB/s eta 0:00:04\n",
      "   ------------ --------------------------- 6.8/21.8 MB 4.2 MB/s eta 0:00:04\n",
      "   ------------- -------------------------- 7.1/21.8 MB 4.2 MB/s eta 0:00:04\n",
      "   ------------- -------------------------- 7.5/21.8 MB 4.3 MB/s eta 0:00:04\n",
      "   ------------- -------------------------- 7.6/21.8 MB 4.3 MB/s eta 0:00:04\n",
      "   -------------- ------------------------- 7.9/21.8 MB 4.4 MB/s eta 0:00:04\n",
      "   -------------- ------------------------- 8.1/21.8 MB 4.3 MB/s eta 0:00:04\n",
      "   --------------- ------------------------ 8.4/21.8 MB 4.4 MB/s eta 0:00:04\n",
      "   --------------- ------------------------ 8.4/21.8 MB 4.4 MB/s eta 0:00:04\n",
      "   --------------- ------------------------ 8.4/21.8 MB 4.4 MB/s eta 0:00:04\n",
      "   --------------- ------------------------ 8.4/21.8 MB 4.4 MB/s eta 0:00:04\n",
      "   --------------- ------------------------ 8.4/21.8 MB 4.4 MB/s eta 0:00:04\n",
      "   --------------- ------------------------ 8.4/21.8 MB 4.4 MB/s eta 0:00:04\n",
      "   --------------- ------------------------ 8.4/21.8 MB 4.4 MB/s eta 0:00:04\n",
      "   --------------- ------------------------ 8.4/21.8 MB 4.4 MB/s eta 0:00:04\n",
      "   --------------- ------------------------ 8.4/21.8 MB 4.4 MB/s eta 0:00:04\n",
      "   --------------- ------------------------ 8.4/21.8 MB 4.4 MB/s eta 0:00:04\n",
      "   --------------- ------------------------ 8.4/21.8 MB 4.4 MB/s eta 0:00:04\n",
      "   --------------- ------------------------ 8.4/21.8 MB 4.4 MB/s eta 0:00:04\n",
      "   --------------- ------------------------ 8.4/21.8 MB 4.4 MB/s eta 0:00:04\n",
      "   --------------- ------------------------ 8.4/21.8 MB 4.4 MB/s eta 0:00:04\n",
      "   --------------- ------------------------ 8.4/21.8 MB 4.4 MB/s eta 0:00:04\n",
      "   ---------------- ----------------------- 8.8/21.8 MB 3.4 MB/s eta 0:00:04\n",
      "   ----------------- ---------------------- 9.4/21.8 MB 3.5 MB/s eta 0:00:04\n",
      "   ----------------- ---------------------- 9.4/21.8 MB 3.5 MB/s eta 0:00:04\n",
      "   ----------------- ---------------------- 9.4/21.8 MB 3.4 MB/s eta 0:00:04\n",
      "   ----------------- ---------------------- 9.6/21.8 MB 3.4 MB/s eta 0:00:04\n",
      "   ------------------ --------------------- 9.8/21.8 MB 3.5 MB/s eta 0:00:04\n",
      "   ------------------ --------------------- 10.1/21.8 MB 3.5 MB/s eta 0:00:04\n",
      "   ------------------- -------------------- 10.6/21.8 MB 3.5 MB/s eta 0:00:04\n",
      "   ------------------- -------------------- 10.7/21.8 MB 3.5 MB/s eta 0:00:04\n",
      "   ------------------- -------------------- 10.9/21.8 MB 3.6 MB/s eta 0:00:04\n",
      "   -------------------- ------------------- 11.0/21.8 MB 3.6 MB/s eta 0:00:04\n",
      "   --------------------- ------------------ 11.7/21.8 MB 3.7 MB/s eta 0:00:03\n",
      "   --------------------- ------------------ 11.8/21.8 MB 3.7 MB/s eta 0:00:03\n",
      "   --------------------- ------------------ 12.0/21.8 MB 3.7 MB/s eta 0:00:03\n",
      "   ---------------------- ----------------- 12.2/21.8 MB 3.7 MB/s eta 0:00:03\n",
      "   ---------------------- ----------------- 12.5/21.8 MB 3.7 MB/s eta 0:00:03\n",
      "   ----------------------- ---------------- 13.0/21.8 MB 3.8 MB/s eta 0:00:03\n",
      "   ------------------------ --------------- 13.3/21.8 MB 3.9 MB/s eta 0:00:03\n",
      "   ------------------------ --------------- 13.4/21.8 MB 3.9 MB/s eta 0:00:03\n",
      "   ------------------------- -------------- 13.7/21.8 MB 3.9 MB/s eta 0:00:03\n",
      "   ------------------------- -------------- 14.0/21.8 MB 3.9 MB/s eta 0:00:02\n",
      "   -------------------------- ------------- 14.5/21.8 MB 4.0 MB/s eta 0:00:02\n",
      "   --------------------------- ------------ 14.7/21.8 MB 4.0 MB/s eta 0:00:02\n",
      "   --------------------------- ------------ 15.1/21.8 MB 4.0 MB/s eta 0:00:02\n",
      "   ---------------------------- ----------- 15.4/21.8 MB 4.1 MB/s eta 0:00:02\n",
      "   ---------------------------- ----------- 15.7/21.8 MB 4.2 MB/s eta 0:00:02\n",
      "   ---------------------------- ----------- 15.7/21.8 MB 4.2 MB/s eta 0:00:02\n",
      "   ----------------------------- ---------- 15.9/21.8 MB 4.1 MB/s eta 0:00:02\n",
      "   ------------------------------ --------- 16.5/21.8 MB 4.2 MB/s eta 0:00:02\n",
      "   ------------------------------- -------- 17.1/21.8 MB 4.4 MB/s eta 0:00:02\n",
      "   ------------------------------- -------- 17.1/21.8 MB 4.4 MB/s eta 0:00:02\n",
      "   ------------------------------- -------- 17.2/21.8 MB 4.3 MB/s eta 0:00:02\n",
      "   -------------------------------- ------- 17.6/21.8 MB 4.3 MB/s eta 0:00:01\n",
      "   -------------------------------- ------- 17.7/21.8 MB 4.2 MB/s eta 0:00:01\n",
      "   --------------------------------- ------ 18.4/21.8 MB 4.4 MB/s eta 0:00:01\n",
      "   ---------------------------------- ----- 18.7/21.8 MB 6.2 MB/s eta 0:00:01\n",
      "   ---------------------------------- ----- 18.8/21.8 MB 6.1 MB/s eta 0:00:01\n",
      "   ---------------------------------- ----- 18.8/21.8 MB 6.1 MB/s eta 0:00:01\n",
      "   ---------------------------------- ----- 19.1/21.8 MB 5.8 MB/s eta 0:00:01\n",
      "   ------------------------------------ --- 19.7/21.8 MB 6.2 MB/s eta 0:00:01\n",
      "   ------------------------------------- -- 20.3/21.8 MB 6.4 MB/s eta 0:00:01\n",
      "   ------------------------------------- -- 20.3/21.8 MB 6.3 MB/s eta 0:00:01\n",
      "   ------------------------------------- -- 20.7/21.8 MB 6.2 MB/s eta 0:00:01\n",
      "   -------------------------------------- - 21.1/21.8 MB 6.4 MB/s eta 0:00:01\n",
      "   ---------------------------------------  21.5/21.8 MB 6.5 MB/s eta 0:00:01\n",
      "   ---------------------------------------  21.8/21.8 MB 6.5 MB/s eta 0:00:01\n",
      "   ---------------------------------------  21.8/21.8 MB 6.5 MB/s eta 0:00:01\n",
      "   ---------------------------------------- 21.8/21.8 MB 6.1 MB/s eta 0:00:00\n",
      "Downloading category_encoders-2.6.3-py2.py3-none-any.whl (81 kB)\n",
      "   ---------------------------------------- 0.0/81.9 kB ? eta -:--:--\n",
      "   ---------------------------------------- 81.9/81.9 kB 4.5 MB/s eta 0:00:00\n",
      "Downloading deprecation-2.1.0-py2.py3-none-any.whl (11 kB)\n",
      "Downloading ipywidgets-8.1.2-py3-none-any.whl (139 kB)\n",
      "   ---------------------------------------- 0.0/139.4 kB ? eta -:--:--\n",
      "   ---------------------------------------- 139.4/139.4 kB 4.0 MB/s eta 0:00:00\n",
      "Downloading Jinja2-3.1.3-py3-none-any.whl (133 kB)\n",
      "   ---------------------------------------- 0.0/133.2 kB ? eta -:--:--\n",
      "   ---------------------------------------- 133.2/133.2 kB 3.8 MB/s eta 0:00:00\n",
      "Downloading joblib-1.3.2-py3-none-any.whl (302 kB)\n",
      "   ---------------------------------------- 0.0/302.2 kB ? eta -:--:--\n",
      "   ---------------------------------------  297.0/302.2 kB 9.2 MB/s eta 0:00:01\n",
      "   ---------------------------------------- 302.2/302.2 kB 6.2 MB/s eta 0:00:00\n",
      "Downloading kaleido-0.2.1-py2.py3-none-win_amd64.whl (65.9 MB)\n",
      "   ---------------------------------------- 0.0/65.9 MB ? eta -:--:--\n",
      "   ---------------------------------------- 0.6/65.9 MB 20.5 MB/s eta 0:00:04\n",
      "    --------------------------------------- 1.4/65.9 MB 14.3 MB/s eta 0:00:05\n",
      "    --------------------------------------- 1.6/65.9 MB 16.6 MB/s eta 0:00:04\n",
      "   - -------------------------------------- 1.8/65.9 MB 10.7 MB/s eta 0:00:07\n",
      "   - -------------------------------------- 2.1/65.9 MB 9.5 MB/s eta 0:00:07\n",
      "   - -------------------------------------- 2.2/65.9 MB 8.8 MB/s eta 0:00:08\n",
      "   - -------------------------------------- 2.8/65.9 MB 8.5 MB/s eta 0:00:08\n",
      "   -- ------------------------------------- 3.4/65.9 MB 9.0 MB/s eta 0:00:07\n",
      "   -- ------------------------------------- 3.9/65.9 MB 9.6 MB/s eta 0:00:07\n",
      "   -- ------------------------------------- 4.1/65.9 MB 9.1 MB/s eta 0:00:07\n",
      "   -- ------------------------------------- 4.5/65.9 MB 8.6 MB/s eta 0:00:08\n",
      "   --- ------------------------------------ 5.0/65.9 MB 8.9 MB/s eta 0:00:07\n",
      "   --- ------------------------------------ 5.6/65.9 MB 9.2 MB/s eta 0:00:07\n",
      "   --- ------------------------------------ 6.0/65.9 MB 9.3 MB/s eta 0:00:07\n",
      "   --- ------------------------------------ 6.3/65.9 MB 9.1 MB/s eta 0:00:07\n",
      "   --- ------------------------------------ 6.3/65.9 MB 8.9 MB/s eta 0:00:07\n",
      "   --- ------------------------------------ 6.3/65.9 MB 8.9 MB/s eta 0:00:07\n",
      "   --- ------------------------------------ 6.3/65.9 MB 8.9 MB/s eta 0:00:07\n",
      "   --- ------------------------------------ 6.3/65.9 MB 8.9 MB/s eta 0:00:07\n",
      "   --- ------------------------------------ 6.3/65.9 MB 8.9 MB/s eta 0:00:07\n",
      "   --- ------------------------------------ 6.6/65.9 MB 6.6 MB/s eta 0:00:09\n",
      "   ---- ----------------------------------- 7.2/65.9 MB 7.0 MB/s eta 0:00:09\n",
      "   ---- ----------------------------------- 7.9/65.9 MB 7.3 MB/s eta 0:00:08\n",
      "   ----- ---------------------------------- 8.3/65.9 MB 7.5 MB/s eta 0:00:08\n",
      "   ----- ---------------------------------- 8.3/65.9 MB 7.3 MB/s eta 0:00:08\n",
      "   ----- ---------------------------------- 8.7/65.9 MB 7.1 MB/s eta 0:00:09\n",
      "   ----- ---------------------------------- 9.3/65.9 MB 7.5 MB/s eta 0:00:08\n",
      "   ------ --------------------------------- 9.9/65.9 MB 7.6 MB/s eta 0:00:08\n",
      "   ------ --------------------------------- 10.3/65.9 MB 7.5 MB/s eta 0:00:08\n",
      "   ------ --------------------------------- 10.5/65.9 MB 7.4 MB/s eta 0:00:08\n",
      "   ------ --------------------------------- 10.7/65.9 MB 7.2 MB/s eta 0:00:08\n",
      "   ------ --------------------------------- 10.9/65.9 MB 7.0 MB/s eta 0:00:08\n",
      "   ------ --------------------------------- 11.2/65.9 MB 7.0 MB/s eta 0:00:08\n",
      "   ------ --------------------------------- 11.3/65.9 MB 6.7 MB/s eta 0:00:09\n",
      "   ------- -------------------------------- 11.6/65.9 MB 6.6 MB/s eta 0:00:09\n",
      "   ------- -------------------------------- 12.0/65.9 MB 6.7 MB/s eta 0:00:09\n",
      "   ------- -------------------------------- 12.2/65.9 MB 6.8 MB/s eta 0:00:08\n",
      "   ------- -------------------------------- 12.7/65.9 MB 6.9 MB/s eta 0:00:08\n",
      "   -------- ------------------------------- 13.4/65.9 MB 7.0 MB/s eta 0:00:08\n",
      "   -------- ------------------------------- 14.0/65.9 MB 7.0 MB/s eta 0:00:08\n",
      "   -------- ------------------------------- 14.5/65.9 MB 7.3 MB/s eta 0:00:08\n",
      "   --------- ------------------------------ 14.8/65.9 MB 7.1 MB/s eta 0:00:08\n",
      "   --------- ------------------------------ 15.3/65.9 MB 7.1 MB/s eta 0:00:08\n",
      "   --------- ------------------------------ 15.9/65.9 MB 7.1 MB/s eta 0:00:08\n",
      "   ---------- ----------------------------- 16.5/65.9 MB 8.8 MB/s eta 0:00:06\n",
      "   ---------- ----------------------------- 17.2/65.9 MB 9.1 MB/s eta 0:00:06\n",
      "   ---------- ----------------------------- 17.7/65.9 MB 9.0 MB/s eta 0:00:06\n",
      "   ----------- ---------------------------- 18.4/65.9 MB 9.0 MB/s eta 0:00:06\n",
      "   ----------- ---------------------------- 18.9/65.9 MB 9.6 MB/s eta 0:00:05\n",
      "   ----------- ---------------------------- 19.6/65.9 MB 9.6 MB/s eta 0:00:05\n",
      "   ------------ --------------------------- 20.3/65.9 MB 9.6 MB/s eta 0:00:05\n",
      "   ------------ --------------------------- 20.9/65.9 MB 10.4 MB/s eta 0:00:05\n",
      "   ------------ --------------------------- 21.0/65.9 MB 10.4 MB/s eta 0:00:05\n",
      "   ------------ --------------------------- 21.1/65.9 MB 9.9 MB/s eta 0:00:05\n",
      "   ------------- -------------------------- 21.8/65.9 MB 10.9 MB/s eta 0:00:05\n",
      "   ------------- -------------------------- 22.5/65.9 MB 11.7 MB/s eta 0:00:04\n",
      "   -------------- ------------------------- 23.1/65.9 MB 11.7 MB/s eta 0:00:04\n",
      "   -------------- ------------------------- 23.8/65.9 MB 11.7 MB/s eta 0:00:04\n",
      "   -------------- ------------------------- 24.2/65.9 MB 11.9 MB/s eta 0:00:04\n",
      "   -------------- ------------------------- 24.7/65.9 MB 11.5 MB/s eta 0:00:04\n",
      "   --------------- ------------------------ 24.9/65.9 MB 11.7 MB/s eta 0:00:04\n",
      "   --------------- ------------------------ 25.5/65.9 MB 11.5 MB/s eta 0:00:04\n",
      "   --------------- ------------------------ 26.2/65.9 MB 11.7 MB/s eta 0:00:04\n",
      "   ---------------- ----------------------- 26.9/65.9 MB 11.7 MB/s eta 0:00:04\n",
      "   ---------------- ----------------------- 27.6/65.9 MB 11.7 MB/s eta 0:00:04\n",
      "   ----------------- ---------------------- 28.2/65.9 MB 11.7 MB/s eta 0:00:04\n",
      "   ----------------- ---------------------- 28.8/65.9 MB 11.7 MB/s eta 0:00:04\n",
      "   ----------------- ---------------------- 29.5/65.9 MB 11.9 MB/s eta 0:00:04\n",
      "   ------------------ --------------------- 30.1/65.9 MB 11.9 MB/s eta 0:00:04\n",
      "   ------------------ --------------------- 30.9/65.9 MB 11.9 MB/s eta 0:00:03\n",
      "   ------------------- -------------------- 31.5/65.9 MB 13.1 MB/s eta 0:00:03\n",
      "   ------------------- -------------------- 32.2/65.9 MB 13.1 MB/s eta 0:00:03\n",
      "   ------------------- -------------------- 32.8/65.9 MB 13.1 MB/s eta 0:00:03\n",
      "   -------------------- ------------------- 33.4/65.9 MB 13.1 MB/s eta 0:00:03\n",
      "   -------------------- ------------------- 34.1/65.9 MB 13.1 MB/s eta 0:00:03\n",
      "   --------------------- ------------------ 34.8/65.9 MB 13.6 MB/s eta 0:00:03\n",
      "   --------------------- ------------------ 35.5/65.9 MB 14.2 MB/s eta 0:00:03\n",
      "   --------------------- ------------------ 36.2/65.9 MB 14.2 MB/s eta 0:00:03\n",
      "   ---------------------- ----------------- 36.9/65.9 MB 14.2 MB/s eta 0:00:03\n",
      "   ---------------------- ----------------- 37.6/65.9 MB 14.2 MB/s eta 0:00:02\n",
      "   ----------------------- ---------------- 38.3/65.9 MB 14.2 MB/s eta 0:00:02\n",
      "   ----------------------- ---------------- 38.9/65.9 MB 14.6 MB/s eta 0:00:02\n",
      "   ----------------------- ---------------- 39.4/65.9 MB 14.6 MB/s eta 0:00:02\n",
      "   ------------------------ --------------- 40.0/65.9 MB 13.9 MB/s eta 0:00:02\n",
      "   ------------------------ --------------- 40.7/65.9 MB 13.9 MB/s eta 0:00:02\n",
      "   ------------------------- -------------- 41.4/65.9 MB 14.2 MB/s eta 0:00:02\n",
      "   ------------------------- -------------- 42.0/65.9 MB 13.9 MB/s eta 0:00:02\n",
      "   ------------------------- -------------- 42.7/65.9 MB 13.9 MB/s eta 0:00:02\n",
      "   -------------------------- ------------- 42.9/65.9 MB 13.9 MB/s eta 0:00:02\n",
      "   -------------------------- ------------- 43.2/65.9 MB 13.1 MB/s eta 0:00:02\n",
      "   -------------------------- ------------- 43.9/65.9 MB 13.1 MB/s eta 0:00:02\n",
      "   --------------------------- ------------ 44.5/65.9 MB 13.1 MB/s eta 0:00:02\n",
      "   --------------------------- ------------ 45.2/65.9 MB 12.8 MB/s eta 0:00:02\n",
      "   --------------------------- ------------ 45.8/65.9 MB 12.8 MB/s eta 0:00:02\n",
      "   ---------------------------- ----------- 46.4/65.9 MB 12.8 MB/s eta 0:00:02\n",
      "   ---------------------------- ----------- 47.1/65.9 MB 12.9 MB/s eta 0:00:02\n",
      "   ----------------------------- ---------- 47.8/65.9 MB 12.8 MB/s eta 0:00:02\n",
      "   ----------------------------- ---------- 48.5/65.9 MB 12.8 MB/s eta 0:00:02\n",
      "   ----------------------------- ---------- 49.1/65.9 MB 12.8 MB/s eta 0:00:02\n",
      "   ------------------------------ --------- 49.6/65.9 MB 12.6 MB/s eta 0:00:02\n",
      "   ------------------------------ --------- 50.0/65.9 MB 12.6 MB/s eta 0:00:02\n",
      "   ------------------------------ --------- 50.5/65.9 MB 12.4 MB/s eta 0:00:02\n",
      "   ------------------------------ --------- 51.1/65.9 MB 12.1 MB/s eta 0:00:02\n",
      "   ------------------------------- -------- 51.6/65.9 MB 12.1 MB/s eta 0:00:02\n",
      "   ------------------------------- -------- 52.3/65.9 MB 12.1 MB/s eta 0:00:02\n",
      "   -------------------------------- ------- 52.9/65.9 MB 12.1 MB/s eta 0:00:02\n",
      "   -------------------------------- ------- 53.6/65.9 MB 13.1 MB/s eta 0:00:01\n",
      "   -------------------------------- ------- 54.4/65.9 MB 13.1 MB/s eta 0:00:01\n",
      "   --------------------------------- ------ 55.0/65.9 MB 13.1 MB/s eta 0:00:01\n",
      "   --------------------------------- ------ 55.7/65.9 MB 13.1 MB/s eta 0:00:01\n",
      "   ---------------------------------- ----- 56.3/65.9 MB 13.1 MB/s eta 0:00:01\n",
      "   ---------------------------------- ----- 57.0/65.9 MB 13.1 MB/s eta 0:00:01\n",
      "   ---------------------------------- ----- 57.7/65.9 MB 13.1 MB/s eta 0:00:01\n",
      "   ----------------------------------- ---- 58.4/65.9 MB 13.4 MB/s eta 0:00:01\n",
      "   ----------------------------------- ---- 59.0/65.9 MB 13.1 MB/s eta 0:00:01\n",
      "   ------------------------------------ --- 59.7/65.9 MB 13.4 MB/s eta 0:00:01\n",
      "   ------------------------------------ --- 60.4/65.9 MB 13.9 MB/s eta 0:00:01\n",
      "   ------------------------------------- -- 61.1/65.9 MB 14.2 MB/s eta 0:00:01\n",
      "   ------------------------------------- -- 61.7/65.9 MB 14.2 MB/s eta 0:00:01\n",
      "   ------------------------------------- -- 62.4/65.9 MB 14.2 MB/s eta 0:00:01\n",
      "   -------------------------------------- - 63.1/65.9 MB 14.6 MB/s eta 0:00:01\n",
      "   -------------------------------------- - 63.7/65.9 MB 14.2 MB/s eta 0:00:01\n",
      "   ---------------------------------------  64.4/65.9 MB 14.2 MB/s eta 0:00:01\n",
      "   ---------------------------------------  65.1/65.9 MB 14.2 MB/s eta 0:00:01\n",
      "   ---------------------------------------  65.8/65.9 MB 14.2 MB/s eta 0:00:01\n",
      "   ---------------------------------------  65.9/65.9 MB 14.2 MB/s eta 0:00:01\n",
      "   ---------------------------------------  65.9/65.9 MB 14.2 MB/s eta 0:00:01\n",
      "   ---------------------------------------  65.9/65.9 MB 14.2 MB/s eta 0:00:01\n",
      "   ---------------------------------------  65.9/65.9 MB 14.2 MB/s eta 0:00:01\n",
      "   ---------------------------------------- 65.9/65.9 MB 11.1 MB/s eta 0:00:00\n",
      "Downloading lightgbm-4.3.0-py3-none-win_amd64.whl (1.3 MB)\n",
      "   ---------------------------------------- 0.0/1.3 MB ? eta -:--:--\n",
      "   --------------------- ------------------ 0.7/1.3 MB 15.3 MB/s eta 0:00:01\n",
      "   ---------------------------------------  1.3/1.3 MB 13.8 MB/s eta 0:00:01\n",
      "   ---------------------------------------- 1.3/1.3 MB 12.1 MB/s eta 0:00:00\n",
      "Downloading MarkupSafe-2.1.5-cp39-cp39-win_amd64.whl (17 kB)\n",
      "Downloading matplotlib-3.7.5-cp39-cp39-win_amd64.whl (7.5 MB)\n",
      "   ---------------------------------------- 0.0/7.5 MB ? eta -:--:--\n",
      "   --- ------------------------------------ 0.7/7.5 MB 14.6 MB/s eta 0:00:01\n",
      "   ----- ---------------------------------- 1.0/7.5 MB 13.3 MB/s eta 0:00:01\n",
      "   ------- -------------------------------- 1.4/7.5 MB 9.8 MB/s eta 0:00:01\n",
      "   --------- ------------------------------ 1.8/7.5 MB 10.5 MB/s eta 0:00:01\n",
      "   ----------- ---------------------------- 2.1/7.5 MB 9.5 MB/s eta 0:00:01\n",
      "   ----------- ---------------------------- 2.1/7.5 MB 9.5 MB/s eta 0:00:01\n",
      "   ----------- ---------------------------- 2.1/7.5 MB 9.5 MB/s eta 0:00:01\n",
      "   ----------- ---------------------------- 2.1/7.5 MB 9.5 MB/s eta 0:00:01\n",
      "   ----------- ---------------------------- 2.1/7.5 MB 9.5 MB/s eta 0:00:01\n",
      "   ----------- ---------------------------- 2.1/7.5 MB 9.5 MB/s eta 0:00:01\n",
      "   ----------- ---------------------------- 2.1/7.5 MB 9.5 MB/s eta 0:00:01\n",
      "   ----------- ---------------------------- 2.1/7.5 MB 9.5 MB/s eta 0:00:01\n",
      "   ----------- ---------------------------- 2.1/7.5 MB 9.5 MB/s eta 0:00:01\n",
      "   ----------- ---------------------------- 2.2/7.5 MB 3.4 MB/s eta 0:00:02\n",
      "   ------------ --------------------------- 2.4/7.5 MB 3.5 MB/s eta 0:00:02\n",
      "   -------------- ------------------------- 2.7/7.5 MB 3.7 MB/s eta 0:00:02\n",
      "   ---------------- ----------------------- 3.1/7.5 MB 3.9 MB/s eta 0:00:02\n",
      "   ------------------ --------------------- 3.6/7.5 MB 4.3 MB/s eta 0:00:01\n",
      "   --------------------- ------------------ 4.1/7.5 MB 4.7 MB/s eta 0:00:01\n",
      "   ------------------------ --------------- 4.5/7.5 MB 4.9 MB/s eta 0:00:01\n",
      "   --------------------------- ------------ 5.1/7.5 MB 5.3 MB/s eta 0:00:01\n",
      "   ------------------------------ --------- 5.6/7.5 MB 5.5 MB/s eta 0:00:01\n",
      "   -------------------------------- ------- 6.2/7.5 MB 5.8 MB/s eta 0:00:01\n",
      "   --------------------------------- ------ 6.3/7.5 MB 5.7 MB/s eta 0:00:01\n",
      "   --------------------------------- ------ 6.3/7.5 MB 5.7 MB/s eta 0:00:01\n",
      "   --------------------------------- ------ 6.3/7.5 MB 5.2 MB/s eta 0:00:01\n",
      "   ---------------------------------- ----- 6.4/7.5 MB 5.1 MB/s eta 0:00:01\n",
      "   ------------------------------------ --- 6.8/7.5 MB 5.3 MB/s eta 0:00:01\n",
      "   ---------------------------------------  7.4/7.5 MB 5.5 MB/s eta 0:00:01\n",
      "   ---------------------------------------  7.5/7.5 MB 5.5 MB/s eta 0:00:01\n",
      "   ---------------------------------------- 7.5/7.5 MB 5.3 MB/s eta 0:00:00\n",
      "Downloading nbformat-5.10.4-py3-none-any.whl (78 kB)\n",
      "   ---------------------------------------- 0.0/78.5 kB ? eta -:--:--\n",
      "   ---------------------------------------- 78.5/78.5 kB 4.3 MB/s eta 0:00:00\n",
      "Downloading numba-0.59.1-cp39-cp39-win_amd64.whl (2.6 MB)\n",
      "   ---------------------------------------- 0.0/2.6 MB ? eta -:--:--\n",
      "   ------ --------------------------------- 0.4/2.6 MB 8.7 MB/s eta 0:00:01\n",
      "   ---------------- ----------------------- 1.1/2.6 MB 11.3 MB/s eta 0:00:01\n",
      "   -------------------------- ------------- 1.7/2.6 MB 12.4 MB/s eta 0:00:01\n",
      "   ------------------------------------ --- 2.4/2.6 MB 12.9 MB/s eta 0:00:01\n",
      "   ---------------------------------------- 2.6/2.6 MB 12.0 MB/s eta 0:00:00\n",
      "Downloading pandas-2.1.4-cp39-cp39-win_amd64.whl (10.8 MB)\n",
      "   ---------------------------------------- 0.0/10.8 MB ? eta -:--:--\n",
      "   - -------------------------------------- 0.3/10.8 MB 6.5 MB/s eta 0:00:02\n",
      "   -- ------------------------------------- 0.7/10.8 MB 7.5 MB/s eta 0:00:02\n",
      "   --- ------------------------------------ 1.0/10.8 MB 7.3 MB/s eta 0:00:02\n",
      "   --- ------------------------------------ 1.0/10.8 MB 7.3 MB/s eta 0:00:02\n",
      "   --- ------------------------------------ 1.0/10.8 MB 7.3 MB/s eta 0:00:02\n",
      "   --- ------------------------------------ 1.0/10.8 MB 7.3 MB/s eta 0:00:02\n",
      "   ---- ----------------------------------- 1.3/10.8 MB 4.2 MB/s eta 0:00:03\n",
      "   ------ --------------------------------- 1.8/10.8 MB 4.7 MB/s eta 0:00:02\n",
      "   ------- -------------------------------- 1.9/10.8 MB 4.5 MB/s eta 0:00:02\n",
      "   ------- -------------------------------- 2.1/10.8 MB 4.6 MB/s eta 0:00:02\n",
      "   ------- -------------------------------- 2.1/10.8 MB 4.6 MB/s eta 0:00:02\n",
      "   ------- -------------------------------- 2.1/10.8 MB 4.6 MB/s eta 0:00:02\n",
      "   ------- -------------------------------- 2.1/10.8 MB 4.6 MB/s eta 0:00:02\n",
      "   -------- ------------------------------- 2.2/10.8 MB 3.5 MB/s eta 0:00:03\n",
      "   --------- ------------------------------ 2.6/10.8 MB 3.7 MB/s eta 0:00:03\n",
      "   ---------- ----------------------------- 2.9/10.8 MB 3.9 MB/s eta 0:00:02\n",
      "   ----------- ---------------------------- 3.2/10.8 MB 4.1 MB/s eta 0:00:02\n",
      "   ------------ --------------------------- 3.4/10.8 MB 4.1 MB/s eta 0:00:02\n",
      "   ------------- -------------------------- 3.7/10.8 MB 4.2 MB/s eta 0:00:02\n",
      "   -------------- ------------------------- 4.0/10.8 MB 4.4 MB/s eta 0:00:02\n",
      "   ---------------- ----------------------- 4.4/10.8 MB 4.5 MB/s eta 0:00:02\n",
      "   ------------------ --------------------- 5.0/10.8 MB 4.9 MB/s eta 0:00:02\n",
      "   -------------------- ------------------- 5.6/10.8 MB 5.3 MB/s eta 0:00:01\n",
      "   ----------------------- ---------------- 6.3/10.8 MB 5.6 MB/s eta 0:00:01\n",
      "   ----------------------- ---------------- 6.3/10.8 MB 5.7 MB/s eta 0:00:01\n",
      "   ----------------------- ---------------- 6.3/10.8 MB 5.7 MB/s eta 0:00:01\n",
      "   ----------------------- ---------------- 6.3/10.8 MB 5.7 MB/s eta 0:00:01\n",
      "   ----------------------- ---------------- 6.3/10.8 MB 5.7 MB/s eta 0:00:01\n",
      "   ----------------------- ---------------- 6.3/10.8 MB 5.7 MB/s eta 0:00:01\n",
      "   ----------------------- ---------------- 6.3/10.8 MB 5.7 MB/s eta 0:00:01\n",
      "   ----------------------- ---------------- 6.4/10.8 MB 4.4 MB/s eta 0:00:02\n",
      "   ------------------------- -------------- 6.8/10.8 MB 4.6 MB/s eta 0:00:01\n",
      "   -------------------------- ------------- 7.3/10.8 MB 4.7 MB/s eta 0:00:01\n",
      "   ----------------------------- ---------- 7.9/10.8 MB 5.0 MB/s eta 0:00:01\n",
      "   ------------------------------- -------- 8.4/10.8 MB 5.2 MB/s eta 0:00:01\n",
      "   ------------------------------- -------- 8.4/10.8 MB 5.1 MB/s eta 0:00:01\n",
      "   ------------------------------- -------- 8.4/10.8 MB 5.1 MB/s eta 0:00:01\n",
      "   ------------------------------- -------- 8.4/10.8 MB 5.1 MB/s eta 0:00:01\n",
      "   ------------------------------- -------- 8.4/10.8 MB 5.1 MB/s eta 0:00:01\n",
      "   ------------------------------- -------- 8.5/10.8 MB 4.6 MB/s eta 0:00:01\n",
      "   --------------------------------- ------ 8.9/10.8 MB 4.7 MB/s eta 0:00:01\n",
      "   ---------------------------------- ----- 9.4/10.8 MB 4.8 MB/s eta 0:00:01\n",
      "   ------------------------------------ --- 9.9/10.8 MB 4.9 MB/s eta 0:00:01\n",
      "   -------------------------------------- - 10.4/10.8 MB 5.1 MB/s eta 0:00:01\n",
      "   ---------------------------------------  10.8/10.8 MB 5.1 MB/s eta 0:00:01\n",
      "   ---------------------------------------- 10.8/10.8 MB 5.0 MB/s eta 0:00:00\n",
      "Downloading plotly-5.21.0-py3-none-any.whl (15.7 MB)\n",
      "   ---------------------------------------- 0.0/15.7 MB ? eta -:--:--\n",
      "   - -------------------------------------- 0.6/15.7 MB 11.8 MB/s eta 0:00:02\n",
      "   -- ------------------------------------- 1.1/15.7 MB 11.9 MB/s eta 0:00:02\n",
      "   ---- ----------------------------------- 1.8/15.7 MB 12.6 MB/s eta 0:00:02\n",
      "   ------ --------------------------------- 2.4/15.7 MB 13.0 MB/s eta 0:00:02\n",
      "   -------- ------------------------------- 3.1/15.7 MB 13.3 MB/s eta 0:00:01\n",
      "   --------- ------------------------------ 3.8/15.7 MB 13.5 MB/s eta 0:00:01\n",
      "   ----------- ---------------------------- 4.5/15.7 MB 13.5 MB/s eta 0:00:01\n",
      "   ------------- -------------------------- 5.2/15.7 MB 13.7 MB/s eta 0:00:01\n",
      "   -------------- ------------------------- 5.8/15.7 MB 13.7 MB/s eta 0:00:01\n",
      "   ---------------- ----------------------- 6.5/15.7 MB 13.8 MB/s eta 0:00:01\n",
      "   ------------------ --------------------- 7.2/15.7 MB 13.9 MB/s eta 0:00:01\n",
      "   -------------------- ------------------- 7.9/15.7 MB 14.0 MB/s eta 0:00:01\n",
      "   --------------------- ------------------ 8.5/15.7 MB 13.9 MB/s eta 0:00:01\n",
      "   ----------------------- ---------------- 9.2/15.7 MB 14.0 MB/s eta 0:00:01\n",
      "   ------------------------- -------------- 9.9/15.7 MB 14.0 MB/s eta 0:00:01\n",
      "   -------------------------- ------------- 10.6/15.7 MB 13.9 MB/s eta 0:00:01\n",
      "   ---------------------------- ----------- 11.2/15.7 MB 14.2 MB/s eta 0:00:01\n",
      "   ------------------------------ --------- 11.9/15.7 MB 14.2 MB/s eta 0:00:01\n",
      "   -------------------------------- ------- 12.6/15.7 MB 14.6 MB/s eta 0:00:01\n",
      "   --------------------------------- ------ 13.3/15.7 MB 14.2 MB/s eta 0:00:01\n",
      "   ----------------------------------- ---- 14.0/15.7 MB 14.2 MB/s eta 0:00:01\n",
      "   ------------------------------------- -- 14.7/15.7 MB 14.2 MB/s eta 0:00:01\n",
      "   ---------------------------------------  15.4/15.7 MB 14.2 MB/s eta 0:00:01\n",
      "   ---------------------------------------  15.7/15.7 MB 14.6 MB/s eta 0:00:01\n",
      "   ---------------------------------------- 15.7/15.7 MB 13.6 MB/s eta 0:00:00\n",
      "Downloading plotly_resampler-0.10.0-py3-none-any.whl (80 kB)\n",
      "   ---------------------------------------- 0.0/80.7 kB ? eta -:--:--\n",
      "   ---------------------------------------- 80.7/80.7 kB 4.7 MB/s eta 0:00:00\n",
      "Downloading pmdarima-2.0.4-cp39-cp39-win_amd64.whl (614 kB)\n",
      "   ---------------------------------------- 0.0/615.0 kB ? eta -:--:--\n",
      "   ---------------------------- ----------- 440.3/615.0 kB 9.2 MB/s eta 0:00:01\n",
      "   ---------------------------------------- 615.0/615.0 kB 7.7 MB/s eta 0:00:00\n",
      "Downloading requests-2.31.0-py3-none-any.whl (62 kB)\n",
      "   ---------------------------------------- 0.0/62.6 kB ? eta -:--:--\n",
      "   ---------------------------------------- 62.6/62.6 kB 3.5 MB/s eta 0:00:00\n",
      "Downloading scikit_plot-0.3.7-py3-none-any.whl (33 kB)\n",
      "Downloading scipy-1.11.4-cp39-cp39-win_amd64.whl (44.3 MB)\n",
      "   ---------------------------------------- 0.0/44.3 MB ? eta -:--:--\n",
      "   ---------------------------------------- 0.0/44.3 MB ? eta -:--:--\n",
      "   ---------------------------------------- 0.4/44.3 MB 8.1 MB/s eta 0:00:06\n",
      "    --------------------------------------- 0.7/44.3 MB 7.6 MB/s eta 0:00:06\n",
      "    --------------------------------------- 1.0/44.3 MB 9.5 MB/s eta 0:00:05\n",
      "    --------------------------------------- 1.0/44.3 MB 9.5 MB/s eta 0:00:05\n",
      "    --------------------------------------- 1.0/44.3 MB 9.5 MB/s eta 0:00:05\n",
      "   - -------------------------------------- 1.2/44.3 MB 4.5 MB/s eta 0:00:10\n",
      "   - -------------------------------------- 1.5/44.3 MB 4.7 MB/s eta 0:00:10\n",
      "   - -------------------------------------- 1.9/44.3 MB 5.3 MB/s eta 0:00:08\n",
      "   -- ------------------------------------- 2.5/44.3 MB 5.9 MB/s eta 0:00:08\n",
      "   -- ------------------------------------- 2.8/44.3 MB 6.4 MB/s eta 0:00:07\n",
      "   -- ------------------------------------- 2.8/44.3 MB 5.5 MB/s eta 0:00:08\n",
      "   --- ------------------------------------ 3.5/44.3 MB 6.2 MB/s eta 0:00:07\n",
      "   --- ------------------------------------ 4.2/44.3 MB 6.9 MB/s eta 0:00:06\n",
      "   ---- ----------------------------------- 4.8/44.3 MB 7.2 MB/s eta 0:00:06\n",
      "   ---- ----------------------------------- 5.3/44.3 MB 7.7 MB/s eta 0:00:06\n",
      "   ----- ---------------------------------- 5.9/44.3 MB 7.9 MB/s eta 0:00:05\n",
      "   ----- ---------------------------------- 6.6/44.3 MB 8.2 MB/s eta 0:00:05\n",
      "   ------ --------------------------------- 7.2/44.3 MB 8.6 MB/s eta 0:00:05\n",
      "   ------ --------------------------------- 7.7/44.3 MB 8.6 MB/s eta 0:00:05\n",
      "   ------- -------------------------------- 8.2/44.3 MB 8.8 MB/s eta 0:00:05\n",
      "   -------- ------------------------------- 8.9/44.3 MB 9.0 MB/s eta 0:00:04\n",
      "   -------- ------------------------------- 9.5/44.3 MB 9.2 MB/s eta 0:00:04\n",
      "   --------- ------------------------------ 10.2/44.3 MB 9.4 MB/s eta 0:00:04\n",
      "   --------- ------------------------------ 10.4/44.3 MB 9.4 MB/s eta 0:00:04\n",
      "   --------- ------------------------------ 11.0/44.3 MB 9.5 MB/s eta 0:00:04\n",
      "   ---------- ----------------------------- 11.7/44.3 MB 11.3 MB/s eta 0:00:03\n",
      "   ----------- ---------------------------- 12.4/44.3 MB 11.7 MB/s eta 0:00:03\n",
      "   ----------- ---------------------------- 13.1/44.3 MB 12.8 MB/s eta 0:00:03\n",
      "   ------------ --------------------------- 13.8/44.3 MB 12.8 MB/s eta 0:00:03\n",
      "   ------------- -------------------------- 14.5/44.3 MB 12.8 MB/s eta 0:00:03\n",
      "   ------------- -------------------------- 15.1/44.3 MB 12.8 MB/s eta 0:00:03\n",
      "   -------------- ------------------------- 15.9/44.3 MB 13.1 MB/s eta 0:00:03\n",
      "   -------------- ------------------------- 16.5/44.3 MB 13.1 MB/s eta 0:00:03\n",
      "   --------------- ------------------------ 17.2/44.3 MB 13.4 MB/s eta 0:00:03\n",
      "   ---------------- ----------------------- 17.9/44.3 MB 13.6 MB/s eta 0:00:02\n",
      "   ---------------- ----------------------- 18.6/44.3 MB 13.6 MB/s eta 0:00:02\n",
      "   ----------------- ---------------------- 19.2/44.3 MB 13.6 MB/s eta 0:00:02\n",
      "   ------------------ --------------------- 20.0/44.3 MB 13.9 MB/s eta 0:00:02\n",
      "   ------------------ --------------------- 20.6/44.3 MB 14.6 MB/s eta 0:00:02\n",
      "   ------------------- -------------------- 21.3/44.3 MB 14.6 MB/s eta 0:00:02\n",
      "   ------------------- -------------------- 22.0/44.3 MB 14.5 MB/s eta 0:00:02\n",
      "   -------------------- ------------------- 22.7/44.3 MB 14.6 MB/s eta 0:00:02\n",
      "   --------------------- ------------------ 23.3/44.3 MB 14.6 MB/s eta 0:00:02\n",
      "   --------------------- ------------------ 24.0/44.3 MB 14.6 MB/s eta 0:00:02\n",
      "   ---------------------- ----------------- 24.7/44.3 MB 14.2 MB/s eta 0:00:02\n",
      "   ---------------------- ----------------- 25.3/44.3 MB 14.2 MB/s eta 0:00:02\n",
      "   ----------------------- ---------------- 26.0/44.3 MB 14.2 MB/s eta 0:00:02\n",
      "   ----------------------- ---------------- 26.2/44.3 MB 13.9 MB/s eta 0:00:02\n",
      "   ----------------------- ---------------- 26.2/44.3 MB 13.9 MB/s eta 0:00:02\n",
      "   ----------------------- ---------------- 26.2/44.3 MB 13.9 MB/s eta 0:00:02\n",
      "   ----------------------- ---------------- 26.2/44.3 MB 13.9 MB/s eta 0:00:02\n",
      "   ----------------------- ---------------- 26.2/44.3 MB 13.9 MB/s eta 0:00:02\n",
      "   ----------------------- ---------------- 26.2/44.3 MB 13.9 MB/s eta 0:00:02\n",
      "   ----------------------- ---------------- 26.2/44.3 MB 13.9 MB/s eta 0:00:02\n",
      "   ----------------------- ---------------- 26.2/44.3 MB 13.9 MB/s eta 0:00:02\n",
      "   ----------------------- ---------------- 26.2/44.3 MB 13.9 MB/s eta 0:00:02\n",
      "   ----------------------- ---------------- 26.2/44.3 MB 13.9 MB/s eta 0:00:02\n",
      "   ----------------------- ---------------- 26.3/44.3 MB 8.6 MB/s eta 0:00:03\n",
      "   ------------------------ --------------- 26.8/44.3 MB 8.5 MB/s eta 0:00:03\n",
      "   ------------------------ --------------- 27.5/44.3 MB 8.4 MB/s eta 0:00:02\n",
      "   ------------------------- -------------- 28.1/44.3 MB 8.5 MB/s eta 0:00:02\n",
      "   ------------------------- -------------- 28.4/44.3 MB 8.3 MB/s eta 0:00:02\n",
      "   -------------------------- ------------- 29.0/44.3 MB 8.2 MB/s eta 0:00:02\n",
      "   -------------------------- ------------- 29.7/44.3 MB 8.2 MB/s eta 0:00:02\n",
      "   --------------------------- ------------ 30.4/44.3 MB 8.3 MB/s eta 0:00:02\n",
      "   ---------------------------- ----------- 31.0/44.3 MB 8.3 MB/s eta 0:00:02\n",
      "   ---------------------------- ----------- 31.8/44.3 MB 8.3 MB/s eta 0:00:02\n",
      "   ----------------------------- ---------- 32.3/44.3 MB 8.2 MB/s eta 0:00:02\n",
      "   ----------------------------- ---------- 32.4/44.3 MB 8.1 MB/s eta 0:00:02\n",
      "   ----------------------------- ---------- 32.8/44.3 MB 7.9 MB/s eta 0:00:02\n",
      "   ------------------------------ --------- 33.5/44.3 MB 7.8 MB/s eta 0:00:02\n",
      "   ------------------------------ --------- 34.1/44.3 MB 7.8 MB/s eta 0:00:02\n",
      "   ------------------------------- -------- 34.8/44.3 MB 7.8 MB/s eta 0:00:02\n",
      "   -------------------------------- ------- 35.4/44.3 MB 7.8 MB/s eta 0:00:02\n",
      "   -------------------------------- ------- 36.1/44.3 MB 7.8 MB/s eta 0:00:02\n",
      "   --------------------------------- ------ 36.8/44.3 MB 12.6 MB/s eta 0:00:01\n",
      "   --------------------------------- ------ 37.4/44.3 MB 12.6 MB/s eta 0:00:01\n",
      "   ---------------------------------- ----- 38.2/44.3 MB 12.6 MB/s eta 0:00:01\n",
      "   ----------------------------------- ---- 38.8/44.3 MB 13.4 MB/s eta 0:00:01\n",
      "   ----------------------------------- ---- 39.5/44.3 MB 13.4 MB/s eta 0:00:01\n",
      "   ------------------------------------ --- 40.2/44.3 MB 13.4 MB/s eta 0:00:01\n",
      "   ------------------------------------ --- 40.9/44.3 MB 13.4 MB/s eta 0:00:01\n",
      "   ------------------------------------- -- 41.5/44.3 MB 13.1 MB/s eta 0:00:01\n",
      "   -------------------------------------- - 42.2/44.3 MB 13.1 MB/s eta 0:00:01\n",
      "   -------------------------------------- - 42.9/44.3 MB 14.6 MB/s eta 0:00:01\n",
      "   ---------------------------------------  43.6/44.3 MB 14.6 MB/s eta 0:00:01\n",
      "   ---------------------------------------  44.3/44.3 MB 14.6 MB/s eta 0:00:01\n",
      "   ---------------------------------------  44.3/44.3 MB 14.6 MB/s eta 0:00:01\n",
      "   ---------------------------------------  44.3/44.3 MB 14.6 MB/s eta 0:00:01\n",
      "   ---------------------------------------  44.3/44.3 MB 14.6 MB/s eta 0:00:01\n",
      "   ---------------------------------------- 44.3/44.3 MB 11.7 MB/s eta 0:00:00\n",
      "Downloading statsmodels-0.14.2-cp39-cp39-win_amd64.whl (9.9 MB)\n",
      "   ---------------------------------------- 0.0/9.9 MB ? eta -:--:--\n",
      "   - -------------------------------------- 0.5/9.9 MB 15.2 MB/s eta 0:00:01\n",
      "   ---- ----------------------------------- 1.1/9.9 MB 14.3 MB/s eta 0:00:01\n",
      "   ------- -------------------------------- 1.8/9.9 MB 14.4 MB/s eta 0:00:01\n",
      "   ---------- ----------------------------- 2.5/9.9 MB 14.5 MB/s eta 0:00:01\n",
      "   ------------ --------------------------- 3.1/9.9 MB 14.3 MB/s eta 0:00:01\n",
      "   --------------- ------------------------ 3.9/9.9 MB 14.4 MB/s eta 0:00:01\n",
      "   ------------------ --------------------- 4.5/9.9 MB 14.5 MB/s eta 0:00:01\n",
      "   --------------------- ------------------ 5.3/9.9 MB 14.6 MB/s eta 0:00:01\n",
      "   ----------------------- ---------------- 5.9/9.9 MB 14.5 MB/s eta 0:00:01\n",
      "   -------------------------- ------------- 6.6/9.9 MB 14.5 MB/s eta 0:00:01\n",
      "   ----------------------------- ---------- 7.2/9.9 MB 14.5 MB/s eta 0:00:01\n",
      "   -------------------------------- ------- 7.9/9.9 MB 14.5 MB/s eta 0:00:01\n",
      "   ---------------------------------- ----- 8.6/9.9 MB 14.4 MB/s eta 0:00:01\n",
      "   ------------------------------------- -- 9.2/9.9 MB 14.4 MB/s eta 0:00:01\n",
      "   ---------------------------------------  9.8/9.9 MB 14.3 MB/s eta 0:00:01\n",
      "   ---------------------------------------- 9.9/9.9 MB 13.4 MB/s eta 0:00:00\n",
      "Downloading tbats-1.1.3-py3-none-any.whl (44 kB)\n",
      "   ---------------------------------------- 0.0/44.0 kB ? eta -:--:--\n",
      "   ---------------------------------------- 44.0/44.0 kB 2.3 MB/s eta 0:00:00\n",
      "Downloading tqdm-4.66.2-py3-none-any.whl (78 kB)\n",
      "   ---------------------------------------- 0.0/78.3 kB ? eta -:--:--\n",
      "   ---------------------------------------- 78.3/78.3 kB 2.2 MB/s eta 0:00:00\n",
      "Downloading yellowbrick-1.5-py3-none-any.whl (282 kB)\n",
      "   ---------------------------------------- 0.0/282.6 kB ? eta -:--:--\n",
      "   ------------------------------------ -- 266.2/282.6 kB 16.0 MB/s eta 0:00:01\n",
      "   ---------------------------------------- 282.6/282.6 kB 5.8 MB/s eta 0:00:00\n",
      "Downloading cloudpickle-3.0.0-py3-none-any.whl (20 kB)\n",
      "Downloading xxhash-3.4.1-cp39-cp39-win_amd64.whl (29 kB)\n",
      "Downloading certifi-2024.2.2-py3-none-any.whl (163 kB)\n",
      "   ---------------------------------------- 0.0/163.8 kB ? eta -:--:--\n",
      "   ---------------------------------------- 163.8/163.8 kB 4.8 MB/s eta 0:00:00\n",
      "Downloading charset_normalizer-3.3.2-cp39-cp39-win_amd64.whl (100 kB)\n",
      "   ---------------------------------------- 0.0/100.4 kB ? eta -:--:--\n",
      "   ---------------------------------------- 100.4/100.4 kB 2.9 MB/s eta 0:00:00\n",
      "Downloading Cython-3.0.10-cp39-cp39-win_amd64.whl (2.8 MB)\n",
      "   ---------------------------------------- 0.0/2.8 MB ? eta -:--:--\n",
      "   -- ------------------------------------- 0.1/2.8 MB 8.3 MB/s eta 0:00:01\n",
      "   ------ --------------------------------- 0.5/2.8 MB 5.6 MB/s eta 0:00:01\n",
      "   ------------ --------------------------- 0.9/2.8 MB 6.1 MB/s eta 0:00:01\n",
      "   --------------------- ------------------ 1.5/2.8 MB 8.0 MB/s eta 0:00:01\n",
      "   ------------------------------- -------- 2.2/2.8 MB 9.4 MB/s eta 0:00:01\n",
      "   ---------------------------------------  2.8/2.8 MB 10.3 MB/s eta 0:00:01\n",
      "   ---------------------------------------- 2.8/2.8 MB 9.3 MB/s eta 0:00:00\n",
      "Downloading dash-2.16.1-py3-none-any.whl (10.2 MB)\n",
      "   ---------------------------------------- 0.0/10.2 MB ? eta -:--:--\n",
      "   - -------------------------------------- 0.3/10.2 MB 9.6 MB/s eta 0:00:02\n",
      "   -- ------------------------------------- 0.7/10.2 MB 8.7 MB/s eta 0:00:02\n",
      "   ---- ----------------------------------- 1.1/10.2 MB 8.8 MB/s eta 0:00:02\n",
      "   ------ --------------------------------- 1.7/10.2 MB 9.8 MB/s eta 0:00:01\n",
      "   --------- ------------------------------ 2.3/10.2 MB 10.5 MB/s eta 0:00:01\n",
      "   ----------- ---------------------------- 2.8/10.2 MB 10.7 MB/s eta 0:00:01\n",
      "   ------------- -------------------------- 3.5/10.2 MB 11.3 MB/s eta 0:00:01\n",
      "   ---------------- ----------------------- 4.2/10.2 MB 11.7 MB/s eta 0:00:01\n",
      "   ------------------- -------------------- 4.9/10.2 MB 12.0 MB/s eta 0:00:01\n",
      "   --------------------- ------------------ 5.6/10.2 MB 12.3 MB/s eta 0:00:01\n",
      "   ------------------------ --------------- 6.3/10.2 MB 12.6 MB/s eta 0:00:01\n",
      "   --------------------------- ------------ 6.9/10.2 MB 12.6 MB/s eta 0:00:01\n",
      "   ----------------------------- ---------- 7.6/10.2 MB 12.9 MB/s eta 0:00:01\n",
      "   -------------------------------- ------- 8.3/10.2 MB 13.0 MB/s eta 0:00:01\n",
      "   ----------------------------------- ---- 9.0/10.2 MB 13.1 MB/s eta 0:00:01\n",
      "   -------------------------------------- - 9.7/10.2 MB 13.2 MB/s eta 0:00:01\n",
      "   ---------------------------------------  10.2/10.2 MB 13.3 MB/s eta 0:00:01\n",
      "   ---------------------------------------- 10.2/10.2 MB 12.8 MB/s eta 0:00:00\n",
      "Downloading dash_core_components-2.0.0-py3-none-any.whl (3.8 kB)\n",
      "Downloading dash_html_components-2.0.0-py3-none-any.whl (4.1 kB)\n",
      "Downloading dash_table-5.0.0-py3-none-any.whl (3.9 kB)\n",
      "Downloading fastjsonschema-2.19.1-py3-none-any.whl (23 kB)\n",
      "Downloading idna-3.7-py3-none-any.whl (66 kB)\n",
      "   ---------------------------------------- 0.0/66.8 kB ? eta -:--:--\n",
      "   ---------------------------------------- 66.8/66.8 kB 3.8 MB/s eta 0:00:00\n",
      "Downloading jsonschema-4.21.1-py3-none-any.whl (85 kB)\n",
      "   ---------------------------------------- 0.0/85.5 kB ? eta -:--:--\n",
      "   ---------------------------------------- 85.5/85.5 kB ? eta 0:00:00\n",
      "Downloading jupyterlab_widgets-3.0.10-py3-none-any.whl (215 kB)\n",
      "   ---------------------------------------- 0.0/215.0 kB ? eta -:--:--\n",
      "   -------------------------------------- - 204.8/215.0 kB 6.3 MB/s eta 0:00:01\n",
      "   ---------------------------------------- 215.0/215.0 kB 4.4 MB/s eta 0:00:00\n",
      "Downloading llvmlite-0.42.0-cp39-cp39-win_amd64.whl (28.1 MB)\n",
      "   ---------------------------------------- 0.0/28.1 MB ? eta -:--:--\n",
      "    --------------------------------------- 0.4/28.1 MB 8.0 MB/s eta 0:00:04\n",
      "   - -------------------------------------- 0.9/28.1 MB 9.1 MB/s eta 0:00:03\n",
      "   -- ------------------------------------- 1.5/28.1 MB 10.8 MB/s eta 0:00:03\n",
      "   --- ------------------------------------ 2.2/28.1 MB 11.7 MB/s eta 0:00:03\n",
      "   ---- ----------------------------------- 2.8/28.1 MB 12.1 MB/s eta 0:00:03\n",
      "   ----- ---------------------------------- 3.6/28.1 MB 12.0 MB/s eta 0:00:03\n",
      "   ----- ---------------------------------- 4.2/28.1 MB 12.8 MB/s eta 0:00:02\n",
      "   ------ --------------------------------- 4.7/28.1 MB 12.6 MB/s eta 0:00:02\n",
      "   ------- -------------------------------- 5.4/28.1 MB 12.8 MB/s eta 0:00:02\n",
      "   -------- ------------------------------- 6.0/28.1 MB 12.5 MB/s eta 0:00:02\n",
      "   --------- ------------------------------ 6.7/28.1 MB 12.6 MB/s eta 0:00:02\n",
      "   ---------- ----------------------------- 7.4/28.1 MB 12.8 MB/s eta 0:00:02\n",
      "   ----------- ---------------------------- 8.1/28.1 MB 13.0 MB/s eta 0:00:02\n",
      "   ------------ --------------------------- 8.8/28.1 MB 13.1 MB/s eta 0:00:02\n",
      "   ------------- -------------------------- 9.5/28.1 MB 13.2 MB/s eta 0:00:02\n",
      "   -------------- ------------------------- 10.2/28.1 MB 13.3 MB/s eta 0:00:02\n",
      "   --------------- ------------------------ 10.8/28.1 MB 13.9 MB/s eta 0:00:02\n",
      "   ---------------- ----------------------- 11.5/28.1 MB 13.9 MB/s eta 0:00:02\n",
      "   ----------------- ---------------------- 12.1/28.1 MB 13.9 MB/s eta 0:00:02\n",
      "   ------------------ --------------------- 12.8/28.1 MB 13.9 MB/s eta 0:00:02\n",
      "   ------------------- -------------------- 13.5/28.1 MB 13.9 MB/s eta 0:00:02\n",
      "   -------------------- ------------------- 14.2/28.1 MB 13.9 MB/s eta 0:00:01\n",
      "   --------------------- ------------------ 14.9/28.1 MB 13.9 MB/s eta 0:00:01\n",
      "   ---------------------- ----------------- 15.6/28.1 MB 14.2 MB/s eta 0:00:01\n",
      "   ----------------------- ---------------- 16.3/28.1 MB 14.6 MB/s eta 0:00:01\n",
      "   ------------------------ --------------- 17.0/28.1 MB 14.6 MB/s eta 0:00:01\n",
      "   ------------------------- -------------- 17.7/28.1 MB 14.6 MB/s eta 0:00:01\n",
      "   -------------------------- ------------- 18.4/28.1 MB 14.6 MB/s eta 0:00:01\n",
      "   --------------------------- ------------ 19.0/28.1 MB 14.5 MB/s eta 0:00:01\n",
      "   ---------------------------- ----------- 19.7/28.1 MB 14.6 MB/s eta 0:00:01\n",
      "   ---------------------------- ----------- 20.3/28.1 MB 14.9 MB/s eta 0:00:01\n",
      "   ----------------------------- ---------- 21.1/28.1 MB 14.6 MB/s eta 0:00:01\n",
      "   ------------------------------ --------- 21.7/28.1 MB 14.6 MB/s eta 0:00:01\n",
      "   ------------------------------- -------- 22.4/28.1 MB 14.6 MB/s eta 0:00:01\n",
      "   -------------------------------- ------- 23.0/28.1 MB 14.6 MB/s eta 0:00:01\n",
      "   --------------------------------- ------ 23.7/28.1 MB 14.6 MB/s eta 0:00:01\n",
      "   ---------------------------------- ----- 24.4/28.1 MB 14.2 MB/s eta 0:00:01\n",
      "   ----------------------------------- ---- 25.0/28.1 MB 14.2 MB/s eta 0:00:01\n",
      "   ------------------------------------ --- 25.7/28.1 MB 14.2 MB/s eta 0:00:01\n",
      "   ------------------------------------- -- 26.3/28.1 MB 14.2 MB/s eta 0:00:01\n",
      "   -------------------------------------- - 27.0/28.1 MB 14.2 MB/s eta 0:00:01\n",
      "   ---------------------------------------  27.6/28.1 MB 14.2 MB/s eta 0:00:01\n",
      "   ---------------------------------------  28.1/28.1 MB 14.2 MB/s eta 0:00:01\n",
      "   ---------------------------------------  28.1/28.1 MB 14.2 MB/s eta 0:00:01\n",
      "   ---------------------------------------  28.1/28.1 MB 14.2 MB/s eta 0:00:01\n",
      "   ---------------------------------------- 28.1/28.1 MB 12.1 MB/s eta 0:00:00\n",
      "Downloading orjson-3.10.1-cp39-none-win_amd64.whl (138 kB)\n",
      "   ---------------------------------------- 0.0/138.9 kB ? eta -:--:--\n",
      "   ---------------------------------------- 138.9/138.9 kB 4.0 MB/s eta 0:00:00\n",
      "Downloading patsy-0.5.6-py2.py3-none-any.whl (233 kB)\n",
      "   ---------------------------------------- 0.0/233.9 kB ? eta -:--:--\n",
      "   ---------------------------------------- 233.9/233.9 kB 4.8 MB/s eta 0:00:00\n",
      "Downloading scikit_base-0.7.7-py3-none-any.whl (129 kB)\n",
      "   ---------------------------------------- 0.0/129.9 kB ? eta -:--:--\n",
      "   ---------------------------------------- 129.9/129.9 kB 3.9 MB/s eta 0:00:00\n",
      "Downloading tenacity-8.2.3-py3-none-any.whl (24 kB)\n",
      "Downloading tsdownsample-0.1.3-cp39-none-win_amd64.whl (923 kB)\n",
      "   ---------------------------------------- 0.0/923.5 kB ? eta -:--:--\n",
      "   --------------------- ----------------- 512.0/923.5 kB 16.2 MB/s eta 0:00:01\n",
      "   --------------------------------------  901.1/923.5 kB 14.1 MB/s eta 0:00:01\n",
      "   ---------------------------------------- 923.5/923.5 kB 9.7 MB/s eta 0:00:00\n",
      "Downloading urllib3-2.2.1-py3-none-any.whl (121 kB)\n",
      "   ---------------------------------------- 0.0/121.1 kB ? eta -:--:--\n",
      "   ------------------------------------- -- 112.6/121.1 kB 3.3 MB/s eta 0:00:01\n",
      "   ---------------------------------------- 121.1/121.1 kB 2.4 MB/s eta 0:00:00\n",
      "Downloading widgetsnbextension-4.0.10-py3-none-any.whl (2.3 MB)\n",
      "   ---------------------------------------- 0.0/2.3 MB ? eta -:--:--\n",
      "   -------- ------------------------------- 0.5/2.3 MB 9.8 MB/s eta 0:00:01\n",
      "   ------------------ --------------------- 1.1/2.3 MB 11.2 MB/s eta 0:00:01\n",
      "   ----------------------------- ---------- 1.7/2.3 MB 12.1 MB/s eta 0:00:01\n",
      "   ---------------------------------------  2.3/2.3 MB 13.3 MB/s eta 0:00:01\n",
      "   ---------------------------------------- 2.3/2.3 MB 12.2 MB/s eta 0:00:00\n",
      "Downloading attrs-23.2.0-py3-none-any.whl (60 kB)\n",
      "   ---------------------------------------- 0.0/60.8 kB ? eta -:--:--\n",
      "   ---------------------------------------- 60.8/60.8 kB 3.4 MB/s eta 0:00:00\n",
      "Downloading flask-3.0.3-py3-none-any.whl (101 kB)\n",
      "   ---------------------------------------- 0.0/101.7 kB ? eta -:--:--\n",
      "   ------------------------------------ --- 92.2/101.7 kB 2.6 MB/s eta 0:00:01\n",
      "   ---------------------------------------- 101.7/101.7 kB 2.0 MB/s eta 0:00:00\n",
      "Downloading jsonschema_specifications-2023.12.1-py3-none-any.whl (18 kB)\n",
      "Downloading referencing-0.34.0-py3-none-any.whl (26 kB)\n",
      "Downloading rpds_py-0.18.0-cp39-none-win_amd64.whl (207 kB)\n",
      "   ---------------------------------------- 0.0/207.0 kB ? eta -:--:--\n",
      "   ---------------------------------------  204.8/207.0 kB 6.3 MB/s eta 0:00:01\n",
      "   ---------------------------------------- 207.0/207.0 kB 4.2 MB/s eta 0:00:00\n",
      "Downloading werkzeug-3.0.2-py3-none-any.whl (226 kB)\n",
      "   ---------------------------------------- 0.0/226.8 kB ? eta -:--:--\n",
      "   ---------------------------------------- 226.8/226.8 kB 4.6 MB/s eta 0:00:00\n",
      "Downloading retrying-1.3.4-py3-none-any.whl (11 kB)\n",
      "Downloading blinker-1.7.0-py3-none-any.whl (13 kB)\n",
      "Downloading click-8.1.7-py3-none-any.whl (97 kB)\n",
      "   ---------------------------------------- 0.0/97.9 kB ? eta -:--:--\n",
      "   ---------------------------------------- 97.9/97.9 kB 5.8 MB/s eta 0:00:00\n",
      "Downloading itsdangerous-2.2.0-py3-none-any.whl (16 kB)\n",
      "Building wheels for collected packages: pyod\n",
      "  Building wheel for pyod (setup.py): started\n",
      "  Building wheel for pyod (setup.py): finished with status 'done'\n",
      "  Created wheel for pyod: filename=pyod-1.1.3-py3-none-any.whl size=190391 sha256=99001a4805d3bd40803213fbb1e6ab990c1cab04559bbf0a90ccf3b60e4070e3\n",
      "  Stored in directory: c:\\users\\pcd\\appdata\\local\\pip\\cache\\wheels\\3d\\9a\\b9\\dfeb4e1378423bcfe45cf4e3e0276bd1c7ad21c0725c9c54fa\n",
      "Successfully built pyod\n",
      "Installing collected packages: kaleido, fastjsonschema, dash-table, dash-html-components, dash-core-components, xxhash, widgetsnbextension, urllib3, tsdownsample, tqdm, tenacity, scipy, scikit-base, schemdraw, rpds-py, retrying, patsy, orjson, markupsafe, llvmlite, jupyterlab-widgets, joblib, itsdangerous, idna, deprecation, Cython, cloudpickle, click, charset-normalizer, certifi, blinker, attrs, Werkzeug, requests, referencing, plotly, pandas, numba, matplotlib, lightgbm, jinja2, yellowbrick, statsmodels, sktime, scikit-plot, pyod, jsonschema-specifications, Flask, pmdarima, jsonschema, ipywidgets, dash, category-encoders, tbats, plotly-resampler, nbformat, pycaret\n",
      "  Attempting uninstall: scipy\n",
      "    Found existing installation: scipy 1.12.0\n",
      "    Uninstalling scipy-1.12.0:\n",
      "      Successfully uninstalled scipy-1.12.0\n",
      "  Attempting uninstall: joblib\n",
      "    Found existing installation: joblib 1.4.0\n",
      "    Uninstalling joblib-1.4.0:\n",
      "      Successfully uninstalled joblib-1.4.0\n",
      "  Attempting uninstall: pandas\n",
      "    Found existing installation: pandas 2.2.1\n",
      "    Uninstalling pandas-2.2.1:\n",
      "      Successfully uninstalled pandas-2.2.1\n",
      "  Attempting uninstall: matplotlib\n",
      "    Found existing installation: matplotlib 3.8.4\n",
      "    Uninstalling matplotlib-3.8.4:\n",
      "      Successfully uninstalled matplotlib-3.8.4\n",
      "Successfully installed Cython-3.0.10 Flask-3.0.3 Werkzeug-3.0.2 attrs-23.2.0 blinker-1.7.0 category-encoders-2.6.3 certifi-2024.2.2 charset-normalizer-3.3.2 click-8.1.7 cloudpickle-3.0.0 dash-2.16.1 dash-core-components-2.0.0 dash-html-components-2.0.0 dash-table-5.0.0 deprecation-2.1.0 fastjsonschema-2.19.1 idna-3.7 ipywidgets-8.1.2 itsdangerous-2.2.0 jinja2-3.1.3 joblib-1.3.2 jsonschema-4.21.1 jsonschema-specifications-2023.12.1 jupyterlab-widgets-3.0.10 kaleido-0.2.1 lightgbm-4.3.0 llvmlite-0.42.0 markupsafe-2.1.5 matplotlib-3.7.5 nbformat-5.10.4 numba-0.59.1 orjson-3.10.1 pandas-2.1.4 patsy-0.5.6 plotly-5.21.0 plotly-resampler-0.10.0 pmdarima-2.0.4 pycaret-3.3.1 pyod-1.1.3 referencing-0.34.0 requests-2.31.0 retrying-1.3.4 rpds-py-0.18.0 schemdraw-0.15 scikit-base-0.7.7 scikit-plot-0.3.7 scipy-1.11.4 sktime-0.26.0 statsmodels-0.14.2 tbats-1.1.3 tenacity-8.2.3 tqdm-4.66.2 tsdownsample-0.1.3 urllib3-2.2.1 widgetsnbextension-4.0.10 xxhash-3.4.1 yellowbrick-1.5\n"
     ]
    },
    {
     "name": "stderr",
     "output_type": "stream",
     "text": [
      "  WARNING: Failed to remove contents in a temporary directory 'C:\\Users\\PCD\\miniconda3\\envs\\t6\\Lib\\site-packages\\~atplotlib.libs'.\n",
      "  You can safely remove it manually.\n",
      "  WARNING: Failed to remove contents in a temporary directory 'C:\\Users\\PCD\\miniconda3\\envs\\t6\\Lib\\site-packages\\~atplotlib'.\n",
      "  You can safely remove it manually.\n"
     ]
    }
   ],
   "source": [
    "!pip install pycaret"
   ]
  },
  {
   "cell_type": "code",
   "execution_count": 60,
   "metadata": {},
   "outputs": [],
   "source": [
    "from pycaret.classification import ClassificationExperiment\n",
    "exp = ClassificationExperiment()"
   ]
  },
  {
   "cell_type": "code",
   "execution_count": 61,
   "metadata": {},
   "outputs": [
    {
     "ename": "NameError",
     "evalue": "name 'y_train' is not defined",
     "output_type": "error",
     "traceback": [
      "\u001b[1;31m---------------------------------------------------------------------------\u001b[0m",
      "\u001b[1;31mNameError\u001b[0m                                 Traceback (most recent call last)",
      "Cell \u001b[1;32mIn[61], line 7\u001b[0m\n\u001b[0;32m      3\u001b[0m exp \u001b[38;5;241m=\u001b[39m ClassificationExperiment()\n\u001b[0;32m      5\u001b[0m seed \u001b[38;5;241m=\u001b[39m \u001b[38;5;241m42\u001b[39m\n\u001b[0;32m      6\u001b[0m exp\u001b[38;5;241m.\u001b[39msetup(\n\u001b[1;32m----> 7\u001b[0m     data\u001b[38;5;241m=\u001b[39m\u001b[43my_train\u001b[49m,\n\u001b[0;32m      8\u001b[0m     target\u001b[38;5;241m=\u001b[39m\u001b[38;5;124m'\u001b[39m\u001b[38;5;124mY\u001b[39m\u001b[38;5;124m'\u001b[39m,\n\u001b[0;32m      9\u001b[0m     session_id\u001b[38;5;241m=\u001b[39mseed,\n\u001b[0;32m     10\u001b[0m     train_size\u001b[38;5;241m=\u001b[39m\u001b[38;5;241m0.8\u001b[39m,\n\u001b[0;32m     11\u001b[0m     fold\u001b[38;5;241m=\u001b[39m\u001b[38;5;241m5\u001b[39m,\n\u001b[0;32m     12\u001b[0m     normalize\u001b[38;5;241m=\u001b[39m\u001b[38;5;28;01mTrue\u001b[39;00m,\n\u001b[0;32m     13\u001b[0m     \u001b[38;5;66;03m#fix_imbalance=True\u001b[39;00m\n\u001b[0;32m     14\u001b[0m )\n",
      "\u001b[1;31mNameError\u001b[0m: name 'y_train' is not defined"
     ]
    }
   ],
   "source": [
    "from pycaret.classification import ClassificationExperiment\n",
    "\n",
    "exp = ClassificationExperiment()\n",
    "\n",
    "seed = 42\n",
    "exp.setup(\n",
    "    data=y_train,\n",
    "    target='Y',\n",
    "    session_id=seed,\n",
    "    train_size=0.8,\n",
    "    fold=5,\n",
    "    normalize=True,\n",
    "    #fix_imbalance=True\n",
    ")"
   ]
  },
  {
   "cell_type": "code",
   "execution_count": null,
   "metadata": {},
   "outputs": [],
   "source": [
    "model = exp.compare_models(sort='Accuracy')"
   ]
  },
  {
   "cell_type": "code",
   "execution_count": null,
   "metadata": {},
   "outputs": [],
   "source": [
    "best_model = exp.tune_model(model, optimize='Accuracy', custom_grid=None)"
   ]
  },
  {
   "cell_type": "code",
   "execution_count": null,
   "metadata": {},
   "outputs": [],
   "source": [
    "exp.evaluate_model(best_model)"
   ]
  },
  {
   "cell_type": "code",
   "execution_count": null,
   "metadata": {},
   "outputs": [],
   "source": [
    "test_data= exp.pipeline.transform(df.drop(columns=['Y'])[6548:])"
   ]
  },
  {
   "cell_type": "code",
   "execution_count": null,
   "metadata": {},
   "outputs": [],
   "source": [
    "y_pred= best_model.predict(test_data)\n",
    "y_pred"
   ]
  },
  {
   "cell_type": "code",
   "execution_count": null,
   "metadata": {},
   "outputs": [],
   "source": [
    "y_df= pd.DataFrame(y_pred)"
   ]
  },
  {
   "cell_type": "markdown",
   "metadata": {},
   "source": [
    " Implement machine learning models to predict student persistence and completion \n",
    "rates. You can start with simple models like logistic regression or decision trees.\n"
   ]
  }
 ],
 "metadata": {
  "kernelspec": {
   "display_name": "Python 3",
   "language": "python",
   "name": "python3"
  },
  "language_info": {
   "codemirror_mode": {
    "name": "ipython",
    "version": 3
   },
   "file_extension": ".py",
   "mimetype": "text/x-python",
   "name": "python",
   "nbconvert_exporter": "python",
   "pygments_lexer": "ipython3",
   "version": "3.9.18"
  }
 },
 "nbformat": 4,
 "nbformat_minor": 2
}
