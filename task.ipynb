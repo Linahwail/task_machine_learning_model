{
 "cells": [
  {
   "cell_type": "code",
   "execution_count": 1,
   "metadata": {},
   "outputs": [],
   "source": [
    "import pandas as pd\n",
    "import matplotlib.pyplot as plt\n",
    "import numpy as np\n",
    "import seaborn as sns \n",
    "import csv"
   ]
  },
  {
   "cell_type": "markdown",
   "metadata": {},
   "source": [
    " Download The datasets"
   ]
  },
  {
   "cell_type": "code",
   "execution_count": 2,
   "metadata": {},
   "outputs": [
    {
     "data": {
      "text/plain": [
       "['.git',\n",
       " 'registration.csv',\n",
       " 'sample_submission.csv',\n",
       " 'task.ipynb',\n",
       " 'test.csv',\n",
       " 'train.csv']"
      ]
     },
     "execution_count": 2,
     "metadata": {},
     "output_type": "execute_result"
    }
   ],
   "source": [
    "import os\n",
    "\n",
    "os.listdir('.')"
   ]
  },
  {
   "cell_type": "code",
   "execution_count": 3,
   "metadata": {},
   "outputs": [],
   "source": [
    "#read the datasets\n",
    "df_train=pd.read_csv(\"train.csv\")\n",
    "df_test=pd.read_csv(\"test.csv\")"
   ]
  },
  {
   "cell_type": "code",
   "execution_count": 4,
   "metadata": {},
   "outputs": [],
   "source": [
    "#merge the datasete\n",
    "df=pd.merge(df_train,df_test)"
   ]
  },
  {
   "cell_type": "markdown",
   "metadata": {},
   "source": [
    " Explore the datasets"
   ]
  },
  {
   "cell_type": "code",
   "execution_count": 5,
   "metadata": {},
   "outputs": [
    {
     "name": "stdout",
     "output_type": "stream",
     "text": [
      "<class 'pandas.core.frame.DataFrame'>\n",
      "RangeIndex: 22 entries, 0 to 21\n",
      "Data columns (total 24 columns):\n",
      " #   Column                          Non-Null Count  Dtype  \n",
      "---  ------                          --------------  -----  \n",
      " 0   Student ID                      22 non-null     object \n",
      " 1   Age                             22 non-null     float64\n",
      " 2   Gender                          22 non-null     object \n",
      " 3   Home Region                     22 non-null     object \n",
      " 4   Home City                       22 non-null     object \n",
      " 5   Program ID                      22 non-null     object \n",
      " 6   Program Main Category Code      22 non-null     object \n",
      " 7   Program Sub Category Code       11 non-null     object \n",
      " 8   Technology Type                 9 non-null      object \n",
      " 9   Program Skill Level             21 non-null     object \n",
      " 10  Program Presentation Method     22 non-null     object \n",
      " 11  Program Start Date              22 non-null     object \n",
      " 12  Program End Date                22 non-null     object \n",
      " 13  Program Days                    22 non-null     int64  \n",
      " 14  Completed Degree                22 non-null     object \n",
      " 15  Level of Education              22 non-null     object \n",
      " 16  Education Speaciality           21 non-null     object \n",
      " 17  College                         9 non-null      object \n",
      " 18  University Degree Score         22 non-null     float64\n",
      " 19  University Degree Score System  22 non-null     float64\n",
      " 20  Employment Status               19 non-null     object \n",
      " 21  Job Type                        5 non-null      object \n",
      " 22  Still Working                   5 non-null      object \n",
      " 23  Y                               22 non-null     int64  \n",
      "dtypes: float64(3), int64(2), object(19)\n",
      "memory usage: 4.2+ KB\n"
     ]
    }
   ],
   "source": [
    "df.info()"
   ]
  },
  {
   "cell_type": "code",
   "execution_count": 6,
   "metadata": {},
   "outputs": [
    {
     "data": {
      "text/html": [
       "<div>\n",
       "<style scoped>\n",
       "    .dataframe tbody tr th:only-of-type {\n",
       "        vertical-align: middle;\n",
       "    }\n",
       "\n",
       "    .dataframe tbody tr th {\n",
       "        vertical-align: top;\n",
       "    }\n",
       "\n",
       "    .dataframe thead th {\n",
       "        text-align: right;\n",
       "    }\n",
       "</style>\n",
       "<table border=\"1\" class=\"dataframe\">\n",
       "  <thead>\n",
       "    <tr style=\"text-align: right;\">\n",
       "      <th></th>\n",
       "      <th>Age</th>\n",
       "      <th>Program Days</th>\n",
       "      <th>University Degree Score</th>\n",
       "      <th>University Degree Score System</th>\n",
       "      <th>Y</th>\n",
       "    </tr>\n",
       "  </thead>\n",
       "  <tbody>\n",
       "    <tr>\n",
       "      <th>count</th>\n",
       "      <td>22.000000</td>\n",
       "      <td>22.000000</td>\n",
       "      <td>22.000000</td>\n",
       "      <td>22.000000</td>\n",
       "      <td>22.000000</td>\n",
       "    </tr>\n",
       "    <tr>\n",
       "      <th>mean</th>\n",
       "      <td>29.272727</td>\n",
       "      <td>25.590909</td>\n",
       "      <td>10.549545</td>\n",
       "      <td>13.409091</td>\n",
       "      <td>0.136364</td>\n",
       "    </tr>\n",
       "    <tr>\n",
       "      <th>std</th>\n",
       "      <td>6.511395</td>\n",
       "      <td>19.689637</td>\n",
       "      <td>22.822862</td>\n",
       "      <td>28.030016</td>\n",
       "      <td>0.351250</td>\n",
       "    </tr>\n",
       "    <tr>\n",
       "      <th>min</th>\n",
       "      <td>20.000000</td>\n",
       "      <td>5.000000</td>\n",
       "      <td>2.000000</td>\n",
       "      <td>4.000000</td>\n",
       "      <td>0.000000</td>\n",
       "    </tr>\n",
       "    <tr>\n",
       "      <th>25%</th>\n",
       "      <td>25.000000</td>\n",
       "      <td>12.000000</td>\n",
       "      <td>3.010000</td>\n",
       "      <td>5.000000</td>\n",
       "      <td>0.000000</td>\n",
       "    </tr>\n",
       "    <tr>\n",
       "      <th>50%</th>\n",
       "      <td>27.000000</td>\n",
       "      <td>19.000000</td>\n",
       "      <td>3.830000</td>\n",
       "      <td>5.000000</td>\n",
       "      <td>0.000000</td>\n",
       "    </tr>\n",
       "    <tr>\n",
       "      <th>75%</th>\n",
       "      <td>33.500000</td>\n",
       "      <td>50.500000</td>\n",
       "      <td>4.472500</td>\n",
       "      <td>5.000000</td>\n",
       "      <td>0.000000</td>\n",
       "    </tr>\n",
       "    <tr>\n",
       "      <th>max</th>\n",
       "      <td>44.000000</td>\n",
       "      <td>59.000000</td>\n",
       "      <td>82.000000</td>\n",
       "      <td>100.000000</td>\n",
       "      <td>1.000000</td>\n",
       "    </tr>\n",
       "  </tbody>\n",
       "</table>\n",
       "</div>"
      ],
      "text/plain": [
       "             Age  Program Days  University Degree Score  \\\n",
       "count  22.000000     22.000000                22.000000   \n",
       "mean   29.272727     25.590909                10.549545   \n",
       "std     6.511395     19.689637                22.822862   \n",
       "min    20.000000      5.000000                 2.000000   \n",
       "25%    25.000000     12.000000                 3.010000   \n",
       "50%    27.000000     19.000000                 3.830000   \n",
       "75%    33.500000     50.500000                 4.472500   \n",
       "max    44.000000     59.000000                82.000000   \n",
       "\n",
       "       University Degree Score System          Y  \n",
       "count                       22.000000  22.000000  \n",
       "mean                        13.409091   0.136364  \n",
       "std                         28.030016   0.351250  \n",
       "min                          4.000000   0.000000  \n",
       "25%                          5.000000   0.000000  \n",
       "50%                          5.000000   0.000000  \n",
       "75%                          5.000000   0.000000  \n",
       "max                        100.000000   1.000000  "
      ]
     },
     "execution_count": 6,
     "metadata": {},
     "output_type": "execute_result"
    }
   ],
   "source": [
    "df.describe()"
   ]
  },
  {
   "cell_type": "code",
   "execution_count": 7,
   "metadata": {},
   "outputs": [
    {
     "data": {
      "text/plain": [
       "(22, 24)"
      ]
     },
     "execution_count": 7,
     "metadata": {},
     "output_type": "execute_result"
    }
   ],
   "source": [
    "df.shape"
   ]
  },
  {
   "cell_type": "code",
   "execution_count": 8,
   "metadata": {},
   "outputs": [
    {
     "data": {
      "text/html": [
       "<div>\n",
       "<style scoped>\n",
       "    .dataframe tbody tr th:only-of-type {\n",
       "        vertical-align: middle;\n",
       "    }\n",
       "\n",
       "    .dataframe tbody tr th {\n",
       "        vertical-align: top;\n",
       "    }\n",
       "\n",
       "    .dataframe thead th {\n",
       "        text-align: right;\n",
       "    }\n",
       "</style>\n",
       "<table border=\"1\" class=\"dataframe\">\n",
       "  <thead>\n",
       "    <tr style=\"text-align: right;\">\n",
       "      <th></th>\n",
       "      <th>Student ID</th>\n",
       "      <th>Age</th>\n",
       "      <th>Gender</th>\n",
       "      <th>Home Region</th>\n",
       "      <th>Home City</th>\n",
       "      <th>Program ID</th>\n",
       "      <th>Program Main Category Code</th>\n",
       "      <th>Program Sub Category Code</th>\n",
       "      <th>Technology Type</th>\n",
       "      <th>Program Skill Level</th>\n",
       "      <th>...</th>\n",
       "      <th>Completed Degree</th>\n",
       "      <th>Level of Education</th>\n",
       "      <th>Education Speaciality</th>\n",
       "      <th>College</th>\n",
       "      <th>University Degree Score</th>\n",
       "      <th>University Degree Score System</th>\n",
       "      <th>Employment Status</th>\n",
       "      <th>Job Type</th>\n",
       "      <th>Still Working</th>\n",
       "      <th>Y</th>\n",
       "    </tr>\n",
       "  </thead>\n",
       "  <tbody>\n",
       "    <tr>\n",
       "      <th>17</th>\n",
       "      <td>026169d9-6052-4d50-805b-7a52f15d5384</td>\n",
       "      <td>23.0</td>\n",
       "      <td>ذكر</td>\n",
       "      <td>منطقة الحدود الشمالية</td>\n",
       "      <td>رفحاء</td>\n",
       "      <td>bfe7c8aa-789e-4239-8043-8e7554fa564a</td>\n",
       "      <td>TOSL</td>\n",
       "      <td>NaN</td>\n",
       "      <td>NaN</td>\n",
       "      <td>متوسط</td>\n",
       "      <td>...</td>\n",
       "      <td>نعم</td>\n",
       "      <td>البكالوريوس</td>\n",
       "      <td>علوم حاسب</td>\n",
       "      <td>NaN</td>\n",
       "      <td>4.98</td>\n",
       "      <td>5.0</td>\n",
       "      <td>موظف</td>\n",
       "      <td>NaN</td>\n",
       "      <td>NaN</td>\n",
       "      <td>0</td>\n",
       "    </tr>\n",
       "    <tr>\n",
       "      <th>18</th>\n",
       "      <td>b0c4a2d0-3bfb-4485-bedd-bf33951e1ac6</td>\n",
       "      <td>25.0</td>\n",
       "      <td>أنثى</td>\n",
       "      <td>منطقة الرياض</td>\n",
       "      <td>الرياض</td>\n",
       "      <td>3dd29418-5f9d-4f1f-88bd-15beb922c745</td>\n",
       "      <td>APMR</td>\n",
       "      <td>NaN</td>\n",
       "      <td>NaN</td>\n",
       "      <td>متوسط</td>\n",
       "      <td>...</td>\n",
       "      <td>نعم</td>\n",
       "      <td>البكالوريوس</td>\n",
       "      <td>علوم حاسب</td>\n",
       "      <td>NaN</td>\n",
       "      <td>4.22</td>\n",
       "      <td>5.0</td>\n",
       "      <td>موظف</td>\n",
       "      <td>NaN</td>\n",
       "      <td>NaN</td>\n",
       "      <td>0</td>\n",
       "    </tr>\n",
       "    <tr>\n",
       "      <th>19</th>\n",
       "      <td>07635383-2679-49e4-a6ff-2ca71139d17a</td>\n",
       "      <td>25.0</td>\n",
       "      <td>ذكر</td>\n",
       "      <td>منطقة الجوف</td>\n",
       "      <td>طبرجل</td>\n",
       "      <td>1f09a274-8f35-41a1-9a5e-61a5f1cb98fc</td>\n",
       "      <td>TOSL</td>\n",
       "      <td>NaN</td>\n",
       "      <td>NaN</td>\n",
       "      <td>متوسط</td>\n",
       "      <td>...</td>\n",
       "      <td>نعم</td>\n",
       "      <td>البكالوريوس</td>\n",
       "      <td>علوم الحاسبات</td>\n",
       "      <td>تكنولوجيا الاتصالات والمعلومات</td>\n",
       "      <td>4.72</td>\n",
       "      <td>5.0</td>\n",
       "      <td>موظف</td>\n",
       "      <td>دوام كامل</td>\n",
       "      <td>Yes</td>\n",
       "      <td>0</td>\n",
       "    </tr>\n",
       "    <tr>\n",
       "      <th>20</th>\n",
       "      <td>46a8c358-353b-4766-9a88-180226d1df7e</td>\n",
       "      <td>24.0</td>\n",
       "      <td>أنثى</td>\n",
       "      <td>منطقة الرياض</td>\n",
       "      <td>الرياض</td>\n",
       "      <td>321e4dc8-c3c4-4173-bca5-59a0bd9f327c</td>\n",
       "      <td>PCRF</td>\n",
       "      <td>PCRF</td>\n",
       "      <td>تقليدية</td>\n",
       "      <td>متوسط</td>\n",
       "      <td>...</td>\n",
       "      <td>نعم</td>\n",
       "      <td>البكالوريوس</td>\n",
       "      <td>معلوماتية صحية</td>\n",
       "      <td>NaN</td>\n",
       "      <td>3.00</td>\n",
       "      <td>5.0</td>\n",
       "      <td>موظف</td>\n",
       "      <td>NaN</td>\n",
       "      <td>NaN</td>\n",
       "      <td>0</td>\n",
       "    </tr>\n",
       "    <tr>\n",
       "      <th>21</th>\n",
       "      <td>dd53ed38-f828-4b04-a8c1-b56be38ec586</td>\n",
       "      <td>35.0</td>\n",
       "      <td>ذكر</td>\n",
       "      <td>منطقة الرياض</td>\n",
       "      <td>الرياض</td>\n",
       "      <td>21c233a1-0101-44e6-8af8-39d545bddaaf</td>\n",
       "      <td>PCRF</td>\n",
       "      <td>PCRF</td>\n",
       "      <td>NaN</td>\n",
       "      <td>NaN</td>\n",
       "      <td>...</td>\n",
       "      <td>نعم</td>\n",
       "      <td>البكالوريوس</td>\n",
       "      <td>نظم المعلومات</td>\n",
       "      <td>تكنولوجيا الاتصالات والمعلومات</td>\n",
       "      <td>3.00</td>\n",
       "      <td>5.0</td>\n",
       "      <td>موظف</td>\n",
       "      <td>دوام كامل</td>\n",
       "      <td>Yes</td>\n",
       "      <td>0</td>\n",
       "    </tr>\n",
       "  </tbody>\n",
       "</table>\n",
       "<p>5 rows × 24 columns</p>\n",
       "</div>"
      ],
      "text/plain": [
       "                              Student ID   Age Gender            Home Region  \\\n",
       "17  026169d9-6052-4d50-805b-7a52f15d5384  23.0    ذكر  منطقة الحدود الشمالية   \n",
       "18  b0c4a2d0-3bfb-4485-bedd-bf33951e1ac6  25.0   أنثى           منطقة الرياض   \n",
       "19  07635383-2679-49e4-a6ff-2ca71139d17a  25.0    ذكر            منطقة الجوف   \n",
       "20  46a8c358-353b-4766-9a88-180226d1df7e  24.0   أنثى           منطقة الرياض   \n",
       "21  dd53ed38-f828-4b04-a8c1-b56be38ec586  35.0    ذكر           منطقة الرياض   \n",
       "\n",
       "   Home City                            Program ID Program Main Category Code  \\\n",
       "17     رفحاء  bfe7c8aa-789e-4239-8043-8e7554fa564a                       TOSL   \n",
       "18    الرياض  3dd29418-5f9d-4f1f-88bd-15beb922c745                       APMR   \n",
       "19     طبرجل  1f09a274-8f35-41a1-9a5e-61a5f1cb98fc                       TOSL   \n",
       "20    الرياض  321e4dc8-c3c4-4173-bca5-59a0bd9f327c                       PCRF   \n",
       "21    الرياض  21c233a1-0101-44e6-8af8-39d545bddaaf                       PCRF   \n",
       "\n",
       "   Program Sub Category Code Technology Type Program Skill Level  ...  \\\n",
       "17                       NaN             NaN               متوسط  ...   \n",
       "18                       NaN             NaN               متوسط  ...   \n",
       "19                       NaN             NaN               متوسط  ...   \n",
       "20                      PCRF         تقليدية               متوسط  ...   \n",
       "21                      PCRF             NaN                 NaN  ...   \n",
       "\n",
       "   Completed Degree Level of Education Education Speaciality  \\\n",
       "17              نعم        البكالوريوس             علوم حاسب   \n",
       "18              نعم        البكالوريوس             علوم حاسب   \n",
       "19              نعم        البكالوريوس         علوم الحاسبات   \n",
       "20              نعم        البكالوريوس        معلوماتية صحية   \n",
       "21              نعم        البكالوريوس         نظم المعلومات   \n",
       "\n",
       "                           College University Degree Score  \\\n",
       "17                             NaN                    4.98   \n",
       "18                             NaN                    4.22   \n",
       "19  تكنولوجيا الاتصالات والمعلومات                    4.72   \n",
       "20                             NaN                    3.00   \n",
       "21  تكنولوجيا الاتصالات والمعلومات                    3.00   \n",
       "\n",
       "   University Degree Score System Employment Status   Job Type  Still Working  \\\n",
       "17                            5.0              موظف        NaN            NaN   \n",
       "18                            5.0              موظف        NaN            NaN   \n",
       "19                            5.0              موظف  دوام كامل            Yes   \n",
       "20                            5.0              موظف        NaN            NaN   \n",
       "21                            5.0              موظف  دوام كامل            Yes   \n",
       "\n",
       "    Y  \n",
       "17  0  \n",
       "18  0  \n",
       "19  0  \n",
       "20  0  \n",
       "21  0  \n",
       "\n",
       "[5 rows x 24 columns]"
      ]
     },
     "execution_count": 8,
     "metadata": {},
     "output_type": "execute_result"
    }
   ],
   "source": [
    "df.tail()"
   ]
  },
  {
   "cell_type": "code",
   "execution_count": 9,
   "metadata": {},
   "outputs": [
    {
     "data": {
      "text/plain": [
       "Index(['Student ID', 'Age', 'Gender', 'Home Region', 'Home City', 'Program ID',\n",
       "       'Program Main Category Code', 'Program Sub Category Code',\n",
       "       'Technology Type', 'Program Skill Level', 'Program Presentation Method',\n",
       "       'Program Start Date', 'Program End Date', 'Program Days',\n",
       "       'Completed Degree', 'Level of Education', 'Education Speaciality',\n",
       "       'College', 'University Degree Score', 'University Degree Score System',\n",
       "       'Employment Status', 'Job Type', 'Still Working', 'Y'],\n",
       "      dtype='object')"
      ]
     },
     "execution_count": 9,
     "metadata": {},
     "output_type": "execute_result"
    }
   ],
   "source": [
    "df.columns"
   ]
  },
  {
   "cell_type": "code",
   "execution_count": 10,
   "metadata": {},
   "outputs": [],
   "source": [
    "#split fueatura and target (X:Fueatura Y:target)\n",
    "X = df.drop(columns=['Y'])\n",
    "y = df['Y']"
   ]
  },
  {
   "cell_type": "markdown",
   "metadata": {},
   "source": [
    "preprocessing "
   ]
  },
  {
   "cell_type": "code",
   "execution_count": 11,
   "metadata": {},
   "outputs": [
    {
     "data": {
      "text/plain": [
       "Student ID                         0\n",
       "Age                                0\n",
       "Gender                             0\n",
       "Home Region                        0\n",
       "Home City                          0\n",
       "Program ID                         0\n",
       "Program Main Category Code         0\n",
       "Program Sub Category Code         11\n",
       "Technology Type                   13\n",
       "Program Skill Level                1\n",
       "Program Presentation Method        0\n",
       "Program Start Date                 0\n",
       "Program End Date                   0\n",
       "Program Days                       0\n",
       "Completed Degree                   0\n",
       "Level of Education                 0\n",
       "Education Speaciality              1\n",
       "College                           13\n",
       "University Degree Score            0\n",
       "University Degree Score System     0\n",
       "Employment Status                  3\n",
       "Job Type                          17\n",
       "Still Working                     17\n",
       "Y                                  0\n",
       "dtype: int64"
      ]
     },
     "execution_count": 11,
     "metadata": {},
     "output_type": "execute_result"
    }
   ],
   "source": [
    "#display the sum of null values in each column\n",
    "df.isna().sum()"
   ]
  },
  {
   "cell_type": "code",
   "execution_count": 12,
   "metadata": {},
   "outputs": [
    {
     "data": {
      "text/plain": [
       "Student ID                         object\n",
       "Age                               float64\n",
       "Gender                             object\n",
       "Home Region                        object\n",
       "Home City                          object\n",
       "Program ID                         object\n",
       "Program Main Category Code         object\n",
       "Program Sub Category Code          object\n",
       "Technology Type                    object\n",
       "Program Skill Level                object\n",
       "Program Presentation Method        object\n",
       "Program Start Date                 object\n",
       "Program End Date                   object\n",
       "Program Days                        int64\n",
       "Completed Degree                   object\n",
       "Level of Education                 object\n",
       "Education Speaciality              object\n",
       "College                            object\n",
       "University Degree Score           float64\n",
       "University Degree Score System    float64\n",
       "Employment Status                  object\n",
       "Job Type                           object\n",
       "Still Working                      object\n",
       "Y                                   int64\n",
       "dtype: object"
      ]
     },
     "execution_count": 12,
     "metadata": {},
     "output_type": "execute_result"
    }
   ],
   "source": [
    "#data types for all\n",
    "df.dtypes"
   ]
  },
  {
   "cell_type": "code",
   "execution_count": 13,
   "metadata": {},
   "outputs": [],
   "source": [
    "#convert float to int\n",
    "df['Age']=df['Age'].astype('int')"
   ]
  },
  {
   "cell_type": "code",
   "execution_count": 14,
   "metadata": {},
   "outputs": [
    {
     "name": "stderr",
     "output_type": "stream",
     "text": [
      "C:\\Users\\Lina\\AppData\\Local\\Temp\\ipykernel_22032\\2663022285.py:2: FutureWarning: A value is trying to be set on a copy of a DataFrame or Series through chained assignment using an inplace method.\n",
      "The behavior will change in pandas 3.0. This inplace method will never work because the intermediate object on which we are setting values always behaves as a copy.\n",
      "\n",
      "For example, when doing 'df[col].method(value, inplace=True)', try using 'df.method({col: value}, inplace=True)' or df[col] = df[col].method(value) instead, to perform the operation inplace on the original object.\n",
      "\n",
      "\n",
      "  df['Age'].fillna(df['Age'].mean() , inplace=True)\n"
     ]
    }
   ],
   "source": [
    "# fill null values\n",
    "df['Age'].fillna(df['Age'].mean() , inplace=True)"
   ]
  },
  {
   "cell_type": "code",
   "execution_count": 15,
   "metadata": {},
   "outputs": [],
   "source": [
    "#drop the student id and program id\n",
    "df = df.drop(['Student ID','Program ID'], axis=1)"
   ]
  },
  {
   "cell_type": "code",
   "execution_count": 16,
   "metadata": {},
   "outputs": [
    {
     "name": "stdout",
     "output_type": "stream",
     "text": [
      "Gender\n",
      "ذكر     14\n",
      "أنثى     8\n",
      "Name: count, dtype: int64\n"
     ]
    }
   ],
   "source": [
    "print(df['Gender'].value_counts())"
   ]
  },
  {
   "cell_type": "code",
   "execution_count": 17,
   "metadata": {},
   "outputs": [
    {
     "name": "stderr",
     "output_type": "stream",
     "text": [
      "C:\\Users\\Lina\\AppData\\Local\\Temp\\ipykernel_22032\\1141015461.py:1: FutureWarning: A value is trying to be set on a copy of a DataFrame or Series through chained assignment using an inplace method.\n",
      "The behavior will change in pandas 3.0. This inplace method will never work because the intermediate object on which we are setting values always behaves as a copy.\n",
      "\n",
      "For example, when doing 'df[col].method(value, inplace=True)', try using 'df.method({col: value}, inplace=True)' or df[col] = df[col].method(value) instead, to perform the operation inplace on the original object.\n",
      "\n",
      "\n",
      "  df['Home Region'].fillna(df['Home Region'].mode()[0], inplace=True)\n",
      "C:\\Users\\Lina\\AppData\\Local\\Temp\\ipykernel_22032\\1141015461.py:2: FutureWarning: A value is trying to be set on a copy of a DataFrame or Series through chained assignment using an inplace method.\n",
      "The behavior will change in pandas 3.0. This inplace method will never work because the intermediate object on which we are setting values always behaves as a copy.\n",
      "\n",
      "For example, when doing 'df[col].method(value, inplace=True)', try using 'df.method({col: value}, inplace=True)' or df[col] = df[col].method(value) instead, to perform the operation inplace on the original object.\n",
      "\n",
      "\n",
      "  df['Home City'].fillna(df['Home City'].mode()[0], inplace=True)\n"
     ]
    }
   ],
   "source": [
    "# fill null values\n",
    "df['Home Region'].fillna(df['Home Region'].mode()[0], inplace=True)\n",
    "df['Home City'].fillna(df['Home City'].mode()[0], inplace=True)"
   ]
  },
  {
   "cell_type": "code",
   "execution_count": 50,
   "metadata": {},
   "outputs": [
    {
     "name": "stderr",
     "output_type": "stream",
     "text": [
      "C:\\Users\\Lina\\AppData\\Local\\Temp\\ipykernel_22032\\400713925.py:2: FutureWarning: A value is trying to be set on a copy of a DataFrame or Series through chained assignment using an inplace method.\n",
      "The behavior will change in pandas 3.0. This inplace method will never work because the intermediate object on which we are setting values always behaves as a copy.\n",
      "\n",
      "For example, when doing 'df[col].method(value, inplace=True)', try using 'df.method({col: value}, inplace=True)' or df[col] = df[col].method(value) instead, to perform the operation inplace on the original object.\n",
      "\n",
      "\n",
      "  df['Program Sub Category Code'].fillna(df['Program Sub Category Code'].mode()[0], inplace=True)\n",
      "C:\\Users\\Lina\\AppData\\Local\\Temp\\ipykernel_22032\\400713925.py:3: FutureWarning: A value is trying to be set on a copy of a DataFrame or Series through chained assignment using an inplace method.\n",
      "The behavior will change in pandas 3.0. This inplace method will never work because the intermediate object on which we are setting values always behaves as a copy.\n",
      "\n",
      "For example, when doing 'df[col].method(value, inplace=True)', try using 'df.method({col: value}, inplace=True)' or df[col] = df[col].method(value) instead, to perform the operation inplace on the original object.\n",
      "\n",
      "\n",
      "  df['Technology Type'].fillna(df['Technology Type'].mode()[0], inplace=True)\n",
      "C:\\Users\\Lina\\AppData\\Local\\Temp\\ipykernel_22032\\400713925.py:4: FutureWarning: A value is trying to be set on a copy of a DataFrame or Series through chained assignment using an inplace method.\n",
      "The behavior will change in pandas 3.0. This inplace method will never work because the intermediate object on which we are setting values always behaves as a copy.\n",
      "\n",
      "For example, when doing 'df[col].method(value, inplace=True)', try using 'df.method({col: value}, inplace=True)' or df[col] = df[col].method(value) instead, to perform the operation inplace on the original object.\n",
      "\n",
      "\n",
      "  df['Program Skill Level'].fillna(df['Program Skill Level'].mode()[0], inplace=True)\n"
     ]
    }
   ],
   "source": [
    "# fill null values\n",
    "df['Program Sub Category Code'].fillna(df['Program Sub Category Code'].mode()[0], inplace=True)\n",
    "df['Technology Type'].fillna(df['Technology Type'].mode()[0], inplace=True)\n",
    "df['Program Skill Level'].fillna(df['Program Skill Level'].mode()[0], inplace=True)\n"
   ]
  },
  {
   "cell_type": "code",
   "execution_count": 21,
   "metadata": {},
   "outputs": [],
   "source": [
    "#df['Program Presentation Method'] = df['Program Presentation Method'].astype(bool) "
   ]
  },
  {
   "cell_type": "code",
   "execution_count": 22,
   "metadata": {},
   "outputs": [],
   "source": [
    "#conert to a datatime \n",
    "df['Program Start Date'] = pd.to_datetime(df['Program Start Date'])\n",
    "df['Program End Date'] = pd.to_datetime(df['Program End Date'])"
   ]
  },
  {
   "cell_type": "code",
   "execution_count": 23,
   "metadata": {},
   "outputs": [],
   "source": [
    "#df['Completed Degree'] = df['Completed Degree'].astype(bool) "
   ]
  },
  {
   "cell_type": "code",
   "execution_count": 52,
   "metadata": {},
   "outputs": [
    {
     "name": "stderr",
     "output_type": "stream",
     "text": [
      "C:\\Users\\Lina\\AppData\\Local\\Temp\\ipykernel_22032\\3622662722.py:2: FutureWarning: A value is trying to be set on a copy of a DataFrame or Series through chained assignment using an inplace method.\n",
      "The behavior will change in pandas 3.0. This inplace method will never work because the intermediate object on which we are setting values always behaves as a copy.\n",
      "\n",
      "For example, when doing 'df[col].method(value, inplace=True)', try using 'df.method({col: value}, inplace=True)' or df[col] = df[col].method(value) instead, to perform the operation inplace on the original object.\n",
      "\n",
      "\n",
      "  df['Level of Education'].fillna(df['Level of Education'].mode()[0], inplace=True)\n",
      "C:\\Users\\Lina\\AppData\\Local\\Temp\\ipykernel_22032\\3622662722.py:3: FutureWarning: A value is trying to be set on a copy of a DataFrame or Series through chained assignment using an inplace method.\n",
      "The behavior will change in pandas 3.0. This inplace method will never work because the intermediate object on which we are setting values always behaves as a copy.\n",
      "\n",
      "For example, when doing 'df[col].method(value, inplace=True)', try using 'df.method({col: value}, inplace=True)' or df[col] = df[col].method(value) instead, to perform the operation inplace on the original object.\n",
      "\n",
      "\n",
      "  df['College'].fillna(df['College'].mode()[0], inplace=True)\n",
      "C:\\Users\\Lina\\AppData\\Local\\Temp\\ipykernel_22032\\3622662722.py:4: FutureWarning: A value is trying to be set on a copy of a DataFrame or Series through chained assignment using an inplace method.\n",
      "The behavior will change in pandas 3.0. This inplace method will never work because the intermediate object on which we are setting values always behaves as a copy.\n",
      "\n",
      "For example, when doing 'df[col].method(value, inplace=True)', try using 'df.method({col: value}, inplace=True)' or df[col] = df[col].method(value) instead, to perform the operation inplace on the original object.\n",
      "\n",
      "\n",
      "  df['University Degree Score'].fillna(df['University Degree Score'].mean() , inplace=True)\n",
      "C:\\Users\\Lina\\AppData\\Local\\Temp\\ipykernel_22032\\3622662722.py:5: FutureWarning: A value is trying to be set on a copy of a DataFrame or Series through chained assignment using an inplace method.\n",
      "The behavior will change in pandas 3.0. This inplace method will never work because the intermediate object on which we are setting values always behaves as a copy.\n",
      "\n",
      "For example, when doing 'df[col].method(value, inplace=True)', try using 'df.method({col: value}, inplace=True)' or df[col] = df[col].method(value) instead, to perform the operation inplace on the original object.\n",
      "\n",
      "\n",
      "  df['University Degree Score System'].fillna(df['University Degree Score System'].mean() , inplace=True)\n",
      "C:\\Users\\Lina\\AppData\\Local\\Temp\\ipykernel_22032\\3622662722.py:6: FutureWarning: A value is trying to be set on a copy of a DataFrame or Series through chained assignment using an inplace method.\n",
      "The behavior will change in pandas 3.0. This inplace method will never work because the intermediate object on which we are setting values always behaves as a copy.\n",
      "\n",
      "For example, when doing 'df[col].method(value, inplace=True)', try using 'df.method({col: value}, inplace=True)' or df[col] = df[col].method(value) instead, to perform the operation inplace on the original object.\n",
      "\n",
      "\n",
      "  df['Education Speaciality'].fillna(df['Education Speaciality'].mode()[0], inplace=True)\n"
     ]
    }
   ],
   "source": [
    "# fill null values\n",
    "df['Level of Education'].fillna(df['Level of Education'].mode()[0], inplace=True)\n",
    "df['College'].fillna(df['College'].mode()[0], inplace=True)\n",
    "df['University Degree Score'].fillna(df['University Degree Score'].mean() , inplace=True)\n",
    "df['University Degree Score System'].fillna(df['University Degree Score System'].mean() , inplace=True)\n",
    "df['Education Speaciality'].fillna(df['Education Speaciality'].mode()[0], inplace=True)"
   ]
  },
  {
   "cell_type": "code",
   "execution_count": 28,
   "metadata": {},
   "outputs": [
    {
     "data": {
      "text/plain": [
       "0                          علوم الحاسبات\n",
       "1                              علوم حاسب\n",
       "2                     شبكات الحاسب الآلي\n",
       "3                          علوم الحاسبات\n",
       "4                                 محاسبة\n",
       "5                 Information technology\n",
       "6                        تقنية المعلومات\n",
       "7     Computer Network and Communication\n",
       "8                              غير متخصص\n",
       "9                          علوم الحاسبات\n",
       "10                            هندسة حاسب\n",
       "11                        هندسة حاسب آلي\n",
       "12                         علوم الحاسبات\n",
       "13                         علوم الحاسبات\n",
       "14                             علوم حاسب\n",
       "15                بكالوريس خدمة اجتماعيه\n",
       "16                         نظم المعلومات\n",
       "17                             علوم حاسب\n",
       "18                             علوم حاسب\n",
       "19                         علوم الحاسبات\n",
       "20                        معلوماتية صحية\n",
       "21                         نظم المعلومات\n",
       "Name: Education Speaciality, dtype: object"
      ]
     },
     "execution_count": 28,
     "metadata": {},
     "output_type": "execute_result"
    }
   ],
   "source": [
    "#to know the major \n",
    "df['Education Speaciality']"
   ]
  },
  {
   "cell_type": "code",
   "execution_count": 29,
   "metadata": {},
   "outputs": [],
   "source": [
    "#convert the name of major to one name \n",
    "df['Education Speaciality']=df['Education Speaciality'].replace({'Computer Science':\"علوم الحاسب\"})\n",
    "df['Education Speaciality']=df['Education Speaciality'].replace({'Information technology': 'تقنية المعلومات'})\n",
    "df['Education Speaciality']=df['Education Speaciality'].replace({'Cyber security': 'أمن سيبراني'})\n",
    "df['Education Speaciality']=df['Education Speaciality'].replace({'امن سيبراني': 'أمن سيبراني'})"
   ]
  },
  {
   "cell_type": "code",
   "execution_count": 30,
   "metadata": {},
   "outputs": [],
   "source": [
    "#convert the name of major to one name\n",
    "df['Education Speaciality']=df['Education Speaciality'].replace({'علوم الحاسبات':\"علوم الحاسب\"})\n",
    "df['Education Speaciality']=df['Education Speaciality'].replace({'علوم حاسب':\"علوم الحاسب\"})"
   ]
  },
  {
   "cell_type": "code",
   "execution_count": 31,
   "metadata": {},
   "outputs": [],
   "source": [
    "#convert the name of major to one name\n",
    "df['Education Speaciality'] = df['Education Speaciality'].replace({\n",
    "    'هندسة برمجيات': 'هندسة البرمجيات',\n",
    "    'هندسة حاسب': 'هندسة البرمجيات',\n",
    "   'هندسة الحاسب': 'هندسة البرمجيات',\n",
    "    'Software Engineering': 'هندسة البرمجيات',\n",
    "    'هندسة حاسب آلي': 'هندسة البرمجيات ',\n",
    "   \"هندسة تقنية برمجيات\": 'هندسة البرمجيات',\n",
    "    \"هندسةالبرمجيات\": \"هندسة البرمجيات\",\n",
    "})"
   ]
  },
  {
   "cell_type": "code",
   "execution_count": 32,
   "metadata": {},
   "outputs": [],
   "source": [
    "#convert the name of major to one name\n",
    "df['Education Speaciality']=df['Education Speaciality'].replace({\"Computer Network and Communication\":\"شبكات الحاسب الآلي\"})"
   ]
  },
  {
   "cell_type": "code",
   "execution_count": 33,
   "metadata": {},
   "outputs": [],
   "source": [
    "#convert the name of major to one name\n",
    "df['Education Speaciality'] = df['Education Speaciality'].replace({\n",
    "    'MIS': 'نظم المعلومات الإدارية',\n",
    "    'نظم معلومات إدارية': 'نظم المعلومات الإدارية',\n",
    "   \"نظم معلومات ادارية\": 'نظم المعلومات الإدارية',\n",
    "})\n"
   ]
  },
  {
   "cell_type": "code",
   "execution_count": 34,
   "metadata": {},
   "outputs": [],
   "source": [
    "#convert the name of major to one name\n",
    "df['Education Speaciality'] = df['Education Speaciality'].replace({\n",
    "    'Information Systems': 'نظم المعلومات',\n",
    "    'Computer Information Systems': 'نظم المعلومات',\n",
    "    'نظم معلومات': 'نظم المعلومات',\n",
    "    'نظم المعلومات الحاسوبية': 'نظم المعلومات',\n",
    "    'نظم معلومات الحاسوبية': 'نظم المعلومات'\n",
    "})\n"
   ]
  },
  {
   "cell_type": "code",
   "execution_count": 35,
   "metadata": {},
   "outputs": [
    {
     "data": {
      "text/plain": [
       "Education Speaciality\n",
       "علوم الحاسب               10\n",
       "شبكات الحاسب الآلي         2\n",
       "تقنية المعلومات            2\n",
       "نظم المعلومات              2\n",
       "محاسبة                     1\n",
       "غير متخصص                  1\n",
       "هندسة البرمجيات            1\n",
       "هندسة البرمجيات            1\n",
       "بكالوريس خدمة اجتماعيه     1\n",
       "معلوماتية صحية             1\n",
       "Name: count, dtype: int64"
      ]
     },
     "execution_count": 35,
     "metadata": {},
     "output_type": "execute_result"
    }
   ],
   "source": [
    "df['Education Speaciality'].value_counts()"
   ]
  },
  {
   "cell_type": "code",
   "execution_count": 53,
   "metadata": {},
   "outputs": [
    {
     "name": "stderr",
     "output_type": "stream",
     "text": [
      "C:\\Users\\Lina\\AppData\\Local\\Temp\\ipykernel_22032\\3249025697.py:2: FutureWarning: A value is trying to be set on a copy of a DataFrame or Series through chained assignment using an inplace method.\n",
      "The behavior will change in pandas 3.0. This inplace method will never work because the intermediate object on which we are setting values always behaves as a copy.\n",
      "\n",
      "For example, when doing 'df[col].method(value, inplace=True)', try using 'df.method({col: value}, inplace=True)' or df[col] = df[col].method(value) instead, to perform the operation inplace on the original object.\n",
      "\n",
      "\n",
      "  df['Job Type'].fillna(df['Job Type'].mode()[0], inplace=True)\n",
      "C:\\Users\\Lina\\AppData\\Local\\Temp\\ipykernel_22032\\3249025697.py:3: FutureWarning: A value is trying to be set on a copy of a DataFrame or Series through chained assignment using an inplace method.\n",
      "The behavior will change in pandas 3.0. This inplace method will never work because the intermediate object on which we are setting values always behaves as a copy.\n",
      "\n",
      "For example, when doing 'df[col].method(value, inplace=True)', try using 'df.method({col: value}, inplace=True)' or df[col] = df[col].method(value) instead, to perform the operation inplace on the original object.\n",
      "\n",
      "\n",
      "  df['Employment Status'].fillna(df['Employment Status'].mode()[0], inplace=True)\n",
      "C:\\Users\\Lina\\AppData\\Local\\Temp\\ipykernel_22032\\3249025697.py:4: FutureWarning: A value is trying to be set on a copy of a DataFrame or Series through chained assignment using an inplace method.\n",
      "The behavior will change in pandas 3.0. This inplace method will never work because the intermediate object on which we are setting values always behaves as a copy.\n",
      "\n",
      "For example, when doing 'df[col].method(value, inplace=True)', try using 'df.method({col: value}, inplace=True)' or df[col] = df[col].method(value) instead, to perform the operation inplace on the original object.\n",
      "\n",
      "\n",
      "  df['Still Working'].fillna(df['Still Working'].mode()[0], inplace=True)\n"
     ]
    }
   ],
   "source": [
    "#fill the missing \n",
    "df['Job Type'].fillna(df['Job Type'].mode()[0], inplace=True)\n",
    "df['Employment Status'].fillna(df['Employment Status'].mode()[0], inplace=True)\n",
    "df['Still Working'].fillna(df['Still Working'].mode()[0], inplace=True)"
   ]
  },
  {
   "cell_type": "code",
   "execution_count": 37,
   "metadata": {},
   "outputs": [],
   "source": [
    "#df['Still Working'] = df['Still Working'].astype(bool) "
   ]
  },
  {
   "cell_type": "code",
   "execution_count": 39,
   "metadata": {},
   "outputs": [],
   "source": [
    "#conert the target to boolean\n",
    "df['Y'] = df['Y'].astype(bool) "
   ]
  },
  {
   "cell_type": "code",
   "execution_count": 40,
   "metadata": {},
   "outputs": [
    {
     "data": {
      "text/plain": [
       "Y\n",
       "False    19\n",
       "True      3\n",
       "Name: count, dtype: int64"
      ]
     },
     "execution_count": 40,
     "metadata": {},
     "output_type": "execute_result"
    }
   ],
   "source": [
    "df['Y'].value_counts()"
   ]
  },
  {
   "cell_type": "code",
   "execution_count": 42,
   "metadata": {},
   "outputs": [
    {
     "data": {
      "text/plain": [
       "Age                               0\n",
       "Gender                            0\n",
       "Home Region                       0\n",
       "Home City                         0\n",
       "Program Main Category Code        0\n",
       "Program Sub Category Code         0\n",
       "Technology Type                   0\n",
       "Program Skill Level               0\n",
       "Program Presentation Method       0\n",
       "Program Start Date                0\n",
       "Program End Date                  0\n",
       "Program Days                      0\n",
       "Completed Degree                  0\n",
       "Level of Education                0\n",
       "Education Speaciality             0\n",
       "College                           0\n",
       "University Degree Score           0\n",
       "University Degree Score System    0\n",
       "Employment Status                 0\n",
       "Job Type                          0\n",
       "Still Working                     0\n",
       "Y                                 0\n",
       "dtype: int64"
      ]
     },
     "execution_count": 42,
     "metadata": {},
     "output_type": "execute_result"
    }
   ],
   "source": [
    "#cheak the missing value \n",
    "df.isna().sum()"
   ]
  },
  {
   "cell_type": "code",
   "execution_count": 43,
   "metadata": {},
   "outputs": [
    {
     "data": {
      "text/plain": [
       "0"
      ]
     },
     "execution_count": 43,
     "metadata": {},
     "output_type": "execute_result"
    }
   ],
   "source": [
    "#cheak the duplicates\n",
    "df.duplicated().sum()"
   ]
  },
  {
   "cell_type": "code",
   "execution_count": 44,
   "metadata": {},
   "outputs": [],
   "source": [
    "#drop the duplicates\n",
    "df=df.drop_duplicates()"
   ]
  },
  {
   "cell_type": "code",
   "execution_count": 45,
   "metadata": {},
   "outputs": [
    {
     "data": {
      "text/plain": [
       "0"
      ]
     },
     "execution_count": 45,
     "metadata": {},
     "output_type": "execute_result"
    }
   ],
   "source": [
    "#cheak the duplicates\n",
    "df.duplicated().sum()"
   ]
  },
  {
   "cell_type": "code",
   "execution_count": 46,
   "metadata": {},
   "outputs": [],
   "source": [
    "#split the data to categorical and numrical\n",
    "Categorical = df.select_dtypes(include=[object]).columns\n",
    "numerical = df.select_dtypes(include=[int,float]).columns"
   ]
  },
  {
   "cell_type": "markdown",
   "metadata": {},
   "source": [
    " encoding categorical variables"
   ]
  },
  {
   "cell_type": "code",
   "execution_count": 47,
   "metadata": {},
   "outputs": [],
   "source": [
    "#convert categorical to encoding\n",
    "from sklearn.preprocessing import OneHotEncoder\n",
    "#Convert 'Categorical' to a 2D array\n",
    "categorical_2d = Categorical.values.reshape(-1, 1)\n",
    "Encoder=OneHotEncoder(sparse_output=False)\n",
    "E_Categorical=Encoder.fit_transform(categorical_2d)"
   ]
  },
  {
   "cell_type": "markdown",
   "metadata": {},
   "source": [
    "Scaling numerical features"
   ]
  },
  {
   "cell_type": "code",
   "execution_count": 48,
   "metadata": {},
   "outputs": [],
   "source": [
    "#convert numerical to scalling\n",
    "from sklearn.preprocessing import StandardScaler\n",
    "#Convert 'Categorical' to a 2D array\n",
    "numerical_2d = numerical.values.reshape(-1, 1)\n",
    "Scaler=StandardScaler()\n",
    "numerical=Encoder.fit_transform(numerical_2d)"
   ]
  },
  {
   "cell_type": "markdown",
   "metadata": {},
   "source": [
    " Split the preprocessed data into training and testing sets."
   ]
  },
  {
   "cell_type": "code",
   "execution_count": 49,
   "metadata": {},
   "outputs": [],
   "source": [
    "from sklearn.model_selection import train_test_split\n",
    "X_train, X_test, y_train, y_test = train_test_split(X, y, test_size=0.20)"
   ]
  },
  {
   "cell_type": "markdown",
   "metadata": {},
   "source": [
    " Implement machine learning models to predict student persistence and completion \n",
    "rates. You can start with simple models like logistic regression or decision trees.\n"
   ]
  }
 ],
 "metadata": {
  "kernelspec": {
   "display_name": "Python 3",
   "language": "python",
   "name": "python3"
  },
  "language_info": {
   "codemirror_mode": {
    "name": "ipython",
    "version": 3
   },
   "file_extension": ".py",
   "mimetype": "text/x-python",
   "name": "python",
   "nbconvert_exporter": "python",
   "pygments_lexer": "ipython3",
   "version": "3.9.18"
  }
 },
 "nbformat": 4,
 "nbformat_minor": 2
}
