{
 "cells": [
  {
   "cell_type": "code",
   "execution_count": 1,
   "metadata": {},
   "outputs": [],
   "source": [
    "import pandas as pd\n",
    "import matplotlib.pyplot as plt\n",
    "import numpy as np\n",
    "import seaborn as sns \n",
    "import csv"
   ]
  },
  {
   "cell_type": "markdown",
   "metadata": {},
   "source": [
    " Download The datasets"
   ]
  },
  {
   "cell_type": "code",
   "execution_count": 2,
   "metadata": {},
   "outputs": [
    {
     "data": {
      "text/plain": [
       "['registration.csv',\n",
       " 'sample_submission.csv',\n",
       " 'task.ipynb',\n",
       " 'taskML.ipynb',\n",
       " 'test.csv',\n",
       " 'train.csv']"
      ]
     },
     "execution_count": 2,
     "metadata": {},
     "output_type": "execute_result"
    }
   ],
   "source": [
    "import os\n",
    "\n",
    "os.listdir('.')"
   ]
  },
  {
   "cell_type": "code",
   "execution_count": 3,
   "metadata": {},
   "outputs": [],
   "source": [
    "df=pd.read_csv(\"train.csv\")"
   ]
  },
  {
   "cell_type": "markdown",
   "metadata": {},
   "source": [
    " Explore the datasets"
   ]
  },
  {
   "cell_type": "code",
   "execution_count": 4,
   "metadata": {},
   "outputs": [
    {
     "name": "stdout",
     "output_type": "stream",
     "text": [
      "<class 'pandas.core.frame.DataFrame'>\n",
      "RangeIndex: 6548 entries, 0 to 6547\n",
      "Data columns (total 24 columns):\n",
      " #   Column                          Non-Null Count  Dtype  \n",
      "---  ------                          --------------  -----  \n",
      " 0   Student ID                      6548 non-null   object \n",
      " 1   Age                             6456 non-null   float64\n",
      " 2   Gender                          6548 non-null   object \n",
      " 3   Home Region                     6546 non-null   object \n",
      " 4   Home City                       6546 non-null   object \n",
      " 5   Program ID                      6548 non-null   object \n",
      " 6   Program Main Category Code      6548 non-null   object \n",
      " 7   Program Sub Category Code       5613 non-null   object \n",
      " 8   Technology Type                 3566 non-null   object \n",
      " 9   Program Skill Level             4902 non-null   object \n",
      " 10  Program Presentation Method     6548 non-null   object \n",
      " 11  Program Start Date              6548 non-null   object \n",
      " 12  Program End Date                6548 non-null   object \n",
      " 13  Program Days                    6548 non-null   int64  \n",
      " 14  Completed Degree                6548 non-null   object \n",
      " 15  Level of Education              6522 non-null   object \n",
      " 16  Education Speaciality           6271 non-null   object \n",
      " 17  College                         2658 non-null   object \n",
      " 18  University Degree Score         6467 non-null   float64\n",
      " 19  University Degree Score System  6467 non-null   float64\n",
      " 20  Employment Status               5982 non-null   object \n",
      " 21  Job Type                        1981 non-null   object \n",
      " 22  Still Working                   1981 non-null   object \n",
      " 23  Y                               6548 non-null   int64  \n",
      "dtypes: float64(3), int64(2), object(19)\n",
      "memory usage: 1.2+ MB\n"
     ]
    }
   ],
   "source": [
    "df.info()"
   ]
  },
  {
   "cell_type": "code",
   "execution_count": 5,
   "metadata": {},
   "outputs": [
    {
     "data": {
      "text/html": [
       "<div>\n",
       "<style scoped>\n",
       "    .dataframe tbody tr th:only-of-type {\n",
       "        vertical-align: middle;\n",
       "    }\n",
       "\n",
       "    .dataframe tbody tr th {\n",
       "        vertical-align: top;\n",
       "    }\n",
       "\n",
       "    .dataframe thead th {\n",
       "        text-align: right;\n",
       "    }\n",
       "</style>\n",
       "<table border=\"1\" class=\"dataframe\">\n",
       "  <thead>\n",
       "    <tr style=\"text-align: right;\">\n",
       "      <th></th>\n",
       "      <th>Age</th>\n",
       "      <th>Program Days</th>\n",
       "      <th>University Degree Score</th>\n",
       "      <th>University Degree Score System</th>\n",
       "      <th>Y</th>\n",
       "    </tr>\n",
       "  </thead>\n",
       "  <tbody>\n",
       "    <tr>\n",
       "      <th>count</th>\n",
       "      <td>6456.000000</td>\n",
       "      <td>6548.000000</td>\n",
       "      <td>6467.000000</td>\n",
       "      <td>6467.000000</td>\n",
       "      <td>6548.000000</td>\n",
       "    </tr>\n",
       "    <tr>\n",
       "      <th>mean</th>\n",
       "      <td>26.831165</td>\n",
       "      <td>19.691662</td>\n",
       "      <td>8.224432</td>\n",
       "      <td>9.773929</td>\n",
       "      <td>0.158674</td>\n",
       "    </tr>\n",
       "    <tr>\n",
       "      <th>std</th>\n",
       "      <td>5.535967</td>\n",
       "      <td>32.112061</td>\n",
       "      <td>19.120384</td>\n",
       "      <td>21.259962</td>\n",
       "      <td>0.365400</td>\n",
       "    </tr>\n",
       "    <tr>\n",
       "      <th>min</th>\n",
       "      <td>18.000000</td>\n",
       "      <td>3.000000</td>\n",
       "      <td>0.000000</td>\n",
       "      <td>4.000000</td>\n",
       "      <td>0.000000</td>\n",
       "    </tr>\n",
       "    <tr>\n",
       "      <th>25%</th>\n",
       "      <td>23.000000</td>\n",
       "      <td>5.000000</td>\n",
       "      <td>3.300000</td>\n",
       "      <td>5.000000</td>\n",
       "      <td>0.000000</td>\n",
       "    </tr>\n",
       "    <tr>\n",
       "      <th>50%</th>\n",
       "      <td>25.000000</td>\n",
       "      <td>12.000000</td>\n",
       "      <td>4.000000</td>\n",
       "      <td>5.000000</td>\n",
       "      <td>0.000000</td>\n",
       "    </tr>\n",
       "    <tr>\n",
       "      <th>75%</th>\n",
       "      <td>29.000000</td>\n",
       "      <td>19.000000</td>\n",
       "      <td>4.510000</td>\n",
       "      <td>5.000000</td>\n",
       "      <td>0.000000</td>\n",
       "    </tr>\n",
       "    <tr>\n",
       "      <th>max</th>\n",
       "      <td>57.000000</td>\n",
       "      <td>292.000000</td>\n",
       "      <td>100.000000</td>\n",
       "      <td>100.000000</td>\n",
       "      <td>1.000000</td>\n",
       "    </tr>\n",
       "  </tbody>\n",
       "</table>\n",
       "</div>"
      ],
      "text/plain": [
       "               Age  Program Days  University Degree Score  \\\n",
       "count  6456.000000   6548.000000              6467.000000   \n",
       "mean     26.831165     19.691662                 8.224432   \n",
       "std       5.535967     32.112061                19.120384   \n",
       "min      18.000000      3.000000                 0.000000   \n",
       "25%      23.000000      5.000000                 3.300000   \n",
       "50%      25.000000     12.000000                 4.000000   \n",
       "75%      29.000000     19.000000                 4.510000   \n",
       "max      57.000000    292.000000               100.000000   \n",
       "\n",
       "       University Degree Score System            Y  \n",
       "count                     6467.000000  6548.000000  \n",
       "mean                         9.773929     0.158674  \n",
       "std                         21.259962     0.365400  \n",
       "min                          4.000000     0.000000  \n",
       "25%                          5.000000     0.000000  \n",
       "50%                          5.000000     0.000000  \n",
       "75%                          5.000000     0.000000  \n",
       "max                        100.000000     1.000000  "
      ]
     },
     "execution_count": 5,
     "metadata": {},
     "output_type": "execute_result"
    }
   ],
   "source": [
    "df.describe()"
   ]
  },
  {
   "cell_type": "code",
   "execution_count": 6,
   "metadata": {},
   "outputs": [
    {
     "data": {
      "text/plain": [
       "(6548, 24)"
      ]
     },
     "execution_count": 6,
     "metadata": {},
     "output_type": "execute_result"
    }
   ],
   "source": [
    "df.shape"
   ]
  },
  {
   "cell_type": "code",
   "execution_count": 7,
   "metadata": {},
   "outputs": [
    {
     "data": {
      "text/html": [
       "<div>\n",
       "<style scoped>\n",
       "    .dataframe tbody tr th:only-of-type {\n",
       "        vertical-align: middle;\n",
       "    }\n",
       "\n",
       "    .dataframe tbody tr th {\n",
       "        vertical-align: top;\n",
       "    }\n",
       "\n",
       "    .dataframe thead th {\n",
       "        text-align: right;\n",
       "    }\n",
       "</style>\n",
       "<table border=\"1\" class=\"dataframe\">\n",
       "  <thead>\n",
       "    <tr style=\"text-align: right;\">\n",
       "      <th></th>\n",
       "      <th>Student ID</th>\n",
       "      <th>Age</th>\n",
       "      <th>Gender</th>\n",
       "      <th>Home Region</th>\n",
       "      <th>Home City</th>\n",
       "      <th>Program ID</th>\n",
       "      <th>Program Main Category Code</th>\n",
       "      <th>Program Sub Category Code</th>\n",
       "      <th>Technology Type</th>\n",
       "      <th>Program Skill Level</th>\n",
       "      <th>...</th>\n",
       "      <th>Completed Degree</th>\n",
       "      <th>Level of Education</th>\n",
       "      <th>Education Speaciality</th>\n",
       "      <th>College</th>\n",
       "      <th>University Degree Score</th>\n",
       "      <th>University Degree Score System</th>\n",
       "      <th>Employment Status</th>\n",
       "      <th>Job Type</th>\n",
       "      <th>Still Working</th>\n",
       "      <th>Y</th>\n",
       "    </tr>\n",
       "  </thead>\n",
       "  <tbody>\n",
       "    <tr>\n",
       "      <th>0</th>\n",
       "      <td>4f14c50d-162e-4a15-9cf0-ec129c33bcf0</td>\n",
       "      <td>37.0</td>\n",
       "      <td>ذكر</td>\n",
       "      <td>منطقة الرياض</td>\n",
       "      <td>الرياض</td>\n",
       "      <td>453686d8-4023-4506-b2df-fac8b059ac26</td>\n",
       "      <td>PCRF</td>\n",
       "      <td>PCRF</td>\n",
       "      <td>NaN</td>\n",
       "      <td>NaN</td>\n",
       "      <td>...</td>\n",
       "      <td>نعم</td>\n",
       "      <td>البكالوريوس</td>\n",
       "      <td>هندسة حاسب الالي</td>\n",
       "      <td>NaN</td>\n",
       "      <td>2.44</td>\n",
       "      <td>4.0</td>\n",
       "      <td>غير موظف</td>\n",
       "      <td>NaN</td>\n",
       "      <td>NaN</td>\n",
       "      <td>0</td>\n",
       "    </tr>\n",
       "    <tr>\n",
       "      <th>1</th>\n",
       "      <td>0599d409-876b-41a5-af05-749ef0e77d32</td>\n",
       "      <td>21.0</td>\n",
       "      <td>ذكر</td>\n",
       "      <td>منطقة عسير</td>\n",
       "      <td>خميس مشيط</td>\n",
       "      <td>cc8e4e42-65d5-4fa1-82f9-6c6c2d508b60</td>\n",
       "      <td>APMR</td>\n",
       "      <td>SWPS</td>\n",
       "      <td>NaN</td>\n",
       "      <td>متوسط</td>\n",
       "      <td>...</td>\n",
       "      <td>نعم</td>\n",
       "      <td>البكالوريوس</td>\n",
       "      <td>الإذاعة والتلفزيون والفيلم</td>\n",
       "      <td>الفنون والعلوم الإنسانية</td>\n",
       "      <td>5.00</td>\n",
       "      <td>5.0</td>\n",
       "      <td>طالب</td>\n",
       "      <td>NaN</td>\n",
       "      <td>NaN</td>\n",
       "      <td>0</td>\n",
       "    </tr>\n",
       "    <tr>\n",
       "      <th>2</th>\n",
       "      <td>38a11c0e-4afc-4261-9c64-e94cc0a272fb</td>\n",
       "      <td>24.0</td>\n",
       "      <td>ذكر</td>\n",
       "      <td>منطقة الرياض</td>\n",
       "      <td>الرياض</td>\n",
       "      <td>e006900d-05a9-4c2b-a36f-0ffb9fce44cd</td>\n",
       "      <td>APMR</td>\n",
       "      <td>NaN</td>\n",
       "      <td>NaN</td>\n",
       "      <td>متوسط</td>\n",
       "      <td>...</td>\n",
       "      <td>نعم</td>\n",
       "      <td>البكالوريوس</td>\n",
       "      <td>Information Technology</td>\n",
       "      <td>NaN</td>\n",
       "      <td>3.50</td>\n",
       "      <td>5.0</td>\n",
       "      <td>موظف</td>\n",
       "      <td>NaN</td>\n",
       "      <td>NaN</td>\n",
       "      <td>0</td>\n",
       "    </tr>\n",
       "    <tr>\n",
       "      <th>3</th>\n",
       "      <td>1693e85b-f80e-40ce-846f-395ddcece6d3</td>\n",
       "      <td>23.0</td>\n",
       "      <td>ذكر</td>\n",
       "      <td>منطقة الرياض</td>\n",
       "      <td>الرياض</td>\n",
       "      <td>2ec15f6b-233b-428a-b9f5-e40bc8d14cf9</td>\n",
       "      <td>TOSL</td>\n",
       "      <td>TOSL</td>\n",
       "      <td>NaN</td>\n",
       "      <td>NaN</td>\n",
       "      <td>...</td>\n",
       "      <td>نعم</td>\n",
       "      <td>البكالوريوس</td>\n",
       "      <td>حوسبة تطبيقية - (مسار شبكات الحاسب)</td>\n",
       "      <td>NaN</td>\n",
       "      <td>3.55</td>\n",
       "      <td>5.0</td>\n",
       "      <td>خريج</td>\n",
       "      <td>NaN</td>\n",
       "      <td>NaN</td>\n",
       "      <td>0</td>\n",
       "    </tr>\n",
       "    <tr>\n",
       "      <th>4</th>\n",
       "      <td>98a0e8d0-5f80-4634-afd8-322aa0902863</td>\n",
       "      <td>23.0</td>\n",
       "      <td>ذكر</td>\n",
       "      <td>منطقة الرياض</td>\n",
       "      <td>الرياض</td>\n",
       "      <td>d32da0e9-1aed-48c3-992d-a22f9ccc741e</td>\n",
       "      <td>CAUF</td>\n",
       "      <td>SWPS</td>\n",
       "      <td>تقليدية</td>\n",
       "      <td>متوسط</td>\n",
       "      <td>...</td>\n",
       "      <td>لا</td>\n",
       "      <td>البكالوريوس</td>\n",
       "      <td>نظم المعلومات الحاسوبية</td>\n",
       "      <td>تكنولوجيا الاتصالات والمعلومات</td>\n",
       "      <td>4.00</td>\n",
       "      <td>5.0</td>\n",
       "      <td>NaN</td>\n",
       "      <td>NaN</td>\n",
       "      <td>NaN</td>\n",
       "      <td>0</td>\n",
       "    </tr>\n",
       "  </tbody>\n",
       "</table>\n",
       "<p>5 rows × 24 columns</p>\n",
       "</div>"
      ],
      "text/plain": [
       "                             Student ID   Age Gender   Home Region  Home City  \\\n",
       "0  4f14c50d-162e-4a15-9cf0-ec129c33bcf0  37.0    ذكر  منطقة الرياض     الرياض   \n",
       "1  0599d409-876b-41a5-af05-749ef0e77d32  21.0    ذكر    منطقة عسير  خميس مشيط   \n",
       "2  38a11c0e-4afc-4261-9c64-e94cc0a272fb  24.0    ذكر  منطقة الرياض     الرياض   \n",
       "3  1693e85b-f80e-40ce-846f-395ddcece6d3  23.0    ذكر  منطقة الرياض     الرياض   \n",
       "4  98a0e8d0-5f80-4634-afd8-322aa0902863  23.0    ذكر  منطقة الرياض     الرياض   \n",
       "\n",
       "                             Program ID Program Main Category Code  \\\n",
       "0  453686d8-4023-4506-b2df-fac8b059ac26                       PCRF   \n",
       "1  cc8e4e42-65d5-4fa1-82f9-6c6c2d508b60                       APMR   \n",
       "2  e006900d-05a9-4c2b-a36f-0ffb9fce44cd                       APMR   \n",
       "3  2ec15f6b-233b-428a-b9f5-e40bc8d14cf9                       TOSL   \n",
       "4  d32da0e9-1aed-48c3-992d-a22f9ccc741e                       CAUF   \n",
       "\n",
       "  Program Sub Category Code Technology Type Program Skill Level  ...  \\\n",
       "0                      PCRF             NaN                 NaN  ...   \n",
       "1                      SWPS             NaN               متوسط  ...   \n",
       "2                       NaN             NaN               متوسط  ...   \n",
       "3                      TOSL             NaN                 NaN  ...   \n",
       "4                      SWPS         تقليدية               متوسط  ...   \n",
       "\n",
       "  Completed Degree Level of Education                Education Speaciality  \\\n",
       "0              نعم        البكالوريوس                     هندسة حاسب الالي   \n",
       "1              نعم        البكالوريوس           الإذاعة والتلفزيون والفيلم   \n",
       "2              نعم        البكالوريوس               Information Technology   \n",
       "3              نعم        البكالوريوس  حوسبة تطبيقية - (مسار شبكات الحاسب)   \n",
       "4               لا        البكالوريوس              نظم المعلومات الحاسوبية   \n",
       "\n",
       "                          College University Degree Score  \\\n",
       "0                             NaN                    2.44   \n",
       "1        الفنون والعلوم الإنسانية                    5.00   \n",
       "2                             NaN                    3.50   \n",
       "3                             NaN                    3.55   \n",
       "4  تكنولوجيا الاتصالات والمعلومات                    4.00   \n",
       "\n",
       "  University Degree Score System Employment Status Job Type  Still Working  Y  \n",
       "0                            4.0          غير موظف      NaN            NaN  0  \n",
       "1                            5.0              طالب      NaN            NaN  0  \n",
       "2                            5.0              موظف      NaN            NaN  0  \n",
       "3                            5.0              خريج      NaN            NaN  0  \n",
       "4                            5.0               NaN      NaN            NaN  0  \n",
       "\n",
       "[5 rows x 24 columns]"
      ]
     },
     "execution_count": 7,
     "metadata": {},
     "output_type": "execute_result"
    }
   ],
   "source": [
    "df.head()"
   ]
  },
  {
   "cell_type": "code",
   "execution_count": 8,
   "metadata": {},
   "outputs": [
    {
     "data": {
      "text/plain": [
       "Index(['Student ID', 'Age', 'Gender', 'Home Region', 'Home City', 'Program ID',\n",
       "       'Program Main Category Code', 'Program Sub Category Code',\n",
       "       'Technology Type', 'Program Skill Level', 'Program Presentation Method',\n",
       "       'Program Start Date', 'Program End Date', 'Program Days',\n",
       "       'Completed Degree', 'Level of Education', 'Education Speaciality',\n",
       "       'College', 'University Degree Score', 'University Degree Score System',\n",
       "       'Employment Status', 'Job Type', 'Still Working', 'Y'],\n",
       "      dtype='object')"
      ]
     },
     "execution_count": 8,
     "metadata": {},
     "output_type": "execute_result"
    }
   ],
   "source": [
    "df.columns"
   ]
  },
  {
   "cell_type": "code",
   "execution_count": 143,
   "metadata": {},
   "outputs": [],
   "source": [
    "X = df.drop(columns=['Y'])\n",
    "y = df['Y']"
   ]
  },
  {
   "cell_type": "markdown",
   "metadata": {},
   "source": [
    "preprocessing "
   ]
  },
  {
   "cell_type": "code",
   "execution_count": 10,
   "metadata": {},
   "outputs": [
    {
     "data": {
      "text/plain": [
       "Student ID                           0\n",
       "Age                                 92\n",
       "Gender                               0\n",
       "Home Region                          2\n",
       "Home City                            2\n",
       "Program ID                           0\n",
       "Program Main Category Code           0\n",
       "Program Sub Category Code          935\n",
       "Technology Type                   2982\n",
       "Program Skill Level               1646\n",
       "Program Presentation Method          0\n",
       "Program Start Date                   0\n",
       "Program End Date                     0\n",
       "Program Days                         0\n",
       "Completed Degree                     0\n",
       "Level of Education                  26\n",
       "Education Speaciality              277\n",
       "College                           3890\n",
       "University Degree Score             81\n",
       "University Degree Score System      81\n",
       "Employment Status                  566\n",
       "Job Type                          4567\n",
       "Still Working                     4567\n",
       "Y                                    0\n",
       "dtype: int64"
      ]
     },
     "execution_count": 10,
     "metadata": {},
     "output_type": "execute_result"
    }
   ],
   "source": [
    "df.isna().sum()"
   ]
  },
  {
   "cell_type": "code",
   "execution_count": 61,
   "metadata": {},
   "outputs": [],
   "source": [
    "df['Age']=df['Age'].astype('int64')"
   ]
  },
  {
   "cell_type": "code",
   "execution_count": 24,
   "metadata": {},
   "outputs": [
    {
     "data": {
      "text/plain": [
       "6508"
      ]
     },
     "execution_count": 24,
     "metadata": {},
     "output_type": "execute_result"
    }
   ],
   "source": [
    "df['Age'].duplicated().sum()"
   ]
  },
  {
   "cell_type": "code",
   "execution_count": 44,
   "metadata": {},
   "outputs": [
    {
     "name": "stderr",
     "output_type": "stream",
     "text": [
      "C:\\Users\\Lina\\AppData\\Local\\Temp\\ipykernel_21908\\3516665944.py:1: FutureWarning: A value is trying to be set on a copy of a DataFrame or Series through chained assignment using an inplace method.\n",
      "The behavior will change in pandas 3.0. This inplace method will never work because the intermediate object on which we are setting values always behaves as a copy.\n",
      "\n",
      "For example, when doing 'df[col].method(value, inplace=True)', try using 'df.method({col: value}, inplace=True)' or df[col] = df[col].method(value) instead, to perform the operation inplace on the original object.\n",
      "\n",
      "\n",
      "  df['Age'].fillna(df['Age'].mean() , inplace=True)\n"
     ]
    }
   ],
   "source": [
    "df['Age'].fillna(df['Age'].mean() , inplace=True)"
   ]
  },
  {
   "cell_type": "code",
   "execution_count": 63,
   "metadata": {},
   "outputs": [
    {
     "name": "stdout",
     "output_type": "stream",
     "text": [
      "Column 'Student ID' not found in DataFrame\n"
     ]
    }
   ],
   "source": [
    "try:\n",
    "    df = df.drop('Student ID', inplace=True)\n",
    "except KeyError:\n",
    "    print(\"Column 'Student ID' not found in DataFrame\")"
   ]
  },
  {
   "cell_type": "code",
   "execution_count": 64,
   "metadata": {},
   "outputs": [
    {
     "name": "stdout",
     "output_type": "stream",
     "text": [
      "Column 'Program ID' not found in DataFrame\n"
     ]
    }
   ],
   "source": [
    "try:\n",
    "    df = df.drop('Program ID', inplace=True)\n",
    "except KeyError:\n",
    "    print(\"Column 'Program ID' not found in DataFrame\")"
   ]
  },
  {
   "cell_type": "code",
   "execution_count": 28,
   "metadata": {},
   "outputs": [],
   "source": [
    "df['Gender'] = df['Gender'].astype(bool) "
   ]
  },
  {
   "cell_type": "code",
   "execution_count": 47,
   "metadata": {},
   "outputs": [
    {
     "name": "stderr",
     "output_type": "stream",
     "text": [
      "C:\\Users\\Lina\\AppData\\Local\\Temp\\ipykernel_21908\\1141015461.py:1: FutureWarning: A value is trying to be set on a copy of a DataFrame or Series through chained assignment using an inplace method.\n",
      "The behavior will change in pandas 3.0. This inplace method will never work because the intermediate object on which we are setting values always behaves as a copy.\n",
      "\n",
      "For example, when doing 'df[col].method(value, inplace=True)', try using 'df.method({col: value}, inplace=True)' or df[col] = df[col].method(value) instead, to perform the operation inplace on the original object.\n",
      "\n",
      "\n",
      "  df['Home Region'].fillna(df['Home Region'].mode()[0], inplace=True)\n",
      "C:\\Users\\Lina\\AppData\\Local\\Temp\\ipykernel_21908\\1141015461.py:2: FutureWarning: A value is trying to be set on a copy of a DataFrame or Series through chained assignment using an inplace method.\n",
      "The behavior will change in pandas 3.0. This inplace method will never work because the intermediate object on which we are setting values always behaves as a copy.\n",
      "\n",
      "For example, when doing 'df[col].method(value, inplace=True)', try using 'df.method({col: value}, inplace=True)' or df[col] = df[col].method(value) instead, to perform the operation inplace on the original object.\n",
      "\n",
      "\n",
      "  df['Home City'].fillna(df['Home City'].mode()[0], inplace=True)\n"
     ]
    }
   ],
   "source": [
    "df['Home Region'].fillna(df['Home Region'].mode()[0], inplace=True)\n",
    "df['Home City'].fillna(df['Home City'].mode()[0], inplace=True)"
   ]
  },
  {
   "cell_type": "code",
   "execution_count": 45,
   "metadata": {},
   "outputs": [
    {
     "name": "stderr",
     "output_type": "stream",
     "text": [
      "C:\\Users\\Lina\\AppData\\Local\\Temp\\ipykernel_21908\\2722811496.py:1: FutureWarning: A value is trying to be set on a copy of a DataFrame or Series through chained assignment using an inplace method.\n",
      "The behavior will change in pandas 3.0. This inplace method will never work because the intermediate object on which we are setting values always behaves as a copy.\n",
      "\n",
      "For example, when doing 'df[col].method(value, inplace=True)', try using 'df.method({col: value}, inplace=True)' or df[col] = df[col].method(value) instead, to perform the operation inplace on the original object.\n",
      "\n",
      "\n",
      "  df['Program Sub Category Code'].fillna(df['Program Sub Category Code'].mode()[0], inplace=True)\n"
     ]
    }
   ],
   "source": [
    "df['Program Sub Category Code'].fillna(df['Program Sub Category Code'].mode()[0], inplace=True)"
   ]
  },
  {
   "cell_type": "code",
   "execution_count": 54,
   "metadata": {},
   "outputs": [
    {
     "name": "stderr",
     "output_type": "stream",
     "text": [
      "C:\\Users\\Lina\\AppData\\Local\\Temp\\ipykernel_21908\\929195738.py:1: FutureWarning: A value is trying to be set on a copy of a DataFrame or Series through chained assignment using an inplace method.\n",
      "The behavior will change in pandas 3.0. This inplace method will never work because the intermediate object on which we are setting values always behaves as a copy.\n",
      "\n",
      "For example, when doing 'df[col].method(value, inplace=True)', try using 'df.method({col: value}, inplace=True)' or df[col] = df[col].method(value) instead, to perform the operation inplace on the original object.\n",
      "\n",
      "\n",
      "  df['Technology Type'].fillna(df['Technology Type'].mode()[0], inplace=True)\n"
     ]
    }
   ],
   "source": [
    "df['Technology Type'].fillna(df['Technology Type'].mode()[0], inplace=True)"
   ]
  },
  {
   "cell_type": "code",
   "execution_count": 53,
   "metadata": {},
   "outputs": [
    {
     "name": "stderr",
     "output_type": "stream",
     "text": [
      "C:\\Users\\Lina\\AppData\\Local\\Temp\\ipykernel_21908\\473114808.py:1: FutureWarning: A value is trying to be set on a copy of a DataFrame or Series through chained assignment using an inplace method.\n",
      "The behavior will change in pandas 3.0. This inplace method will never work because the intermediate object on which we are setting values always behaves as a copy.\n",
      "\n",
      "For example, when doing 'df[col].method(value, inplace=True)', try using 'df.method({col: value}, inplace=True)' or df[col] = df[col].method(value) instead, to perform the operation inplace on the original object.\n",
      "\n",
      "\n",
      "  df['Program Skill Level'].fillna(df['Program Skill Level'].mode()[0], inplace=True)\n"
     ]
    }
   ],
   "source": [
    "df['Program Skill Level'].fillna(df['Program Skill Level'].mode()[0], inplace=True)"
   ]
  },
  {
   "cell_type": "code",
   "execution_count": 55,
   "metadata": {},
   "outputs": [],
   "source": [
    "df['Program Presentation Method'] = df['Program Presentation Method'].astype(bool) "
   ]
  },
  {
   "cell_type": "code",
   "execution_count": 66,
   "metadata": {},
   "outputs": [],
   "source": [
    "df['Program Start Date'] = pd.to_datetime(df['Program Start Date'])\n",
    "df['Program End Date'] = pd.to_datetime(df['Program End Date'])"
   ]
  },
  {
   "cell_type": "code",
   "execution_count": 69,
   "metadata": {},
   "outputs": [],
   "source": [
    "df['Completed Degree'] = df['Completed Degree'].astype(bool) "
   ]
  },
  {
   "cell_type": "code",
   "execution_count": 70,
   "metadata": {},
   "outputs": [
    {
     "name": "stderr",
     "output_type": "stream",
     "text": [
      "C:\\Users\\Lina\\AppData\\Local\\Temp\\ipykernel_21908\\4090645645.py:1: FutureWarning: A value is trying to be set on a copy of a DataFrame or Series through chained assignment using an inplace method.\n",
      "The behavior will change in pandas 3.0. This inplace method will never work because the intermediate object on which we are setting values always behaves as a copy.\n",
      "\n",
      "For example, when doing 'df[col].method(value, inplace=True)', try using 'df.method({col: value}, inplace=True)' or df[col] = df[col].method(value) instead, to perform the operation inplace on the original object.\n",
      "\n",
      "\n",
      "  df['Level of Education'].fillna(df['Level of Education'].mode()[0], inplace=True)\n"
     ]
    }
   ],
   "source": [
    "df['Level of Education'].fillna(df['Level of Education'].mode()[0], inplace=True)"
   ]
  },
  {
   "cell_type": "code",
   "execution_count": null,
   "metadata": {},
   "outputs": [],
   "source": []
  },
  {
   "cell_type": "code",
   "execution_count": 72,
   "metadata": {},
   "outputs": [
    {
     "name": "stderr",
     "output_type": "stream",
     "text": [
      "C:\\Users\\Lina\\AppData\\Local\\Temp\\ipykernel_21908\\3335214070.py:1: FutureWarning: A value is trying to be set on a copy of a DataFrame or Series through chained assignment using an inplace method.\n",
      "The behavior will change in pandas 3.0. This inplace method will never work because the intermediate object on which we are setting values always behaves as a copy.\n",
      "\n",
      "For example, when doing 'df[col].method(value, inplace=True)', try using 'df.method({col: value}, inplace=True)' or df[col] = df[col].method(value) instead, to perform the operation inplace on the original object.\n",
      "\n",
      "\n",
      "  df['College'].fillna(df['College'].mode()[0], inplace=True)\n"
     ]
    }
   ],
   "source": [
    "df['College'].fillna(df['College'].mode()[0], inplace=True)"
   ]
  },
  {
   "cell_type": "code",
   "execution_count": 73,
   "metadata": {},
   "outputs": [
    {
     "name": "stderr",
     "output_type": "stream",
     "text": [
      "C:\\Users\\Lina\\AppData\\Local\\Temp\\ipykernel_21908\\5621112.py:1: FutureWarning: A value is trying to be set on a copy of a DataFrame or Series through chained assignment using an inplace method.\n",
      "The behavior will change in pandas 3.0. This inplace method will never work because the intermediate object on which we are setting values always behaves as a copy.\n",
      "\n",
      "For example, when doing 'df[col].method(value, inplace=True)', try using 'df.method({col: value}, inplace=True)' or df[col] = df[col].method(value) instead, to perform the operation inplace on the original object.\n",
      "\n",
      "\n",
      "  df['University Degree Score'].fillna(df['University Degree Score'].mean() , inplace=True)\n",
      "C:\\Users\\Lina\\AppData\\Local\\Temp\\ipykernel_21908\\5621112.py:2: FutureWarning: A value is trying to be set on a copy of a DataFrame or Series through chained assignment using an inplace method.\n",
      "The behavior will change in pandas 3.0. This inplace method will never work because the intermediate object on which we are setting values always behaves as a copy.\n",
      "\n",
      "For example, when doing 'df[col].method(value, inplace=True)', try using 'df.method({col: value}, inplace=True)' or df[col] = df[col].method(value) instead, to perform the operation inplace on the original object.\n",
      "\n",
      "\n",
      "  df['University Degree Score System'].fillna(df['University Degree Score System'].mean() , inplace=True)\n"
     ]
    }
   ],
   "source": [
    "df['University Degree Score'].fillna(df['University Degree Score'].mean() , inplace=True)\n",
    "df['University Degree Score System'].fillna(df['University Degree Score System'].mean() , inplace=True)"
   ]
  },
  {
   "cell_type": "code",
   "execution_count": 79,
   "metadata": {},
   "outputs": [
    {
     "name": "stderr",
     "output_type": "stream",
     "text": [
      "C:\\Users\\Lina\\AppData\\Local\\Temp\\ipykernel_21908\\2483464569.py:1: FutureWarning: A value is trying to be set on a copy of a DataFrame or Series through chained assignment using an inplace method.\n",
      "The behavior will change in pandas 3.0. This inplace method will never work because the intermediate object on which we are setting values always behaves as a copy.\n",
      "\n",
      "For example, when doing 'df[col].method(value, inplace=True)', try using 'df.method({col: value}, inplace=True)' or df[col] = df[col].method(value) instead, to perform the operation inplace on the original object.\n",
      "\n",
      "\n",
      "  df['Education Speaciality'].fillna(df['Education Speaciality'].mode()[0], inplace=True)\n"
     ]
    }
   ],
   "source": [
    "df['Education Speaciality'].fillna(df['Education Speaciality'].mode()[0], inplace=True)"
   ]
  },
  {
   "cell_type": "code",
   "execution_count": 80,
   "metadata": {},
   "outputs": [
    {
     "data": {
      "text/plain": [
       "0                          هندسة حاسب الالي\n",
       "1                الإذاعة والتلفزيون والفيلم\n",
       "2                    Information Technology\n",
       "3       حوسبة تطبيقية - (مسار شبكات الحاسب)\n",
       "4                   نظم المعلومات الحاسوبية\n",
       "                       ...                 \n",
       "6543                        تقنية المعلومات\n",
       "6544                            علوم الحاسب\n",
       "6545                          نظم المعلومات\n",
       "6546                        تقنية المعلومات\n",
       "6547                   دراسات وقضايا معاصرة\n",
       "Name: Education Speaciality, Length: 6548, dtype: object"
      ]
     },
     "execution_count": 80,
     "metadata": {},
     "output_type": "execute_result"
    }
   ],
   "source": [
    "df['Education Speaciality']"
   ]
  },
  {
   "cell_type": "code",
   "execution_count": 113,
   "metadata": {},
   "outputs": [],
   "source": [
    "df['Education Speaciality']=df['Education Speaciality'].replace({'Computer Science':\"علوم الحاسب\"})\n",
    "df['Education Speaciality']=df['Education Speaciality'].replace({'Information Technology': 'تقنية المعلومات'})\n",
    "df['Education Speaciality']=df['Education Speaciality'].replace({'Cyber security': 'أمن سيبراني'})\n",
    "df['Education Speaciality']=df['Education Speaciality'].replace({'امن سيبراني': 'أمن سيبراني'})"
   ]
  },
  {
   "cell_type": "code",
   "execution_count": 111,
   "metadata": {},
   "outputs": [],
   "source": [
    "df['Education Speaciality'] = df['Education Speaciality'].replace({\n",
    "    'هندسة برمجيات': 'هندسة البرمجيات',\n",
    "    'هندسة حاسب': 'هندسة البرمجيات',\n",
    "   'هندسة الحاسب': 'هندسة البرمجيات',\n",
    "    'Software Engineering': 'هندسة البرمجيات',\n",
    "    'هندسة حاسب آلي': 'هندسة البرمجيات ',\n",
    "   \"هندسة تقنية برمجيات\": 'هندسة البرمجيات',\n",
    "})"
   ]
  },
  {
   "cell_type": "code",
   "execution_count": 106,
   "metadata": {},
   "outputs": [],
   "source": [
    "df['Education Speaciality'] = df['Education Speaciality'].replace({\n",
    "    'MIS': 'نظم المعلومات الإدارية',\n",
    "    'نظم معلومات إدارية': 'نظم المعلومات الإدارية',\n",
    "   \"نظم معلومات ادارية\": 'نظم المعلومات الإدارية',\n",
    "})\n"
   ]
  },
  {
   "cell_type": "code",
   "execution_count": 109,
   "metadata": {},
   "outputs": [],
   "source": [
    "df['Education Speaciality'] = df['Education Speaciality'].replace({\n",
    "    'Information Systems': 'نظم المعلومات',\n",
    "    'Computer Information Systems': 'نظم المعلومات',\n",
    "    'نظم معلومات': 'نظم المعلومات',\n",
    "    'نظم المعلومات الحاسوبية': 'نظم المعلومات',\n",
    "    'نظم معلومات الحاسوبية': 'نظم المعلومات'\n",
    "})\n"
   ]
  },
  {
   "cell_type": "code",
   "execution_count": 112,
   "metadata": {},
   "outputs": [
    {
     "data": {
      "text/plain": [
       "0                          هندسة حاسب الالي\n",
       "1                الإذاعة والتلفزيون والفيلم\n",
       "2                           تقنية المعلومات\n",
       "3       حوسبة تطبيقية - (مسار شبكات الحاسب)\n",
       "4                             نظم المعلومات\n",
       "                       ...                 \n",
       "6543                        تقنية المعلومات\n",
       "6544                            علوم الحاسب\n",
       "6545                          نظم المعلومات\n",
       "6546                        تقنية المعلومات\n",
       "6547                   دراسات وقضايا معاصرة\n",
       "Name: Education Speaciality, Length: 6548, dtype: object"
      ]
     },
     "execution_count": 112,
     "metadata": {},
     "output_type": "execute_result"
    }
   ],
   "source": [
    "df['Education Speaciality']"
   ]
  },
  {
   "cell_type": "code",
   "execution_count": 115,
   "metadata": {},
   "outputs": [
    {
     "name": "stderr",
     "output_type": "stream",
     "text": [
      "C:\\Users\\Lina\\AppData\\Local\\Temp\\ipykernel_21908\\2794423124.py:1: FutureWarning: A value is trying to be set on a copy of a DataFrame or Series through chained assignment using an inplace method.\n",
      "The behavior will change in pandas 3.0. This inplace method will never work because the intermediate object on which we are setting values always behaves as a copy.\n",
      "\n",
      "For example, when doing 'df[col].method(value, inplace=True)', try using 'df.method({col: value}, inplace=True)' or df[col] = df[col].method(value) instead, to perform the operation inplace on the original object.\n",
      "\n",
      "\n",
      "  df['Job Type'].fillna(df['Job Type'].mode()[0], inplace=True)\n",
      "C:\\Users\\Lina\\AppData\\Local\\Temp\\ipykernel_21908\\2794423124.py:2: FutureWarning: A value is trying to be set on a copy of a DataFrame or Series through chained assignment using an inplace method.\n",
      "The behavior will change in pandas 3.0. This inplace method will never work because the intermediate object on which we are setting values always behaves as a copy.\n",
      "\n",
      "For example, when doing 'df[col].method(value, inplace=True)', try using 'df.method({col: value}, inplace=True)' or df[col] = df[col].method(value) instead, to perform the operation inplace on the original object.\n",
      "\n",
      "\n",
      "  df['Employment Status'].fillna(df['Employment Status'].mode()[0], inplace=True)\n"
     ]
    }
   ],
   "source": [
    "df['Job Type'].fillna(df['Job Type'].mode()[0], inplace=True)\n",
    "df['Employment Status'].fillna(df['Employment Status'].mode()[0], inplace=True)"
   ]
  },
  {
   "cell_type": "code",
   "execution_count": 116,
   "metadata": {},
   "outputs": [],
   "source": [
    "df['Still Working'] = df['Still Working'].astype(bool) "
   ]
  },
  {
   "cell_type": "code",
   "execution_count": 117,
   "metadata": {},
   "outputs": [
    {
     "name": "stderr",
     "output_type": "stream",
     "text": [
      "C:\\Users\\Lina\\AppData\\Local\\Temp\\ipykernel_21908\\3973898233.py:1: FutureWarning: A value is trying to be set on a copy of a DataFrame or Series through chained assignment using an inplace method.\n",
      "The behavior will change in pandas 3.0. This inplace method will never work because the intermediate object on which we are setting values always behaves as a copy.\n",
      "\n",
      "For example, when doing 'df[col].method(value, inplace=True)', try using 'df.method({col: value}, inplace=True)' or df[col] = df[col].method(value) instead, to perform the operation inplace on the original object.\n",
      "\n",
      "\n",
      "  df['Still Working'].fillna(df['Still Working'].mode()[0], inplace=True)\n"
     ]
    }
   ],
   "source": [
    "df['Still Working'].fillna(df['Still Working'].mode()[0], inplace=True)"
   ]
  },
  {
   "cell_type": "code",
   "execution_count": 118,
   "metadata": {},
   "outputs": [],
   "source": [
    "df['Y'] = df['Y'].astype(bool) "
   ]
  },
  {
   "cell_type": "code",
   "execution_count": 119,
   "metadata": {},
   "outputs": [
    {
     "data": {
      "text/plain": [
       "Age                                        int64\n",
       "Gender                                      bool\n",
       "Home Region                               object\n",
       "Home City                                 object\n",
       "Program ID                                object\n",
       "Program Main Category Code                object\n",
       "Program Sub Category Code                 object\n",
       "Technology Type                             bool\n",
       "Program Skill Level                       object\n",
       "Program Presentation Method                 bool\n",
       "Program Start Date                datetime64[ns]\n",
       "Program End Date                  datetime64[ns]\n",
       "Program Days                               int64\n",
       "Completed Degree                            bool\n",
       "Level of Education                        object\n",
       "Education Speaciality                     object\n",
       "College                                   object\n",
       "University Degree Score                  float64\n",
       "University Degree Score System           float64\n",
       "Employment Status                         object\n",
       "Job Type                                  object\n",
       "Still Working                               bool\n",
       "Y                                           bool\n",
       "dtype: object"
      ]
     },
     "execution_count": 119,
     "metadata": {},
     "output_type": "execute_result"
    }
   ],
   "source": [
    "df.dtypes"
   ]
  },
  {
   "cell_type": "code",
   "execution_count": 120,
   "metadata": {},
   "outputs": [
    {
     "data": {
      "text/plain": [
       "Age                               0\n",
       "Gender                            0\n",
       "Home Region                       0\n",
       "Home City                         0\n",
       "Program ID                        0\n",
       "Program Main Category Code        0\n",
       "Program Sub Category Code         0\n",
       "Technology Type                   0\n",
       "Program Skill Level               0\n",
       "Program Presentation Method       0\n",
       "Program Start Date                0\n",
       "Program End Date                  0\n",
       "Program Days                      0\n",
       "Completed Degree                  0\n",
       "Level of Education                0\n",
       "Education Speaciality             0\n",
       "College                           0\n",
       "University Degree Score           0\n",
       "University Degree Score System    0\n",
       "Employment Status                 0\n",
       "Job Type                          0\n",
       "Still Working                     0\n",
       "Y                                 0\n",
       "dtype: int64"
      ]
     },
     "execution_count": 120,
     "metadata": {},
     "output_type": "execute_result"
    }
   ],
   "source": [
    "df.isna().sum()"
   ]
  },
  {
   "cell_type": "code",
   "execution_count": 121,
   "metadata": {},
   "outputs": [
    {
     "data": {
      "text/plain": [
       "102"
      ]
     },
     "execution_count": 121,
     "metadata": {},
     "output_type": "execute_result"
    }
   ],
   "source": [
    "df.duplicated().sum()"
   ]
  },
  {
   "cell_type": "code",
   "execution_count": 123,
   "metadata": {},
   "outputs": [],
   "source": [
    "df=df.drop_duplicates()"
   ]
  },
  {
   "cell_type": "code",
   "execution_count": 124,
   "metadata": {},
   "outputs": [
    {
     "data": {
      "text/plain": [
       "0"
      ]
     },
     "execution_count": 124,
     "metadata": {},
     "output_type": "execute_result"
    }
   ],
   "source": [
    "df.duplicated().sum()"
   ]
  },
  {
   "cell_type": "code",
   "execution_count": 134,
   "metadata": {},
   "outputs": [],
   "source": [
    "Categorical = df.select_dtypes(include=[object]).columns\n",
    "numerical = df.select_dtypes(include=[int,float]).columns"
   ]
  },
  {
   "cell_type": "markdown",
   "metadata": {},
   "source": [
    " encoding categorical variables"
   ]
  },
  {
   "cell_type": "code",
   "execution_count": 135,
   "metadata": {},
   "outputs": [],
   "source": [
    "from sklearn.preprocessing import OneHotEncoder\n",
    "#Convert 'Categorical' to a 2D array\n",
    "categorical_2d = Categorical.values.reshape(-1, 1)\n",
    "Encoder=OneHotEncoder(sparse_output=False)\n",
    "E_Categorical=Encoder.fit_transform(categorical_2d)"
   ]
  },
  {
   "cell_type": "markdown",
   "metadata": {},
   "source": [
    "Scaling numerical features"
   ]
  },
  {
   "cell_type": "code",
   "execution_count": 138,
   "metadata": {},
   "outputs": [],
   "source": [
    "from sklearn.preprocessing import StandardScaler\n",
    "#Convert 'Categorical' to a 2D array\n",
    "numerical_2d = numerical.values.reshape(-1, 1)\n",
    "Scaler=StandardScaler()\n",
    "numerical=Encoder.fit_transform(numerical_2d)"
   ]
  },
  {
   "cell_type": "markdown",
   "metadata": {},
   "source": [
    " Split the preprocessed data into training and testing sets."
   ]
  },
  {
   "cell_type": "code",
   "execution_count": 145,
   "metadata": {},
   "outputs": [],
   "source": [
    "from sklearn.model_selection import train_test_split\n",
    "X_train, X_test, y_train, y_test = train_test_split(X, y, test_size=0.20)"
   ]
  },
  {
   "cell_type": "markdown",
   "metadata": {},
   "source": [
    " Implement machine learning models to predict student persistence and completion \n",
    "rates. You can start with simple models like logistic regression or decision trees.\n"
   ]
  }
 ],
 "metadata": {
  "kernelspec": {
   "display_name": "Python 3",
   "language": "python",
   "name": "python3"
  },
  "language_info": {
   "codemirror_mode": {
    "name": "ipython",
    "version": 3
   },
   "file_extension": ".py",
   "mimetype": "text/x-python",
   "name": "python",
   "nbconvert_exporter": "python",
   "pygments_lexer": "ipython3",
   "version": "3.9.18"
  }
 },
 "nbformat": 4,
 "nbformat_minor": 2
}
